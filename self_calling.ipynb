{
 "cells": [
  {
   "cell_type": "code",
   "execution_count": 1,
   "metadata": {},
   "outputs": [],
   "source": [
    "from ewoks import execute_graph, convert_graph\n",
    "from pathlib import Path\n",
    "from selfcalling import self_calling_2"
   ]
  },
  {
   "cell_type": "code",
   "execution_count": 2,
   "metadata": {},
   "outputs": [
    {
     "name": "stderr",
     "output_type": "stream",
     "text": [
      "INFO:ewokscore.events.global_state:[job 'd27cebcd-0d97-4e4d-bfdf-3e095dfc100e'] job started\n",
      "INFO:ewokscore.events.global_state:[job 'd27cebcd-0d97-4e4d-bfdf-3e095dfc100e'] [workflow 'self_calling_1'] workflow started\n",
      "INFO:ewokscore.events.global_state:[job 'd27cebcd-0d97-4e4d-bfdf-3e095dfc100e'] [workflow 'self_calling_1'] [node 'node_open_mask'] [task 'selfcalling.ProxyOpenDataMask'] task started\n",
      "INFO:ewokscore.events.global_state:[job 'd27cebcd-0d97-4e4d-bfdf-3e095dfc100e'] [workflow 'self_calling_1'] [node 'node_open_mask'] [task 'selfcalling.ProxyOpenDataMask'] task finished\n",
      "INFO:ewokscore.events.global_state:[job 'd27cebcd-0d97-4e4d-bfdf-3e095dfc100e'] [workflow 'self_calling_1'] [node 'node_config'] [task 'ewoksxrpd.tasks.pyfaiconfig.PyFaiConfig'] task started\n",
      "INFO:ewokscore.events.global_state:[job 'd27cebcd-0d97-4e4d-bfdf-3e095dfc100e'] [workflow 'self_calling_1'] [node 'node_config'] [task 'ewoksxrpd.tasks.pyfaiconfig.PyFaiConfig'] task finished\n",
      "INFO:ewokscore.events.global_state:[job 'd27cebcd-0d97-4e4d-bfdf-3e095dfc100e'] [workflow 'self_calling_1'] [node 'node_open'] [task 'selfcalling.ProxyOpenManyData2'] task started\n",
      "INFO:ewokscore.events.global_state:[job 'd27cebcd-0d97-4e4d-bfdf-3e095dfc100e'] [workflow 'self_calling_1'] [node 'node_open'] [task 'selfcalling.ProxyOpenManyData2'] task finished\n",
      "INFO:ewokscore.events.global_state:[job 'd27cebcd-0d97-4e4d-bfdf-3e095dfc100e'] [workflow 'self_calling_1'] [node 'node_print'] [task 'selfcalling.ProxyPrint2'] task started\n"
     ]
    },
    {
     "name": "stdout",
     "output_type": "stream",
     "text": [
      "(2048, 2048)\n",
      "(2048, 2048)"
     ]
    },
    {
     "name": "stderr",
     "output_type": "stream",
     "text": [
      "INFO:ewokscore.events.global_state:[job 'd27cebcd-0d97-4e4d-bfdf-3e095dfc100e'] [workflow 'self_calling_1'] [node 'node_open'] [task 'selfcalling.ProxyOpenManyData2'] task started\n"
     ]
    },
    {
     "name": "stdout",
     "output_type": "stream",
     "text": [
      "\n",
      "{'dist': 0.1945710487399116, 'poni1': 0.09140108239941036, 'poni2': 0.0831203924302883, 'rot1': 0.06326716380102028, 'rot2': -0.054738929703024644, 'rot3': -8.967452065677822e-10}\n",
      "12.4\n",
      "RayonixSx165\n"
     ]
    },
    {
     "name": "stderr",
     "output_type": "stream",
     "text": [
      "INFO:ewokscore.events.global_state:[job 'd27cebcd-0d97-4e4d-bfdf-3e095dfc100e'] [workflow 'self_calling_1'] [node 'node_open'] [task 'selfcalling.ProxyOpenManyData2'] task finished\n",
      "INFO:ewokscore.events.global_state:[job 'd27cebcd-0d97-4e4d-bfdf-3e095dfc100e'] [workflow 'self_calling_1'] [node 'node_print'] [task 'selfcalling.ProxyPrint2'] task finished\n",
      "INFO:ewokscore.events.global_state:[job 'd27cebcd-0d97-4e4d-bfdf-3e095dfc100e'] [workflow 'self_calling_1'] [node 'node_print'] [task 'selfcalling.ProxyPrint2'] task started\n"
     ]
    },
    {
     "name": "stdout",
     "output_type": "stream",
     "text": [
      "(2048, 2048)\n",
      "(2048, 2048)\n",
      "{'dist': 0.1945710487399116, 'poni1': 0.09140108239941036, 'poni2': 0.0831203924302883, 'rot1': 0.06326716380102028, 'rot2': -0.054738929703024644, 'rot3': -8.967452065677822e-10}\n",
      "12.4\n",
      "RayonixSx165"
     ]
    },
    {
     "name": "stderr",
     "output_type": "stream",
     "text": [
      "INFO:ewokscore.events.global_state:[job 'd27cebcd-0d97-4e4d-bfdf-3e095dfc100e'] [workflow 'self_calling_1'] [node 'node_open'] [task 'selfcalling.ProxyOpenManyData2'] task started\n"
     ]
    },
    {
     "name": "stdout",
     "output_type": "stream",
     "text": [
      "\n"
     ]
    },
    {
     "name": "stderr",
     "output_type": "stream",
     "text": [
      "INFO:ewokscore.events.global_state:[job 'd27cebcd-0d97-4e4d-bfdf-3e095dfc100e'] [workflow 'self_calling_1'] [node 'node_print'] [task 'selfcalling.ProxyPrint2'] task finished\n",
      "INFO:ewokscore.events.global_state:[job 'd27cebcd-0d97-4e4d-bfdf-3e095dfc100e'] [workflow 'self_calling_1'] [node 'node_open'] [task 'selfcalling.ProxyOpenManyData2'] task finished\n",
      "INFO:ewokscore.events.global_state:[job 'd27cebcd-0d97-4e4d-bfdf-3e095dfc100e'] [workflow 'self_calling_1'] [node 'node_open'] [task 'selfcalling.ProxyOpenManyData2'] task started\n",
      "INFO:ewokscore.events.global_state:[job 'd27cebcd-0d97-4e4d-bfdf-3e095dfc100e'] [workflow 'self_calling_1'] [node 'node_print'] [task 'selfcalling.ProxyPrint2'] task started\n"
     ]
    },
    {
     "name": "stdout",
     "output_type": "stream",
     "text": [
      "(2048, 2048)\n",
      "(2048, 2048)\n",
      "{'dist': 0.1945710487399116, 'poni1': 0.09140108239941036, 'poni2': 0.0831203924302883, 'rot1': 0.06326716380102028, 'rot2': -0.054738929703024644, 'rot3': -8.967452065677822e-10}\n",
      "12.4\n",
      "RayonixSx165\n"
     ]
    },
    {
     "name": "stderr",
     "output_type": "stream",
     "text": [
      "INFO:ewokscore.events.global_state:[job 'd27cebcd-0d97-4e4d-bfdf-3e095dfc100e'] [workflow 'self_calling_1'] [node 'node_print'] [task 'selfcalling.ProxyPrint2'] task finished\n",
      "INFO:ewokscore.events.global_state:[job 'd27cebcd-0d97-4e4d-bfdf-3e095dfc100e'] [workflow 'self_calling_1'] [node 'node_open'] [task 'selfcalling.ProxyOpenManyData2'] task finished\n",
      "INFO:ewokscore.events.global_state:[job 'd27cebcd-0d97-4e4d-bfdf-3e095dfc100e'] [workflow 'self_calling_1'] [node 'node_print'] [task 'selfcalling.ProxyPrint2'] task started\n"
     ]
    },
    {
     "name": "stdout",
     "output_type": "stream",
     "text": [
      "\n",
      "(2048, 2048)\n",
      "(2048, 2048)\n",
      "{'dist': 0.1945710487399116, 'poni1': 0.09140108239941036, 'poni2': 0.0831203924302883, 'rot1': 0.06326716380102028, 'rot2': -0.054738929703024644, 'rot3': -8.967452065677822e-10}\n",
      "12.4\n",
      "RayonixSx165"
     ]
    },
    {
     "name": "stderr",
     "output_type": "stream",
     "text": [
      "INFO:ewokscore.events.global_state:[job 'd27cebcd-0d97-4e4d-bfdf-3e095dfc100e'] [workflow 'self_calling_1'] [node 'node_print'] [task 'selfcalling.ProxyPrint2'] task finished\n",
      "INFO:ewokscore.events.global_state:[job 'd27cebcd-0d97-4e4d-bfdf-3e095dfc100e'] [workflow 'self_calling_1'] [node 'node_open'] [task 'selfcalling.ProxyOpenManyData2'] task started\n",
      "INFO:ewokscore.events.global_state:[job 'd27cebcd-0d97-4e4d-bfdf-3e095dfc100e'] [workflow 'self_calling_1'] [node 'node_open'] [task 'selfcalling.ProxyOpenManyData2'] task finished\n",
      "INFO:ewokscore.events.global_state:[job 'd27cebcd-0d97-4e4d-bfdf-3e095dfc100e'] [workflow 'self_calling_1'] [node 'node_integrate'] [task 'ewoksxrpd.tasks.integrate.Integrate1D'] task started\n",
      "INFO:ewokscore.events.global_state:[job 'd27cebcd-0d97-4e4d-bfdf-3e095dfc100e'] [workflow 'self_calling_1'] [node 'node_print'] [task 'selfcalling.ProxyPrint2'] task started\n"
     ]
    },
    {
     "name": "stdout",
     "output_type": "stream",
     "text": [
      "(2048, 2048)\n",
      "(2048, 2048)\n",
      "{'dist': 0.1945710487399116, 'poni1': 0.09140108239941036, 'poni2': 0.0831203924302883, 'rot1': 0.06326716380102028, 'rot2': -0.054738929703024644, 'rot3': -8.967452065677822e-10}\n",
      "12.4\n",
      "RayonixSx165\n"
     ]
    },
    {
     "name": "stderr",
     "output_type": "stream",
     "text": [
      "INFO:ewokscore.events.global_state:[job 'd27cebcd-0d97-4e4d-bfdf-3e095dfc100e'] [workflow 'self_calling_1'] [node 'node_print'] [task 'selfcalling.ProxyPrint2'] task finished\n",
      "INFO:ewokscore.events.global_state:[job 'd27cebcd-0d97-4e4d-bfdf-3e095dfc100e'] [workflow 'self_calling_1'] [node 'node_open'] [task 'selfcalling.ProxyOpenManyData2'] task started\n",
      "INFO:ewokscore.events.global_state:[job 'd27cebcd-0d97-4e4d-bfdf-3e095dfc100e'] [workflow 'self_calling_1'] [node 'node_open'] [task 'selfcalling.ProxyOpenManyData2'] task finished\n",
      "INFO:ewokscore.events.global_state:[job 'd27cebcd-0d97-4e4d-bfdf-3e095dfc100e'] [workflow 'self_calling_1'] [node 'node_print'] [task 'selfcalling.ProxyPrint2'] task started\n"
     ]
    },
    {
     "name": "stdout",
     "output_type": "stream",
     "text": [
      "(2048, 2048)\n",
      "RayonixSx165(2048, 2048)\n",
      "{'dist': 0.1945710487399116, 'poni1': 0.09140108239941036, 'poni2': 0.0831203924302883, 'rot1': 0.06326716380102028, 'rot2': -0.054738929703024644, 'rot3': -8.967452065677822e-10}\n",
      "12.4\n",
      "\n"
     ]
    },
    {
     "name": "stderr",
     "output_type": "stream",
     "text": [
      "INFO:ewokscore.events.global_state:[job 'd27cebcd-0d97-4e4d-bfdf-3e095dfc100e'] [workflow 'self_calling_1'] [node 'node_print'] [task 'selfcalling.ProxyPrint2'] task finished\n",
      "INFO:ewokscore.events.global_state:[job 'd27cebcd-0d97-4e4d-bfdf-3e095dfc100e'] [workflow 'self_calling_1'] [node 'node_open'] [task 'selfcalling.ProxyOpenManyData2'] task started\n",
      "INFO:ewokscore.events.global_state:[job 'd27cebcd-0d97-4e4d-bfdf-3e095dfc100e'] [workflow 'self_calling_1'] [node 'node_open'] [task 'selfcalling.ProxyOpenManyData2'] task finished\n",
      "INFO:ewokscore.events.global_state:[job 'd27cebcd-0d97-4e4d-bfdf-3e095dfc100e'] [workflow 'self_calling_1'] [node 'node_integrate'] [task 'ewoksxrpd.tasks.integrate.Integrate1D'] task started\n",
      "INFO:ewokscore.events.global_state:[job 'd27cebcd-0d97-4e4d-bfdf-3e095dfc100e'] [workflow 'self_calling_1'] [node 'node_print'] [task 'selfcalling.ProxyPrint2'] task started\n"
     ]
    },
    {
     "name": "stdout",
     "output_type": "stream",
     "text": [
      "(2048, 2048)\n",
      "(2048, 2048)\n",
      "{'dist': 0.1945710487399116, 'poni1': 0.09140108239941036, 'poni2': 0.0831203924302883, 'rot1': 0.06326716380102028, 'rot2': -0.054738929703024644, 'rot3': -8.967452065677822e-10}\n",
      "12.4\n",
      "RayonixSx165"
     ]
    },
    {
     "name": "stderr",
     "output_type": "stream",
     "text": [
      "INFO:ewokscore.events.global_state:[job 'd27cebcd-0d97-4e4d-bfdf-3e095dfc100e'] [workflow 'self_calling_1'] [node 'node_open'] [task 'selfcalling.ProxyOpenManyData2'] task started\n"
     ]
    },
    {
     "name": "stdout",
     "output_type": "stream",
     "text": [
      "\n"
     ]
    },
    {
     "name": "stderr",
     "output_type": "stream",
     "text": [
      "INFO:ewokscore.events.global_state:[job 'd27cebcd-0d97-4e4d-bfdf-3e095dfc100e'] [workflow 'self_calling_1'] [node 'node_print'] [task 'selfcalling.ProxyPrint2'] task finished\n",
      "INFO:ewokscore.events.global_state:[job 'd27cebcd-0d97-4e4d-bfdf-3e095dfc100e'] [workflow 'self_calling_1'] [node 'node_open'] [task 'selfcalling.ProxyOpenManyData2'] task finished\n",
      "INFO:ewokscore.events.global_state:[job 'd27cebcd-0d97-4e4d-bfdf-3e095dfc100e'] [workflow 'self_calling_1'] [node 'node_integrate'] [task 'ewoksxrpd.tasks.integrate.Integrate1D'] task started\n",
      "INFO:ewokscore.events.global_state:[job 'd27cebcd-0d97-4e4d-bfdf-3e095dfc100e'] [workflow 'self_calling_1'] [node 'node_print'] [task 'selfcalling.ProxyPrint2'] task started\n"
     ]
    },
    {
     "name": "stdout",
     "output_type": "stream",
     "text": [
      "(2048, 2048)\n",
      "(2048, 2048)"
     ]
    },
    {
     "name": "stderr",
     "output_type": "stream",
     "text": [
      "INFO:ewokscore.events.global_state:[job 'd27cebcd-0d97-4e4d-bfdf-3e095dfc100e'] [workflow 'self_calling_1'] [node 'node_open'] [task 'selfcalling.ProxyOpenManyData2'] task started\n"
     ]
    },
    {
     "name": "stdout",
     "output_type": "stream",
     "text": [
      "\n",
      "{'dist': 0.1945710487399116, 'poni1': 0.09140108239941036, 'poni2': 0.0831203924302883, 'rot1': 0.06326716380102028, 'rot2': -0.054738929703024644, 'rot3': -8.967452065677822e-10}\n",
      "12.4\n",
      "RayonixSx165"
     ]
    },
    {
     "name": "stderr",
     "output_type": "stream",
     "text": [
      "INFO:ewokscore.events.global_state:[job 'd27cebcd-0d97-4e4d-bfdf-3e095dfc100e'] [workflow 'self_calling_1'] [node 'node_open'] [task 'selfcalling.ProxyOpenManyData2'] task finished\n"
     ]
    },
    {
     "name": "stdout",
     "output_type": "stream",
     "text": [
      "\n"
     ]
    },
    {
     "name": "stderr",
     "output_type": "stream",
     "text": [
      "INFO:ewokscore.events.global_state:[job 'd27cebcd-0d97-4e4d-bfdf-3e095dfc100e'] [workflow 'self_calling_1'] [node 'node_integrate'] [task 'ewoksxrpd.tasks.integrate.Integrate1D'] task started\n",
      "INFO:ewokscore.events.global_state:[job 'd27cebcd-0d97-4e4d-bfdf-3e095dfc100e'] [workflow 'self_calling_1'] [node 'node_print'] [task 'selfcalling.ProxyPrint2'] task finished\n",
      "INFO:ewokscore.events.global_state:[job 'd27cebcd-0d97-4e4d-bfdf-3e095dfc100e'] [workflow 'self_calling_1'] [node 'node_print'] [task 'selfcalling.ProxyPrint2'] task started\n"
     ]
    },
    {
     "name": "stdout",
     "output_type": "stream",
     "text": [
      "\n",
      "(2048, 2048)(2048, 2048)\n",
      "{'dist': 0.1945710487399116, 'poni1': 0.09140108239941036, 'poni2': 0.0831203924302883, 'rot1': 0.06326716380102028, 'rot2': -0.054738929703024644, 'rot3': -8.967452065677822e-10}\n",
      "12.4\n",
      "RayonixSx165"
     ]
    },
    {
     "name": "stderr",
     "output_type": "stream",
     "text": [
      "INFO:ewokscore.events.global_state:[job 'd27cebcd-0d97-4e4d-bfdf-3e095dfc100e'] [workflow 'self_calling_1'] [node 'node_open'] [task 'selfcalling.ProxyOpenManyData2'] task started\n"
     ]
    },
    {
     "name": "stdout",
     "output_type": "stream",
     "text": [
      "\n"
     ]
    },
    {
     "name": "stderr",
     "output_type": "stream",
     "text": [
      "INFO:ewokscore.events.global_state:[job 'd27cebcd-0d97-4e4d-bfdf-3e095dfc100e'] [workflow 'self_calling_1'] [node 'node_open'] [task 'selfcalling.ProxyOpenManyData2'] task finished\n",
      "INFO:ewokscore.events.global_state:[job 'd27cebcd-0d97-4e4d-bfdf-3e095dfc100e'] [workflow 'self_calling_1'] [node 'node_print'] [task 'selfcalling.ProxyPrint2'] task finished\n",
      "INFO:ewokscore.events.global_state:[job 'd27cebcd-0d97-4e4d-bfdf-3e095dfc100e'] [workflow 'self_calling_1'] [node 'node_print'] [task 'selfcalling.ProxyPrint2'] task started\n"
     ]
    },
    {
     "name": "stdout",
     "output_type": "stream",
     "text": [
      "(2048, 2048)\n"
     ]
    },
    {
     "name": "stderr",
     "output_type": "stream",
     "text": [
      "INFO:ewokscore.events.global_state:[job 'd27cebcd-0d97-4e4d-bfdf-3e095dfc100e'] [workflow 'self_calling_1'] [node 'node_integrate'] [task 'ewoksxrpd.tasks.integrate.Integrate1D'] task started\n"
     ]
    },
    {
     "name": "stdout",
     "output_type": "stream",
     "text": [
      "(2048, 2048)\n",
      "{'dist': 0.1945710487399116, 'poni1': 0.09140108239941036, 'poni2': 0.0831203924302883, 'rot1': 0.06326716380102028, 'rot2': -0.054738929703024644, 'rot3': -8.967452065677822e-10}\n",
      "12.4\n"
     ]
    },
    {
     "name": "stderr",
     "output_type": "stream",
     "text": [
      "INFO:ewokscore.events.global_state:[job 'd27cebcd-0d97-4e4d-bfdf-3e095dfc100e'] [workflow 'self_calling_1'] [node 'node_open'] [task 'selfcalling.ProxyOpenManyData2'] task started\n"
     ]
    },
    {
     "name": "stdout",
     "output_type": "stream",
     "text": [
      "RayonixSx165\n"
     ]
    },
    {
     "name": "stderr",
     "output_type": "stream",
     "text": [
      "INFO:ewokscore.events.global_state:[job 'd27cebcd-0d97-4e4d-bfdf-3e095dfc100e'] [workflow 'self_calling_1'] [node 'node_open'] [task 'selfcalling.ProxyOpenManyData2'] task finished\n",
      "INFO:ewokscore.events.global_state:[job 'd27cebcd-0d97-4e4d-bfdf-3e095dfc100e'] [workflow 'self_calling_1'] [node 'node_print'] [task 'selfcalling.ProxyPrint2'] task finished\n",
      "INFO:ewokscore.events.global_state:[job 'd27cebcd-0d97-4e4d-bfdf-3e095dfc100e'] [workflow 'self_calling_1'] [node 'node_integrate'] [task 'ewoksxrpd.tasks.integrate.Integrate1D'] task started\n",
      "INFO:ewokscore.events.global_state:[job 'd27cebcd-0d97-4e4d-bfdf-3e095dfc100e'] [workflow 'self_calling_1'] [node 'node_print'] [task 'selfcalling.ProxyPrint2'] task started\n"
     ]
    },
    {
     "name": "stdout",
     "output_type": "stream",
     "text": [
      "(2048, 2048)\n",
      "(2048, 2048)\n",
      "{'dist': 0.1945710487399116, 'poni1': 0.09140108239941036, 'poni2': 0.0831203924302883, 'rot1': 0.06326716380102028, 'rot2': -0.054738929703024644, 'rot3': -8.967452065677822e-10}\n",
      "12.4"
     ]
    },
    {
     "name": "stderr",
     "output_type": "stream",
     "text": [
      "INFO:ewokscore.events.global_state:[job 'd27cebcd-0d97-4e4d-bfdf-3e095dfc100e'] [workflow 'self_calling_1'] [node 'node_open'] [task 'selfcalling.ProxyOpenManyData2'] task started\n"
     ]
    },
    {
     "name": "stdout",
     "output_type": "stream",
     "text": [
      "\n",
      "RayonixSx165\n"
     ]
    },
    {
     "name": "stderr",
     "output_type": "stream",
     "text": [
      "INFO:ewokscore.events.global_state:[job 'd27cebcd-0d97-4e4d-bfdf-3e095dfc100e'] [workflow 'self_calling_1'] [node 'node_print'] [task 'selfcalling.ProxyPrint2'] task finished\n",
      "INFO:ewokscore.events.global_state:[job 'd27cebcd-0d97-4e4d-bfdf-3e095dfc100e'] [workflow 'self_calling_1'] [node 'node_open'] [task 'selfcalling.ProxyOpenManyData2'] task finished\n",
      "INFO:ewokscore.events.global_state:[job 'd27cebcd-0d97-4e4d-bfdf-3e095dfc100e'] [workflow 'self_calling_1'] [node 'node_integrate'] [task 'ewoksxrpd.tasks.integrate.Integrate1D'] task finished\n",
      "INFO:ewokscore.events.global_state:[job 'd27cebcd-0d97-4e4d-bfdf-3e095dfc100e'] [workflow 'self_calling_1'] [node 'node_integrate'] [task 'ewoksxrpd.tasks.integrate.Integrate1D'] task started\n",
      "INFO:ewokscore.events.global_state:[job 'd27cebcd-0d97-4e4d-bfdf-3e095dfc100e'] [workflow 'self_calling_1'] [node 'node_print'] [task 'selfcalling.ProxyPrint2'] task started\n"
     ]
    },
    {
     "name": "stdout",
     "output_type": "stream",
     "text": [
      "(2048, 2048)\n",
      "(2048, 2048)\n",
      "{'dist': 0.1945710487399116, 'poni1': 0.09140108239941036, 'poni2': 0.0831203924302883, 'rot1': 0.06326716380102028, 'rot2': -0.054738929703024644, 'rot3': -8.967452065677822e-10}\n",
      "\n",
      "12.4RayonixSx165\n"
     ]
    },
    {
     "name": "stderr",
     "output_type": "stream",
     "text": [
      "INFO:ewokscore.events.global_state:[job 'd27cebcd-0d97-4e4d-bfdf-3e095dfc100e'] [workflow 'self_calling_1'] [node 'node_print'] [task 'selfcalling.ProxyPrint2'] task finished\n",
      "INFO:ewokscore.events.global_state:[job 'd27cebcd-0d97-4e4d-bfdf-3e095dfc100e'] [workflow 'self_calling_1'] [node 'node_integrate'] [task 'ewoksxrpd.tasks.integrate.Integrate1D'] task finished\n",
      "INFO:ewokscore.events.global_state:[job 'd27cebcd-0d97-4e4d-bfdf-3e095dfc100e'] [workflow 'self_calling_1'] [node 'node_open'] [task 'selfcalling.ProxyOpenManyData2'] task started\n",
      "INFO:ewokscore.events.global_state:[job 'd27cebcd-0d97-4e4d-bfdf-3e095dfc100e'] [workflow 'self_calling_1'] [node 'node_open'] [task 'selfcalling.ProxyOpenManyData2'] task finished\n",
      "INFO:ewokscore.events.global_state:[job 'd27cebcd-0d97-4e4d-bfdf-3e095dfc100e'] [workflow 'self_calling_1'] [node 'node_integrate'] [task 'ewoksxrpd.tasks.integrate.Integrate1D'] task started\n",
      "INFO:ewokscore.events.global_state:[job 'd27cebcd-0d97-4e4d-bfdf-3e095dfc100e'] [workflow 'self_calling_1'] [node 'node_save'] [task 'ewoksxrpd.tasks.ascii.SaveAsciiPattern1D'] task started\n",
      "INFO:ewokscore.events.global_state:[job 'd27cebcd-0d97-4e4d-bfdf-3e095dfc100e'] [workflow 'self_calling_1'] [node 'node_save'] [task 'ewoksxrpd.tasks.ascii.SaveAsciiPattern1D'] task finished\n",
      "INFO:ewokscore.events.global_state:[job 'd27cebcd-0d97-4e4d-bfdf-3e095dfc100e'] [workflow 'self_calling_1'] [node 'node_integrate'] [task 'ewoksxrpd.tasks.integrate.Integrate1D'] task finished\n",
      "INFO:ewokscore.events.global_state:[job 'd27cebcd-0d97-4e4d-bfdf-3e095dfc100e'] [workflow 'self_calling_1'] [node 'node_integrate'] [task 'ewoksxrpd.tasks.integrate.Integrate1D'] task started\n",
      "INFO:ewokscore.events.global_state:[job 'd27cebcd-0d97-4e4d-bfdf-3e095dfc100e'] [workflow 'self_calling_1'] [node 'node_integrate'] [task 'ewoksxrpd.tasks.integrate.Integrate1D'] task finished\n",
      "INFO:ewokscore.events.global_state:[job 'd27cebcd-0d97-4e4d-bfdf-3e095dfc100e'] [workflow 'self_calling_1'] [node 'node_integrate'] [task 'ewoksxrpd.tasks.integrate.Integrate1D'] task started\n",
      "INFO:ewokscore.events.global_state:[job 'd27cebcd-0d97-4e4d-bfdf-3e095dfc100e'] [workflow 'self_calling_1'] [node 'node_print'] [task 'selfcalling.ProxyPrint2'] task finished\n"
     ]
    },
    {
     "name": "stdout",
     "output_type": "stream",
     "text": [
      "\n"
     ]
    },
    {
     "name": "stderr",
     "output_type": "stream",
     "text": [
      "INFO:ewokscore.events.global_state:[job 'd27cebcd-0d97-4e4d-bfdf-3e095dfc100e'] [workflow 'self_calling_1'] [node 'node_print'] [task 'selfcalling.ProxyPrint2'] task started\n"
     ]
    },
    {
     "name": "stdout",
     "output_type": "stream",
     "text": [
      "(2048, 2048)\n",
      "(2048, 2048)\n",
      "{'dist': 0.1945710487399116, 'poni1': 0.09140108239941036, 'poni2': 0.0831203924302883, 'rot1': 0.06326716380102028, 'rot2': -0.054738929703024644, 'rot3': -8.967452065677822e-10}\n",
      "12.4\n",
      "RayonixSx165"
     ]
    },
    {
     "name": "stderr",
     "output_type": "stream",
     "text": [
      "INFO:ewokscore.events.global_state:[job 'd27cebcd-0d97-4e4d-bfdf-3e095dfc100e'] [workflow 'self_calling_1'] [node 'node_save'] [task 'ewoksxrpd.tasks.ascii.SaveAsciiPattern1D'] task started\n",
      "INFO:ewokscore.events.global_state:[job 'd27cebcd-0d97-4e4d-bfdf-3e095dfc100e'] [workflow 'self_calling_1'] [node 'node_save'] [task 'ewoksxrpd.tasks.ascii.SaveAsciiPattern1D'] task finished\n",
      "INFO:ewokscore.events.global_state:[job 'd27cebcd-0d97-4e4d-bfdf-3e095dfc100e'] [workflow 'self_calling_1'] [node 'node_save'] [task 'ewoksxrpd.tasks.ascii.SaveAsciiPattern1D'] task started\n",
      "INFO:ewokscore.events.global_state:[job 'd27cebcd-0d97-4e4d-bfdf-3e095dfc100e'] [workflow 'self_calling_1'] [node 'node_save'] [task 'ewoksxrpd.tasks.ascii.SaveAsciiPattern1D'] task finished\n",
      "INFO:ewokscore.events.global_state:[job 'd27cebcd-0d97-4e4d-bfdf-3e095dfc100e'] [workflow 'self_calling_1'] [node 'node_integrate'] [task 'ewoksxrpd.tasks.integrate.Integrate1D'] task finished\n",
      "INFO:ewokscore.events.global_state:[job 'd27cebcd-0d97-4e4d-bfdf-3e095dfc100e'] [workflow 'self_calling_1'] [node 'node_open'] [task 'selfcalling.ProxyOpenManyData2'] task started\n",
      "INFO:ewokscore.events.global_state:[job 'd27cebcd-0d97-4e4d-bfdf-3e095dfc100e'] [workflow 'self_calling_1'] [node 'node_open'] [task 'selfcalling.ProxyOpenManyData2'] task finished\n",
      "INFO:ewokscore.events.global_state:[job 'd27cebcd-0d97-4e4d-bfdf-3e095dfc100e'] [workflow 'self_calling_1'] [node 'node_integrate'] [task 'ewoksxrpd.tasks.integrate.Integrate1D'] task started\n",
      "INFO:ewokscore.events.global_state:[job 'd27cebcd-0d97-4e4d-bfdf-3e095dfc100e'] [workflow 'self_calling_1'] [node 'node_save'] [task 'ewoksxrpd.tasks.ascii.SaveAsciiPattern1D'] task started\n",
      "INFO:ewokscore.events.global_state:[job 'd27cebcd-0d97-4e4d-bfdf-3e095dfc100e'] [workflow 'self_calling_1'] [node 'node_save'] [task 'ewoksxrpd.tasks.ascii.SaveAsciiPattern1D'] task finished\n",
      "INFO:ewokscore.events.global_state:[job 'd27cebcd-0d97-4e4d-bfdf-3e095dfc100e'] [workflow 'self_calling_1'] [node 'node_print'] [task 'selfcalling.ProxyPrint2'] task started\n",
      "INFO:ewokscore.events.global_state:[job 'd27cebcd-0d97-4e4d-bfdf-3e095dfc100e'] [workflow 'self_calling_1'] [node 'node_open'] [task 'selfcalling.ProxyOpenManyData2'] task started\n"
     ]
    },
    {
     "name": "stdout",
     "output_type": "stream",
     "text": [
      "(2048, 2048)\n"
     ]
    },
    {
     "name": "stderr",
     "output_type": "stream",
     "text": [
      "INFO:ewokscore.events.global_state:[job 'd27cebcd-0d97-4e4d-bfdf-3e095dfc100e'] [workflow 'self_calling_1'] [node 'node_integrate'] [task 'ewoksxrpd.tasks.integrate.Integrate1D'] task finished\n",
      "INFO:ewokscore.events.global_state:[job 'd27cebcd-0d97-4e4d-bfdf-3e095dfc100e'] [workflow 'self_calling_1'] [node 'node_integrate'] [task 'ewoksxrpd.tasks.integrate.Integrate1D'] task started\n",
      "INFO:ewokscore.events.global_state:[job 'd27cebcd-0d97-4e4d-bfdf-3e095dfc100e'] [workflow 'self_calling_1'] [node 'node_open'] [task 'selfcalling.ProxyOpenManyData2'] task finished\n"
     ]
    },
    {
     "name": "stdout",
     "output_type": "stream",
     "text": [
      "(2048, 2048)\n",
      "{'dist': 0.1945710487399116, 'poni1': 0.09140108239941036, 'poni2': 0.0831203924302883, 'rot1': 0.06326716380102028, 'rot2': -0.054738929703024644, 'rot3': -8.967452065677822e-10}\n",
      "12.4"
     ]
    },
    {
     "name": "stderr",
     "output_type": "stream",
     "text": [
      "INFO:ewokscore.events.global_state:[job 'd27cebcd-0d97-4e4d-bfdf-3e095dfc100e'] [workflow 'self_calling_1'] [node 'node_save'] [task 'ewoksxrpd.tasks.ascii.SaveAsciiPattern1D'] task started\n"
     ]
    },
    {
     "name": "stdout",
     "output_type": "stream",
     "text": [
      "\n",
      "RayonixSx165"
     ]
    },
    {
     "name": "stderr",
     "output_type": "stream",
     "text": [
      "INFO:ewokscore.events.global_state:[job 'd27cebcd-0d97-4e4d-bfdf-3e095dfc100e'] [workflow 'self_calling_1'] [node 'node_save'] [task 'ewoksxrpd.tasks.ascii.SaveAsciiPattern1D'] task finished\n"
     ]
    },
    {
     "name": "stdout",
     "output_type": "stream",
     "text": [
      "\n"
     ]
    },
    {
     "name": "stderr",
     "output_type": "stream",
     "text": [
      "INFO:ewokscore.events.global_state:[job 'd27cebcd-0d97-4e4d-bfdf-3e095dfc100e'] [workflow 'self_calling_1'] [node 'node_print'] [task 'selfcalling.ProxyPrint2'] task finished\n",
      "INFO:ewokscore.events.global_state:[job 'd27cebcd-0d97-4e4d-bfdf-3e095dfc100e'] [workflow 'self_calling_1'] [node 'node_integrate'] [task 'ewoksxrpd.tasks.integrate.Integrate1D'] task finished\n",
      "INFO:ewokscore.events.global_state:[job 'd27cebcd-0d97-4e4d-bfdf-3e095dfc100e'] [workflow 'self_calling_1'] [node 'node_print'] [task 'selfcalling.ProxyPrint2'] task started\n"
     ]
    },
    {
     "name": "stdout",
     "output_type": "stream",
     "text": [
      "(2048, 2048)(2048, 2048)\n",
      "\n",
      "{'dist': 0.1945710487399116, 'poni1': 0.09140108239941036, 'poni2': 0.0831203924302883, 'rot1': 0.06326716380102028, 'rot2': -0.054738929703024644, 'rot3': -8.967452065677822e-10}\n",
      "12.4\n",
      "RayonixSx165\n"
     ]
    },
    {
     "name": "stderr",
     "output_type": "stream",
     "text": [
      "INFO:ewokscore.events.global_state:[job 'd27cebcd-0d97-4e4d-bfdf-3e095dfc100e'] [workflow 'self_calling_1'] [node 'node_print'] [task 'selfcalling.ProxyPrint2'] task finished\n",
      "INFO:ewokscore.events.global_state:[job 'd27cebcd-0d97-4e4d-bfdf-3e095dfc100e'] [workflow 'self_calling_1'] [node 'node_integrate'] [task 'ewoksxrpd.tasks.integrate.Integrate1D'] task started\n",
      "INFO:ewokscore.events.global_state:[job 'd27cebcd-0d97-4e4d-bfdf-3e095dfc100e'] [workflow 'self_calling_1'] [node 'node_integrate'] [task 'ewoksxrpd.tasks.integrate.Integrate1D'] task finished\n",
      "INFO:ewokscore.events.global_state:[job 'd27cebcd-0d97-4e4d-bfdf-3e095dfc100e'] [workflow 'self_calling_1'] [node 'node_open'] [task 'selfcalling.ProxyOpenManyData2'] task started\n",
      "INFO:ewokscore.events.global_state:[job 'd27cebcd-0d97-4e4d-bfdf-3e095dfc100e'] [workflow 'self_calling_1'] [node 'node_save'] [task 'ewoksxrpd.tasks.ascii.SaveAsciiPattern1D'] task started\n",
      "INFO:ewokscore.events.global_state:[job 'd27cebcd-0d97-4e4d-bfdf-3e095dfc100e'] [workflow 'self_calling_1'] [node 'node_save'] [task 'ewoksxrpd.tasks.ascii.SaveAsciiPattern1D'] task finished\n",
      "INFO:ewokscore.events.global_state:[job 'd27cebcd-0d97-4e4d-bfdf-3e095dfc100e'] [workflow 'self_calling_1'] [node 'node_open'] [task 'selfcalling.ProxyOpenManyData2'] task finished\n",
      "INFO:ewokscore.events.global_state:[job 'd27cebcd-0d97-4e4d-bfdf-3e095dfc100e'] [workflow 'self_calling_1'] [node 'node_save'] [task 'ewoksxrpd.tasks.ascii.SaveAsciiPattern1D'] task started\n",
      "INFO:ewokscore.events.global_state:[job 'd27cebcd-0d97-4e4d-bfdf-3e095dfc100e'] [workflow 'self_calling_1'] [node 'node_integrate'] [task 'ewoksxrpd.tasks.integrate.Integrate1D'] task finished\n",
      "INFO:ewokscore.events.global_state:[job 'd27cebcd-0d97-4e4d-bfdf-3e095dfc100e'] [workflow 'self_calling_1'] [node 'node_save'] [task 'ewoksxrpd.tasks.ascii.SaveAsciiPattern1D'] task finished\n",
      "INFO:ewokscore.events.global_state:[job 'd27cebcd-0d97-4e4d-bfdf-3e095dfc100e'] [workflow 'self_calling_1'] [node 'node_integrate'] [task 'ewoksxrpd.tasks.integrate.Integrate1D'] task finished\n",
      "INFO:ewokscore.events.global_state:[job 'd27cebcd-0d97-4e4d-bfdf-3e095dfc100e'] [workflow 'self_calling_1'] [node 'node_save'] [task 'ewoksxrpd.tasks.ascii.SaveAsciiPattern1D'] task started\n",
      "INFO:ewokscore.events.global_state:[job 'd27cebcd-0d97-4e4d-bfdf-3e095dfc100e'] [workflow 'self_calling_1'] [node 'node_print'] [task 'selfcalling.ProxyPrint2'] task finished\n",
      "INFO:ewokscore.events.global_state:[job 'd27cebcd-0d97-4e4d-bfdf-3e095dfc100e'] [workflow 'self_calling_1'] [node 'node_save'] [task 'ewoksxrpd.tasks.ascii.SaveAsciiPattern1D'] task finished\n",
      "INFO:ewokscore.events.global_state:[job 'd27cebcd-0d97-4e4d-bfdf-3e095dfc100e'] [workflow 'self_calling_1'] [node 'node_print'] [task 'selfcalling.ProxyPrint2'] task started\n"
     ]
    },
    {
     "name": "stdout",
     "output_type": "stream",
     "text": [
      "(2048, 2048)\n",
      "(2048, 2048)\n",
      "{'dist': 0.1945710487399116, 'poni1': 0.09140108239941036, 'poni2': 0.0831203924302883, 'rot1': 0.06326716380102028, 'rot2': -0.054738929703024644, 'rot3': -8.967452065677822e-10}\n",
      "12.4\n",
      "RayonixSx165\n"
     ]
    },
    {
     "name": "stderr",
     "output_type": "stream",
     "text": [
      "INFO:ewokscore.events.global_state:[job 'd27cebcd-0d97-4e4d-bfdf-3e095dfc100e'] [workflow 'self_calling_1'] [node 'node_open'] [task 'selfcalling.ProxyOpenManyData2'] task started\n",
      "INFO:ewokscore.events.global_state:[job 'd27cebcd-0d97-4e4d-bfdf-3e095dfc100e'] [workflow 'self_calling_1'] [node 'node_open'] [task 'selfcalling.ProxyOpenManyData2'] task finished\n",
      "INFO:ewokscore.events.global_state:[job 'd27cebcd-0d97-4e4d-bfdf-3e095dfc100e'] [workflow 'self_calling_1'] [node 'node_save'] [task 'ewoksxrpd.tasks.ascii.SaveAsciiPattern1D'] task started\n",
      "INFO:ewokscore.events.global_state:[job 'd27cebcd-0d97-4e4d-bfdf-3e095dfc100e'] [workflow 'self_calling_1'] [node 'node_integrate'] [task 'ewoksxrpd.tasks.integrate.Integrate1D'] task finished\n",
      "INFO:ewokscore.events.global_state:[job 'd27cebcd-0d97-4e4d-bfdf-3e095dfc100e'] [workflow 'self_calling_1'] [node 'node_save'] [task 'ewoksxrpd.tasks.ascii.SaveAsciiPattern1D'] task finished\n",
      "INFO:ewokscore.events.global_state:[job 'd27cebcd-0d97-4e4d-bfdf-3e095dfc100e'] [workflow 'self_calling_1'] [node 'node_integrate'] [task 'ewoksxrpd.tasks.integrate.Integrate1D'] task started\n",
      "INFO:ewokscore.events.global_state:[job 'd27cebcd-0d97-4e4d-bfdf-3e095dfc100e'] [workflow 'self_calling_1'] [node 'node_save'] [task 'ewoksxrpd.tasks.ascii.SaveAsciiPattern1D'] task started\n",
      "INFO:ewokscore.events.global_state:[job 'd27cebcd-0d97-4e4d-bfdf-3e095dfc100e'] [workflow 'self_calling_1'] [node 'node_save'] [task 'ewoksxrpd.tasks.ascii.SaveAsciiPattern1D'] task finished\n",
      "INFO:ewokscore.events.global_state:[job 'd27cebcd-0d97-4e4d-bfdf-3e095dfc100e'] [workflow 'self_calling_1'] [node 'node_integrate'] [task 'ewoksxrpd.tasks.integrate.Integrate1D'] task started\n",
      "INFO:ewokscore.events.global_state:[job 'd27cebcd-0d97-4e4d-bfdf-3e095dfc100e'] [workflow 'self_calling_1'] [node 'node_print'] [task 'selfcalling.ProxyPrint2'] task started\n"
     ]
    },
    {
     "name": "stdout",
     "output_type": "stream",
     "text": [
      "(2048, 2048){'dist': 0.1945710487399116, 'poni1': 0.09140108239941036, 'poni2': 0.0831203924302883, 'rot1': 0.06326716380102028, 'rot2': -0.054738929703024644, 'rot3': -8.967452065677822e-10}\n",
      "(2048, 2048)\n",
      "\n",
      "12.4\n",
      "RayonixSx165\n"
     ]
    },
    {
     "name": "stderr",
     "output_type": "stream",
     "text": [
      "INFO:ewokscore.events.global_state:[job 'd27cebcd-0d97-4e4d-bfdf-3e095dfc100e'] [workflow 'self_calling_1'] [node 'node_print'] [task 'selfcalling.ProxyPrint2'] task finished\n",
      "INFO:ewokscore.events.global_state:[job 'd27cebcd-0d97-4e4d-bfdf-3e095dfc100e'] [workflow 'self_calling_1'] [node 'node_integrate'] [task 'ewoksxrpd.tasks.integrate.Integrate1D'] task finished\n",
      "INFO:ewokscore.events.global_state:[job 'd27cebcd-0d97-4e4d-bfdf-3e095dfc100e'] [workflow 'self_calling_1'] [node 'node_open'] [task 'selfcalling.ProxyOpenManyData2'] task started\n",
      "INFO:ewokscore.events.global_state:[job 'd27cebcd-0d97-4e4d-bfdf-3e095dfc100e'] [workflow 'self_calling_1'] [node 'node_save'] [task 'ewoksxrpd.tasks.ascii.SaveAsciiPattern1D'] task started\n",
      "INFO:ewokscore.events.global_state:[job 'd27cebcd-0d97-4e4d-bfdf-3e095dfc100e'] [workflow 'self_calling_1'] [node 'node_open'] [task 'selfcalling.ProxyOpenManyData2'] task finished\n",
      "INFO:ewokscore.events.global_state:[job 'd27cebcd-0d97-4e4d-bfdf-3e095dfc100e'] [workflow 'self_calling_1'] [node 'node_save'] [task 'ewoksxrpd.tasks.ascii.SaveAsciiPattern1D'] task finished\n",
      "INFO:ewokscore.events.global_state:[job 'd27cebcd-0d97-4e4d-bfdf-3e095dfc100e'] [workflow 'self_calling_1'] [node 'node_save'] [task 'ewoksxrpd.tasks.ascii.SaveAsciiPattern1D'] task started\n",
      "INFO:ewokscore.events.global_state:[job 'd27cebcd-0d97-4e4d-bfdf-3e095dfc100e'] [workflow 'self_calling_1'] [node 'node_print'] [task 'selfcalling.ProxyPrint2'] task started\n"
     ]
    },
    {
     "name": "stdout",
     "output_type": "stream",
     "text": [
      "(2048, 2048)\n",
      "(2048, 2048)"
     ]
    },
    {
     "name": "stderr",
     "output_type": "stream",
     "text": [
      "INFO:ewokscore.events.global_state:[job 'd27cebcd-0d97-4e4d-bfdf-3e095dfc100e'] [workflow 'self_calling_1'] [node 'node_save'] [task 'ewoksxrpd.tasks.ascii.SaveAsciiPattern1D'] task finished\n"
     ]
    },
    {
     "name": "stdout",
     "output_type": "stream",
     "text": [
      "\n",
      "{'dist': 0.1945710487399116, 'poni1': 0.09140108239941036, 'poni2': 0.0831203924302883, 'rot1': 0.06326716380102028, 'rot2': -0.054738929703024644, 'rot3': -8.967452065677822e-10}\n",
      "12.4\n",
      "RayonixSx165\n"
     ]
    },
    {
     "name": "stderr",
     "output_type": "stream",
     "text": [
      "INFO:ewokscore.events.global_state:[job 'd27cebcd-0d97-4e4d-bfdf-3e095dfc100e'] [workflow 'self_calling_1'] [node 'node_print'] [task 'selfcalling.ProxyPrint2'] task finished\n",
      "INFO:ewokscore.events.global_state:[job 'd27cebcd-0d97-4e4d-bfdf-3e095dfc100e'] [workflow 'self_calling_1'] [node 'node_integrate'] [task 'ewoksxrpd.tasks.integrate.Integrate1D'] task started\n",
      "INFO:ewokscore.events.global_state:[job 'd27cebcd-0d97-4e4d-bfdf-3e095dfc100e'] [workflow 'self_calling_1'] [node 'node_integrate'] [task 'ewoksxrpd.tasks.integrate.Integrate1D'] task finished\n",
      "INFO:ewokscore.events.global_state:[job 'd27cebcd-0d97-4e4d-bfdf-3e095dfc100e'] [workflow 'self_calling_1'] [node 'node_open'] [task 'selfcalling.ProxyOpenManyData2'] task started\n",
      "INFO:ewokscore.events.global_state:[job 'd27cebcd-0d97-4e4d-bfdf-3e095dfc100e'] [workflow 'self_calling_1'] [node 'node_open'] [task 'selfcalling.ProxyOpenManyData2'] task finished\n",
      "INFO:ewokscore.events.global_state:[job 'd27cebcd-0d97-4e4d-bfdf-3e095dfc100e'] [workflow 'self_calling_1'] [node 'node_save'] [task 'ewoksxrpd.tasks.ascii.SaveAsciiPattern1D'] task started\n",
      "INFO:ewokscore.events.global_state:[job 'd27cebcd-0d97-4e4d-bfdf-3e095dfc100e'] [workflow 'self_calling_1'] [node 'node_save'] [task 'ewoksxrpd.tasks.ascii.SaveAsciiPattern1D'] task finished\n",
      "INFO:ewokscore.events.global_state:[job 'd27cebcd-0d97-4e4d-bfdf-3e095dfc100e'] [workflow 'self_calling_1'] [node 'node_print'] [task 'selfcalling.ProxyPrint2'] task started\n"
     ]
    },
    {
     "name": "stdout",
     "output_type": "stream",
     "text": [
      "(2048, 2048)\n",
      "(2048, 2048)\n",
      "{'dist': 0.1945710487399116, 'poni1': 0.09140108239941036, 'poni2': 0.0831203924302883, 'rot1': 0.06326716380102028, 'rot2': -0.054738929703024644, 'rot3': -8.967452065677822e-10}\n",
      "12.4\n",
      "RayonixSx165\n"
     ]
    },
    {
     "name": "stderr",
     "output_type": "stream",
     "text": [
      "INFO:ewokscore.events.global_state:[job 'd27cebcd-0d97-4e4d-bfdf-3e095dfc100e'] [workflow 'self_calling_1'] [node 'node_print'] [task 'selfcalling.ProxyPrint2'] task finished\n",
      "INFO:ewokscore.events.global_state:[job 'd27cebcd-0d97-4e4d-bfdf-3e095dfc100e'] [workflow 'self_calling_1'] [node 'node_open'] [task 'selfcalling.ProxyOpenManyData2'] task started\n",
      "INFO:ewokscore.events.global_state:[job 'd27cebcd-0d97-4e4d-bfdf-3e095dfc100e'] [workflow 'self_calling_1'] [node 'node_open'] [task 'selfcalling.ProxyOpenManyData2'] task finished\n",
      "INFO:ewokscore.events.global_state:[job 'd27cebcd-0d97-4e4d-bfdf-3e095dfc100e'] [workflow 'self_calling_1'] [node 'node_print'] [task 'selfcalling.ProxyPrint2'] task started\n"
     ]
    },
    {
     "name": "stdout",
     "output_type": "stream",
     "text": [
      "\n",
      "(2048, 2048)\n",
      "(2048, 2048)\n",
      "{'dist': 0.1945710487399116, 'poni1': 0.09140108239941036, 'poni2': 0.0831203924302883, 'rot1': 0.06326716380102028, 'rot2': -0.054738929703024644, 'rot3': -8.967452065677822e-10}12.4\n",
      "RayonixSx165\n"
     ]
    },
    {
     "name": "stderr",
     "output_type": "stream",
     "text": [
      "INFO:ewokscore.events.global_state:[job 'd27cebcd-0d97-4e4d-bfdf-3e095dfc100e'] [workflow 'self_calling_1'] [node 'node_print'] [task 'selfcalling.ProxyPrint2'] task finished\n",
      "INFO:ewokscore.events.global_state:[job 'd27cebcd-0d97-4e4d-bfdf-3e095dfc100e'] [workflow 'self_calling_1'] [node 'node_open'] [task 'selfcalling.ProxyOpenManyData2'] task started\n",
      "INFO:ewokscore.events.global_state:[job 'd27cebcd-0d97-4e4d-bfdf-3e095dfc100e'] [workflow 'self_calling_1'] [node 'node_integrate'] [task 'ewoksxrpd.tasks.integrate.Integrate1D'] task started\n",
      "INFO:ewokscore.events.global_state:[job 'd27cebcd-0d97-4e4d-bfdf-3e095dfc100e'] [workflow 'self_calling_1'] [node 'node_open'] [task 'selfcalling.ProxyOpenManyData2'] task finished\n",
      "INFO:ewokscore.events.global_state:[job 'd27cebcd-0d97-4e4d-bfdf-3e095dfc100e'] [workflow 'self_calling_1'] [node 'node_integrate'] [task 'ewoksxrpd.tasks.integrate.Integrate1D'] task finished\n",
      "INFO:ewokscore.events.global_state:[job 'd27cebcd-0d97-4e4d-bfdf-3e095dfc100e'] [workflow 'self_calling_1'] [node 'node_print'] [task 'selfcalling.ProxyPrint2'] task started\n"
     ]
    },
    {
     "name": "stdout",
     "output_type": "stream",
     "text": [
      "(2048, 2048)\n"
     ]
    },
    {
     "name": "stderr",
     "output_type": "stream",
     "text": [
      "INFO:ewokscore.events.global_state:[job 'd27cebcd-0d97-4e4d-bfdf-3e095dfc100e'] [workflow 'self_calling_1'] [node 'node_integrate'] [task 'ewoksxrpd.tasks.integrate.Integrate1D'] task finished\n"
     ]
    },
    {
     "name": "stdout",
     "output_type": "stream",
     "text": [
      "(2048, 2048)\n",
      "{'dist': 0.1945710487399116, 'poni1': 0.09140108239941036, 'poni2': 0.0831203924302883, 'rot1': 0.06326716380102028, 'rot2': -0.054738929703024644, 'rot3': -8.967452065677822e-10}\n",
      "12.4\n"
     ]
    },
    {
     "name": "stderr",
     "output_type": "stream",
     "text": [
      "INFO:ewokscore.events.global_state:[job 'd27cebcd-0d97-4e4d-bfdf-3e095dfc100e'] [workflow 'self_calling_1'] [node 'node_integrate'] [task 'ewoksxrpd.tasks.integrate.Integrate1D'] task started\n"
     ]
    },
    {
     "name": "stdout",
     "output_type": "stream",
     "text": [
      "RayonixSx165\n"
     ]
    },
    {
     "name": "stderr",
     "output_type": "stream",
     "text": [
      "INFO:ewokscore.events.global_state:[job 'd27cebcd-0d97-4e4d-bfdf-3e095dfc100e'] [workflow 'self_calling_1'] [node 'node_print'] [task 'selfcalling.ProxyPrint2'] task finished\n",
      "INFO:ewokscore.events.global_state:[job 'd27cebcd-0d97-4e4d-bfdf-3e095dfc100e'] [workflow 'self_calling_1'] [node 'node_open'] [task 'selfcalling.ProxyOpenManyData2'] task started\n",
      "INFO:ewokscore.events.global_state:[job 'd27cebcd-0d97-4e4d-bfdf-3e095dfc100e'] [workflow 'self_calling_1'] [node 'node_open'] [task 'selfcalling.ProxyOpenManyData2'] task finished\n",
      "INFO:ewokscore.events.global_state:[job 'd27cebcd-0d97-4e4d-bfdf-3e095dfc100e'] [workflow 'self_calling_1'] [node 'node_integrate'] [task 'ewoksxrpd.tasks.integrate.Integrate1D'] task started\n",
      "INFO:ewokscore.events.global_state:[job 'd27cebcd-0d97-4e4d-bfdf-3e095dfc100e'] [workflow 'self_calling_1'] [node 'node_save'] [task 'ewoksxrpd.tasks.ascii.SaveAsciiPattern1D'] task started\n",
      "INFO:ewokscore.events.global_state:[job 'd27cebcd-0d97-4e4d-bfdf-3e095dfc100e'] [workflow 'self_calling_1'] [node 'node_save'] [task 'ewoksxrpd.tasks.ascii.SaveAsciiPattern1D'] task finished\n",
      "INFO:ewokscore.events.global_state:[job 'd27cebcd-0d97-4e4d-bfdf-3e095dfc100e'] [workflow 'self_calling_1'] [node 'node_print'] [task 'selfcalling.ProxyPrint2'] task started\n",
      "INFO:ewokscore.events.global_state:[job 'd27cebcd-0d97-4e4d-bfdf-3e095dfc100e'] [workflow 'self_calling_1'] [node 'node_integrate'] [task 'ewoksxrpd.tasks.integrate.Integrate1D'] task finished\n"
     ]
    },
    {
     "name": "stdout",
     "output_type": "stream",
     "text": [
      "(2048, 2048)\n",
      "(2048, 2048)\n",
      "{'dist': 0.1945710487399116, 'poni1': 0.09140108239941036, 'poni2': 0.0831203924302883, 'rot1': 0.06326716380102028, 'rot2': -0.054738929703024644, 'rot3': -8.967452065677822e-10}\n",
      "12.4\n",
      "RayonixSx165\n"
     ]
    },
    {
     "name": "stderr",
     "output_type": "stream",
     "text": [
      "INFO:ewokscore.events.global_state:[job 'd27cebcd-0d97-4e4d-bfdf-3e095dfc100e'] [workflow 'self_calling_1'] [node 'node_print'] [task 'selfcalling.ProxyPrint2'] task finished\n",
      "INFO:ewokscore.events.global_state:[job 'd27cebcd-0d97-4e4d-bfdf-3e095dfc100e'] [workflow 'self_calling_1'] [node 'node_integrate'] [task 'ewoksxrpd.tasks.integrate.Integrate1D'] task started\n",
      "INFO:ewokscore.events.global_state:[job 'd27cebcd-0d97-4e4d-bfdf-3e095dfc100e'] [workflow 'self_calling_1'] [node 'node_open'] [task 'selfcalling.ProxyOpenManyData2'] task started\n",
      "INFO:ewokscore.events.global_state:[job 'd27cebcd-0d97-4e4d-bfdf-3e095dfc100e'] [workflow 'self_calling_1'] [node 'node_open'] [task 'selfcalling.ProxyOpenManyData2'] task finished\n",
      "INFO:ewokscore.events.global_state:[job 'd27cebcd-0d97-4e4d-bfdf-3e095dfc100e'] [workflow 'self_calling_1'] [node 'node_save'] [task 'ewoksxrpd.tasks.ascii.SaveAsciiPattern1D'] task started\n",
      "INFO:ewokscore.events.global_state:[job 'd27cebcd-0d97-4e4d-bfdf-3e095dfc100e'] [workflow 'self_calling_1'] [node 'node_save'] [task 'ewoksxrpd.tasks.ascii.SaveAsciiPattern1D'] task finished\n",
      "INFO:ewokscore.events.global_state:[job 'd27cebcd-0d97-4e4d-bfdf-3e095dfc100e'] [workflow 'self_calling_1'] [node 'node_print'] [task 'selfcalling.ProxyPrint2'] task started\n"
     ]
    },
    {
     "name": "stdout",
     "output_type": "stream",
     "text": [
      "{'dist': 0.1945710487399116, 'poni1': 0.09140108239941036, 'poni2': 0.0831203924302883, 'rot1': 0.06326716380102028, 'rot2': -0.054738929703024644, 'rot3': -8.967452065677822e-10}(2048, 2048)\n",
      "(2048, 2048)\n",
      "\n",
      "12.4\n",
      "RayonixSx165\n"
     ]
    },
    {
     "name": "stderr",
     "output_type": "stream",
     "text": [
      "INFO:ewokscore.events.global_state:[job 'd27cebcd-0d97-4e4d-bfdf-3e095dfc100e'] [workflow 'self_calling_1'] [node 'node_print'] [task 'selfcalling.ProxyPrint2'] task finished\n",
      "INFO:ewokscore.events.global_state:[job 'd27cebcd-0d97-4e4d-bfdf-3e095dfc100e'] [workflow 'self_calling_1'] [node 'node_open'] [task 'selfcalling.ProxyOpenManyData2'] task started\n",
      "INFO:ewokscore.events.global_state:[job 'd27cebcd-0d97-4e4d-bfdf-3e095dfc100e'] [workflow 'self_calling_1'] [node 'node_open'] [task 'selfcalling.ProxyOpenManyData2'] task finished\n",
      "INFO:ewokscore.events.global_state:[job 'd27cebcd-0d97-4e4d-bfdf-3e095dfc100e'] [workflow 'self_calling_1'] [node 'node_save'] [task 'ewoksxrpd.tasks.ascii.SaveAsciiPattern1D'] task started\n",
      "INFO:ewokscore.events.global_state:[job 'd27cebcd-0d97-4e4d-bfdf-3e095dfc100e'] [workflow 'self_calling_1'] [node 'node_save'] [task 'ewoksxrpd.tasks.ascii.SaveAsciiPattern1D'] task finished\n",
      "INFO:ewokscore.events.global_state:[job 'd27cebcd-0d97-4e4d-bfdf-3e095dfc100e'] [workflow 'self_calling_1'] [node 'node_integrate'] [task 'ewoksxrpd.tasks.integrate.Integrate1D'] task finished\n",
      "INFO:ewokscore.events.global_state:[job 'd27cebcd-0d97-4e4d-bfdf-3e095dfc100e'] [workflow 'self_calling_1'] [node 'node_integrate'] [task 'ewoksxrpd.tasks.integrate.Integrate1D'] task started\n",
      "INFO:ewokscore.events.global_state:[job 'd27cebcd-0d97-4e4d-bfdf-3e095dfc100e'] [workflow 'self_calling_1'] [node 'node_print'] [task 'selfcalling.ProxyPrint2'] task started\n"
     ]
    },
    {
     "name": "stdout",
     "output_type": "stream",
     "text": [
      "(2048, 2048)\n",
      "(2048, 2048)\n",
      "{'dist': 0.1945710487399116, 'poni1': 0.09140108239941036, 'poni2': 0.0831203924302883, 'rot1': 0.06326716380102028, 'rot2': -0.054738929703024644, 'rot3': -8.967452065677822e-10}\n",
      "12.4\n",
      "RayonixSx165\n"
     ]
    },
    {
     "name": "stderr",
     "output_type": "stream",
     "text": [
      "INFO:ewokscore.events.global_state:[job 'd27cebcd-0d97-4e4d-bfdf-3e095dfc100e'] [workflow 'self_calling_1'] [node 'node_print'] [task 'selfcalling.ProxyPrint2'] task finished\n",
      "INFO:ewokscore.events.global_state:[job 'd27cebcd-0d97-4e4d-bfdf-3e095dfc100e'] [workflow 'self_calling_1'] [node 'node_open'] [task 'selfcalling.ProxyOpenManyData2'] task started\n",
      "INFO:ewokscore.events.global_state:[job 'd27cebcd-0d97-4e4d-bfdf-3e095dfc100e'] [workflow 'self_calling_1'] [node 'node_open'] [task 'selfcalling.ProxyOpenManyData2'] task finished\n",
      "INFO:ewokscore.events.global_state:[job 'd27cebcd-0d97-4e4d-bfdf-3e095dfc100e'] [workflow 'self_calling_1'] [node 'node_integrate'] [task 'ewoksxrpd.tasks.integrate.Integrate1D'] task started\n",
      "INFO:ewokscore.events.global_state:[job 'd27cebcd-0d97-4e4d-bfdf-3e095dfc100e'] [workflow 'self_calling_1'] [node 'node_save'] [task 'ewoksxrpd.tasks.ascii.SaveAsciiPattern1D'] task started\n",
      "INFO:ewokscore.events.global_state:[job 'd27cebcd-0d97-4e4d-bfdf-3e095dfc100e'] [workflow 'self_calling_1'] [node 'node_print'] [task 'selfcalling.ProxyPrint2'] task started\n"
     ]
    },
    {
     "name": "stdout",
     "output_type": "stream",
     "text": [
      "(2048, 2048)\n",
      "(2048, 2048)"
     ]
    },
    {
     "name": "stderr",
     "output_type": "stream",
     "text": [
      "INFO:ewokscore.events.global_state:[job 'd27cebcd-0d97-4e4d-bfdf-3e095dfc100e'] [workflow 'self_calling_1'] [node 'node_save'] [task 'ewoksxrpd.tasks.ascii.SaveAsciiPattern1D'] task finished\n"
     ]
    },
    {
     "name": "stdout",
     "output_type": "stream",
     "text": [
      "\n",
      "{'dist': 0.1945710487399116, 'poni1': 0.09140108239941036, 'poni2': 0.0831203924302883, 'rot1': 0.06326716380102028, 'rot2': -0.054738929703024644, 'rot3': -8.967452065677822e-10}\n",
      "12.4"
     ]
    },
    {
     "name": "stderr",
     "output_type": "stream",
     "text": [
      "INFO:ewokscore.events.global_state:[job 'd27cebcd-0d97-4e4d-bfdf-3e095dfc100e'] [workflow 'self_calling_1'] [node 'node_open'] [task 'selfcalling.ProxyOpenManyData2'] task started\n"
     ]
    },
    {
     "name": "stdout",
     "output_type": "stream",
     "text": [
      "\n",
      "RayonixSx165\n"
     ]
    },
    {
     "name": "stderr",
     "output_type": "stream",
     "text": [
      "INFO:ewokscore.events.global_state:[job 'd27cebcd-0d97-4e4d-bfdf-3e095dfc100e'] [workflow 'self_calling_1'] [node 'node_print'] [task 'selfcalling.ProxyPrint2'] task finished\n",
      "INFO:ewokscore.events.global_state:[job 'd27cebcd-0d97-4e4d-bfdf-3e095dfc100e'] [workflow 'self_calling_1'] [node 'node_open'] [task 'selfcalling.ProxyOpenManyData2'] task finished\n",
      "INFO:ewokscore.events.global_state:[job 'd27cebcd-0d97-4e4d-bfdf-3e095dfc100e'] [workflow 'self_calling_1'] [node 'node_integrate'] [task 'ewoksxrpd.tasks.integrate.Integrate1D'] task finished\n",
      "INFO:ewokscore.events.global_state:[job 'd27cebcd-0d97-4e4d-bfdf-3e095dfc100e'] [workflow 'self_calling_1'] [node 'node_integrate'] [task 'ewoksxrpd.tasks.integrate.Integrate1D'] task finished\n",
      "INFO:ewokscore.events.global_state:[job 'd27cebcd-0d97-4e4d-bfdf-3e095dfc100e'] [workflow 'self_calling_1'] [node 'node_integrate'] [task 'ewoksxrpd.tasks.integrate.Integrate1D'] task started\n",
      "INFO:ewokscore.events.global_state:[job 'd27cebcd-0d97-4e4d-bfdf-3e095dfc100e'] [workflow 'self_calling_1'] [node 'node_print'] [task 'selfcalling.ProxyPrint2'] task started\n"
     ]
    },
    {
     "name": "stdout",
     "output_type": "stream",
     "text": [
      "(2048, 2048)\n",
      "(2048, 2048)\n",
      "{'dist': 0.1945710487399116, 'poni1': 0.09140108239941036, 'poni2': 0.0831203924302883, 'rot1': 0.06326716380102028, 'rot2': -0.054738929703024644, 'rot3': -8.967452065677822e-10}\n",
      "12.4\n",
      "RayonixSx165\n"
     ]
    },
    {
     "name": "stderr",
     "output_type": "stream",
     "text": [
      "INFO:ewokscore.events.global_state:[job 'd27cebcd-0d97-4e4d-bfdf-3e095dfc100e'] [workflow 'self_calling_1'] [node 'node_print'] [task 'selfcalling.ProxyPrint2'] task finished\n",
      "INFO:ewokscore.events.global_state:[job 'd27cebcd-0d97-4e4d-bfdf-3e095dfc100e'] [workflow 'self_calling_1'] [node 'node_integrate'] [task 'ewoksxrpd.tasks.integrate.Integrate1D'] task finished\n",
      "INFO:ewokscore.events.global_state:[job 'd27cebcd-0d97-4e4d-bfdf-3e095dfc100e'] [workflow 'self_calling_1'] [node 'node_integrate'] [task 'ewoksxrpd.tasks.integrate.Integrate1D'] task started\n",
      "INFO:ewokscore.events.global_state:[job 'd27cebcd-0d97-4e4d-bfdf-3e095dfc100e'] [workflow 'self_calling_1'] [node 'node_save'] [task 'ewoksxrpd.tasks.ascii.SaveAsciiPattern1D'] task started\n",
      "INFO:ewokscore.events.global_state:[job 'd27cebcd-0d97-4e4d-bfdf-3e095dfc100e'] [workflow 'self_calling_1'] [node 'node_save'] [task 'ewoksxrpd.tasks.ascii.SaveAsciiPattern1D'] task finished\n",
      "INFO:ewokscore.events.global_state:[job 'd27cebcd-0d97-4e4d-bfdf-3e095dfc100e'] [workflow 'self_calling_1'] [node 'node_save'] [task 'ewoksxrpd.tasks.ascii.SaveAsciiPattern1D'] task started\n",
      "INFO:ewokscore.events.global_state:[job 'd27cebcd-0d97-4e4d-bfdf-3e095dfc100e'] [workflow 'self_calling_1'] [node 'node_save'] [task 'ewoksxrpd.tasks.ascii.SaveAsciiPattern1D'] task finished\n",
      "INFO:ewokscore.events.global_state:[job 'd27cebcd-0d97-4e4d-bfdf-3e095dfc100e'] [workflow 'self_calling_1'] [node 'node_open'] [task 'selfcalling.ProxyOpenManyData2'] task started\n",
      "INFO:ewokscore.events.global_state:[job 'd27cebcd-0d97-4e4d-bfdf-3e095dfc100e'] [workflow 'self_calling_1'] [node 'node_open'] [task 'selfcalling.ProxyOpenManyData2'] task finished\n",
      "INFO:ewokscore.events.global_state:[job 'd27cebcd-0d97-4e4d-bfdf-3e095dfc100e'] [workflow 'self_calling_1'] [node 'node_integrate'] [task 'ewoksxrpd.tasks.integrate.Integrate1D'] task started\n",
      "INFO:ewokscore.events.global_state:[job 'd27cebcd-0d97-4e4d-bfdf-3e095dfc100e'] [workflow 'self_calling_1'] [node 'node_integrate'] [task 'ewoksxrpd.tasks.integrate.Integrate1D'] task finished\n",
      "INFO:ewokscore.events.global_state:[job 'd27cebcd-0d97-4e4d-bfdf-3e095dfc100e'] [workflow 'self_calling_1'] [node 'node_save'] [task 'ewoksxrpd.tasks.ascii.SaveAsciiPattern1D'] task started\n",
      "INFO:ewokscore.events.global_state:[job 'd27cebcd-0d97-4e4d-bfdf-3e095dfc100e'] [workflow 'self_calling_1'] [node 'node_print'] [task 'selfcalling.ProxyPrint2'] task started\n"
     ]
    },
    {
     "name": "stdout",
     "output_type": "stream",
     "text": [
      "(2048, 2048)\n"
     ]
    },
    {
     "name": "stderr",
     "output_type": "stream",
     "text": [
      "INFO:ewokscore.events.global_state:[job 'd27cebcd-0d97-4e4d-bfdf-3e095dfc100e'] [workflow 'self_calling_1'] [node 'node_save'] [task 'ewoksxrpd.tasks.ascii.SaveAsciiPattern1D'] task finished\n"
     ]
    },
    {
     "name": "stdout",
     "output_type": "stream",
     "text": [
      "(2048, 2048)\n",
      "{'dist': 0.1945710487399116, 'poni1': 0.09140108239941036, 'poni2': 0.0831203924302883, 'rot1': 0.06326716380102028, 'rot2': -0.054738929703024644, 'rot3': -8.967452065677822e-10}\n",
      "12.4\n",
      "RayonixSx165\n"
     ]
    },
    {
     "name": "stderr",
     "output_type": "stream",
     "text": [
      "INFO:ewokscore.events.global_state:[job 'd27cebcd-0d97-4e4d-bfdf-3e095dfc100e'] [workflow 'self_calling_1'] [node 'node_print'] [task 'selfcalling.ProxyPrint2'] task finished\n",
      "INFO:ewokscore.events.global_state:[job 'd27cebcd-0d97-4e4d-bfdf-3e095dfc100e'] [workflow 'self_calling_1'] [node 'node_open'] [task 'selfcalling.ProxyOpenManyData2'] task started\n",
      "INFO:ewokscore.events.global_state:[job 'd27cebcd-0d97-4e4d-bfdf-3e095dfc100e'] [workflow 'self_calling_1'] [node 'node_open'] [task 'selfcalling.ProxyOpenManyData2'] task finished\n",
      "INFO:ewokscore.events.global_state:[job 'd27cebcd-0d97-4e4d-bfdf-3e095dfc100e'] [workflow 'self_calling_1'] [node 'node_integrate'] [task 'ewoksxrpd.tasks.integrate.Integrate1D'] task finished\n",
      "INFO:ewokscore.events.global_state:[job 'd27cebcd-0d97-4e4d-bfdf-3e095dfc100e'] [workflow 'self_calling_1'] [node 'node_save'] [task 'ewoksxrpd.tasks.ascii.SaveAsciiPattern1D'] task started\n",
      "INFO:ewokscore.events.global_state:[job 'd27cebcd-0d97-4e4d-bfdf-3e095dfc100e'] [workflow 'self_calling_1'] [node 'node_save'] [task 'ewoksxrpd.tasks.ascii.SaveAsciiPattern1D'] task finished\n",
      "INFO:ewokscore.events.global_state:[job 'd27cebcd-0d97-4e4d-bfdf-3e095dfc100e'] [workflow 'self_calling_1'] [node 'node_integrate'] [task 'ewoksxrpd.tasks.integrate.Integrate1D'] task started\n",
      "INFO:ewokscore.events.global_state:[job 'd27cebcd-0d97-4e4d-bfdf-3e095dfc100e'] [workflow 'self_calling_1'] [node 'node_print'] [task 'selfcalling.ProxyPrint2'] task started\n"
     ]
    },
    {
     "name": "stdout",
     "output_type": "stream",
     "text": [
      "(2048, 2048)\n",
      "(2048, 2048)\n",
      "{'dist': 0.1945710487399116, 'poni1': 0.09140108239941036, 'poni2': 0.0831203924302883, 'rot1': 0.06326716380102028, 'rot2': -0.054738929703024644, 'rot3': -8.967452065677822e-10}\n",
      "12.4\n",
      "RayonixSx165\n"
     ]
    },
    {
     "name": "stderr",
     "output_type": "stream",
     "text": [
      "INFO:ewokscore.events.global_state:[job 'd27cebcd-0d97-4e4d-bfdf-3e095dfc100e'] [workflow 'self_calling_1'] [node 'node_print'] [task 'selfcalling.ProxyPrint2'] task finished\n",
      "INFO:ewokscore.events.global_state:[job 'd27cebcd-0d97-4e4d-bfdf-3e095dfc100e'] [workflow 'self_calling_1'] [node 'node_integrate'] [task 'ewoksxrpd.tasks.integrate.Integrate1D'] task finished\n",
      "INFO:ewokscore.events.global_state:[job 'd27cebcd-0d97-4e4d-bfdf-3e095dfc100e'] [workflow 'self_calling_1'] [node 'node_open'] [task 'selfcalling.ProxyOpenManyData2'] task started\n",
      "INFO:ewokscore.events.global_state:[job 'd27cebcd-0d97-4e4d-bfdf-3e095dfc100e'] [workflow 'self_calling_1'] [node 'node_save'] [task 'ewoksxrpd.tasks.ascii.SaveAsciiPattern1D'] task started\n",
      "INFO:ewokscore.events.global_state:[job 'd27cebcd-0d97-4e4d-bfdf-3e095dfc100e'] [workflow 'self_calling_1'] [node 'node_open'] [task 'selfcalling.ProxyOpenManyData2'] task finished\n",
      "INFO:ewokscore.events.global_state:[job 'd27cebcd-0d97-4e4d-bfdf-3e095dfc100e'] [workflow 'self_calling_1'] [node 'node_save'] [task 'ewoksxrpd.tasks.ascii.SaveAsciiPattern1D'] task finished\n",
      "INFO:ewokscore.events.global_state:[job 'd27cebcd-0d97-4e4d-bfdf-3e095dfc100e'] [workflow 'self_calling_1'] [node 'node_integrate'] [task 'ewoksxrpd.tasks.integrate.Integrate1D'] task started\n",
      "INFO:ewokscore.events.global_state:[job 'd27cebcd-0d97-4e4d-bfdf-3e095dfc100e'] [workflow 'self_calling_1'] [node 'node_integrate'] [task 'ewoksxrpd.tasks.integrate.Integrate1D'] task finished\n",
      "INFO:ewokscore.events.global_state:[job 'd27cebcd-0d97-4e4d-bfdf-3e095dfc100e'] [workflow 'self_calling_1'] [node 'node_save'] [task 'ewoksxrpd.tasks.ascii.SaveAsciiPattern1D'] task started\n",
      "INFO:ewokscore.events.global_state:[job 'd27cebcd-0d97-4e4d-bfdf-3e095dfc100e'] [workflow 'self_calling_1'] [node 'node_save'] [task 'ewoksxrpd.tasks.ascii.SaveAsciiPattern1D'] task finished\n",
      "INFO:ewokscore.events.global_state:[job 'd27cebcd-0d97-4e4d-bfdf-3e095dfc100e'] [workflow 'self_calling_1'] [node 'node_print'] [task 'selfcalling.ProxyPrint2'] task started\n"
     ]
    },
    {
     "name": "stdout",
     "output_type": "stream",
     "text": [
      "(2048, 2048)\n",
      "(2048, 2048)\n",
      "{'dist': 0.1945710487399116, 'poni1': 0.09140108239941036, 'poni2': 0.0831203924302883, 'rot1': 0.06326716380102028, 'rot2': -0.054738929703024644, 'rot3': -8.967452065677822e-10}\n",
      "12.4\n",
      "RayonixSx165\n"
     ]
    },
    {
     "name": "stderr",
     "output_type": "stream",
     "text": [
      "INFO:ewokscore.events.global_state:[job 'd27cebcd-0d97-4e4d-bfdf-3e095dfc100e'] [workflow 'self_calling_1'] [node 'node_print'] [task 'selfcalling.ProxyPrint2'] task finished\n",
      "INFO:ewokscore.events.global_state:[job 'd27cebcd-0d97-4e4d-bfdf-3e095dfc100e'] [workflow 'self_calling_1'] [node 'node_open'] [task 'selfcalling.ProxyOpenManyData2'] task started\n",
      "INFO:ewokscore.events.global_state:[job 'd27cebcd-0d97-4e4d-bfdf-3e095dfc100e'] [workflow 'self_calling_1'] [node 'node_integrate'] [task 'ewoksxrpd.tasks.integrate.Integrate1D'] task finished\n",
      "INFO:ewokscore.events.global_state:[job 'd27cebcd-0d97-4e4d-bfdf-3e095dfc100e'] [workflow 'self_calling_1'] [node 'node_open'] [task 'selfcalling.ProxyOpenManyData2'] task finished\n",
      "INFO:ewokscore.events.global_state:[job 'd27cebcd-0d97-4e4d-bfdf-3e095dfc100e'] [workflow 'self_calling_1'] [node 'node_save'] [task 'ewoksxrpd.tasks.ascii.SaveAsciiPattern1D'] task finished\n",
      "INFO:ewokscore.events.global_state:[job 'd27cebcd-0d97-4e4d-bfdf-3e095dfc100e'] [workflow 'self_calling_1'] [node 'node_save'] [task 'ewoksxrpd.tasks.ascii.SaveAsciiPattern1D'] task started\n",
      "INFO:ewokscore.events.global_state:[job 'd27cebcd-0d97-4e4d-bfdf-3e095dfc100e'] [workflow 'self_calling_1'] [node 'node_integrate'] [task 'ewoksxrpd.tasks.integrate.Integrate1D'] task started\n",
      "INFO:ewokscore.events.global_state:[job 'd27cebcd-0d97-4e4d-bfdf-3e095dfc100e'] [workflow 'self_calling_1'] [node 'node_save'] [task 'ewoksxrpd.tasks.ascii.SaveAsciiPattern1D'] task started\n",
      "INFO:ewokscore.events.global_state:[job 'd27cebcd-0d97-4e4d-bfdf-3e095dfc100e'] [workflow 'self_calling_1'] [node 'node_print'] [task 'selfcalling.ProxyPrint2'] task started\n"
     ]
    },
    {
     "name": "stdout",
     "output_type": "stream",
     "text": [
      "(2048, 2048)\n"
     ]
    },
    {
     "name": "stderr",
     "output_type": "stream",
     "text": [
      "INFO:ewokscore.events.global_state:[job 'd27cebcd-0d97-4e4d-bfdf-3e095dfc100e'] [workflow 'self_calling_1'] [node 'node_save'] [task 'ewoksxrpd.tasks.ascii.SaveAsciiPattern1D'] task finished\n"
     ]
    },
    {
     "name": "stdout",
     "output_type": "stream",
     "text": [
      "(2048, 2048)\n",
      "{'dist': 0.1945710487399116, 'poni1': 0.09140108239941036, 'poni2': 0.0831203924302883, 'rot1': 0.06326716380102028, 'rot2': -0.054738929703024644, 'rot3': -8.967452065677822e-10}\n",
      "12.4\n",
      "RayonixSx165\n"
     ]
    },
    {
     "name": "stderr",
     "output_type": "stream",
     "text": [
      "INFO:ewokscore.events.global_state:[job 'd27cebcd-0d97-4e4d-bfdf-3e095dfc100e'] [workflow 'self_calling_1'] [node 'node_print'] [task 'selfcalling.ProxyPrint2'] task finished\n",
      "INFO:ewokscore.events.global_state:[job 'd27cebcd-0d97-4e4d-bfdf-3e095dfc100e'] [workflow 'self_calling_1'] [node 'node_open'] [task 'selfcalling.ProxyOpenManyData2'] task started\n",
      "INFO:ewokscore.events.global_state:[job 'd27cebcd-0d97-4e4d-bfdf-3e095dfc100e'] [workflow 'self_calling_1'] [node 'node_open'] [task 'selfcalling.ProxyOpenManyData2'] task finished\n",
      "INFO:ewokscore.events.global_state:[job 'd27cebcd-0d97-4e4d-bfdf-3e095dfc100e'] [workflow 'self_calling_1'] [node 'node_integrate'] [task 'ewoksxrpd.tasks.integrate.Integrate1D'] task finished\n"
     ]
    },
    {
     "name": "stdout",
     "output_type": "stream",
     "text": [
      "{'dist': 0.1945710487399116, 'poni1': 0.09140108239941036, 'poni2': 0.0831203924302883, 'rot1': 0.06326716380102028, 'rot2': -0.054738929703024644, 'rot3': -8.967452065677822e-10}"
     ]
    },
    {
     "name": "stderr",
     "output_type": "stream",
     "text": [
      "INFO:ewokscore.events.global_state:[job 'd27cebcd-0d97-4e4d-bfdf-3e095dfc100e'] [workflow 'self_calling_1'] [node 'node_print'] [task 'selfcalling.ProxyPrint2'] task started\n"
     ]
    },
    {
     "name": "stdout",
     "output_type": "stream",
     "text": [
      "(2048, 2048)\n",
      "(2048, 2048)\n",
      "\n",
      "12.4\n",
      "RayonixSx165\n"
     ]
    },
    {
     "name": "stderr",
     "output_type": "stream",
     "text": [
      "INFO:ewokscore.events.global_state:[job 'd27cebcd-0d97-4e4d-bfdf-3e095dfc100e'] [workflow 'self_calling_1'] [node 'node_print'] [task 'selfcalling.ProxyPrint2'] task finished\n",
      "INFO:ewokscore.events.global_state:[job 'd27cebcd-0d97-4e4d-bfdf-3e095dfc100e'] [workflow 'self_calling_1'] [node 'node_integrate'] [task 'ewoksxrpd.tasks.integrate.Integrate1D'] task started\n",
      "INFO:ewokscore.events.global_state:[job 'd27cebcd-0d97-4e4d-bfdf-3e095dfc100e'] [workflow 'self_calling_1'] [node 'node_open'] [task 'selfcalling.ProxyOpenManyData2'] task started\n",
      "INFO:ewokscore.events.global_state:[job 'd27cebcd-0d97-4e4d-bfdf-3e095dfc100e'] [workflow 'self_calling_1'] [node 'node_open'] [task 'selfcalling.ProxyOpenManyData2'] task finished\n",
      "INFO:ewokscore.events.global_state:[job 'd27cebcd-0d97-4e4d-bfdf-3e095dfc100e'] [workflow 'self_calling_1'] [node 'node_save'] [task 'ewoksxrpd.tasks.ascii.SaveAsciiPattern1D'] task started\n",
      "INFO:ewokscore.events.global_state:[job 'd27cebcd-0d97-4e4d-bfdf-3e095dfc100e'] [workflow 'self_calling_1'] [node 'node_save'] [task 'ewoksxrpd.tasks.ascii.SaveAsciiPattern1D'] task finished\n",
      "INFO:ewokscore.events.global_state:[job 'd27cebcd-0d97-4e4d-bfdf-3e095dfc100e'] [workflow 'self_calling_1'] [node 'node_integrate'] [task 'ewoksxrpd.tasks.integrate.Integrate1D'] task finished\n",
      "INFO:ewokscore.events.global_state:[job 'd27cebcd-0d97-4e4d-bfdf-3e095dfc100e'] [workflow 'self_calling_1'] [node 'node_print'] [task 'selfcalling.ProxyPrint2'] task started\n",
      "INFO:ewokscore.events.global_state:[job 'd27cebcd-0d97-4e4d-bfdf-3e095dfc100e'] [workflow 'self_calling_1'] [node 'node_integrate'] [task 'ewoksxrpd.tasks.integrate.Integrate1D'] task started\n"
     ]
    },
    {
     "name": "stdout",
     "output_type": "stream",
     "text": [
      "(2048, 2048)\n",
      "(2048, 2048)\n",
      "{'dist': 0.1945710487399116, 'poni1': 0.09140108239941036, 'poni2': 0.0831203924302883, 'rot1': 0.06326716380102028, 'rot2': -0.054738929703024644, 'rot3': -8.967452065677822e-10}\n",
      "12.4\n",
      "RayonixSx165\n"
     ]
    },
    {
     "name": "stderr",
     "output_type": "stream",
     "text": [
      "INFO:ewokscore.events.global_state:[job 'd27cebcd-0d97-4e4d-bfdf-3e095dfc100e'] [workflow 'self_calling_1'] [node 'node_print'] [task 'selfcalling.ProxyPrint2'] task finished\n",
      "INFO:ewokscore.events.global_state:[job 'd27cebcd-0d97-4e4d-bfdf-3e095dfc100e'] [workflow 'self_calling_1'] [node 'node_open'] [task 'selfcalling.ProxyOpenManyData2'] task started\n",
      "INFO:ewokscore.events.global_state:[job 'd27cebcd-0d97-4e4d-bfdf-3e095dfc100e'] [workflow 'self_calling_1'] [node 'node_open'] [task 'selfcalling.ProxyOpenManyData2'] task finished\n",
      "INFO:ewokscore.events.global_state:[job 'd27cebcd-0d97-4e4d-bfdf-3e095dfc100e'] [workflow 'self_calling_1'] [node 'node_save'] [task 'ewoksxrpd.tasks.ascii.SaveAsciiPattern1D'] task started\n",
      "INFO:ewokscore.events.global_state:[job 'd27cebcd-0d97-4e4d-bfdf-3e095dfc100e'] [workflow 'self_calling_1'] [node 'node_integrate'] [task 'ewoksxrpd.tasks.integrate.Integrate1D'] task started\n",
      "INFO:ewokscore.events.global_state:[job 'd27cebcd-0d97-4e4d-bfdf-3e095dfc100e'] [workflow 'self_calling_1'] [node 'node_save'] [task 'ewoksxrpd.tasks.ascii.SaveAsciiPattern1D'] task finished\n",
      "INFO:ewokscore.events.global_state:[job 'd27cebcd-0d97-4e4d-bfdf-3e095dfc100e'] [workflow 'self_calling_1'] [node 'node_print'] [task 'selfcalling.ProxyPrint2'] task started\n"
     ]
    },
    {
     "name": "stdout",
     "output_type": "stream",
     "text": [
      "\n",
      "(2048, 2048)\n",
      "(2048, 2048)\n",
      "{'dist': 0.1945710487399116, 'poni1': 0.09140108239941036, 'poni2': 0.0831203924302883, 'rot1': 0.06326716380102028, 'rot2': -0.054738929703024644, 'rot3': -8.967452065677822e-10}\n",
      "12.4\n",
      "RayonixSx165"
     ]
    },
    {
     "name": "stderr",
     "output_type": "stream",
     "text": [
      "INFO:ewokscore.events.global_state:[job 'd27cebcd-0d97-4e4d-bfdf-3e095dfc100e'] [workflow 'self_calling_1'] [node 'node_print'] [task 'selfcalling.ProxyPrint2'] task finished\n",
      "INFO:ewokscore.events.global_state:[job 'd27cebcd-0d97-4e4d-bfdf-3e095dfc100e'] [workflow 'self_calling_1'] [node 'node_integrate'] [task 'ewoksxrpd.tasks.integrate.Integrate1D'] task finished\n",
      "INFO:ewokscore.events.global_state:[job 'd27cebcd-0d97-4e4d-bfdf-3e095dfc100e'] [workflow 'self_calling_1'] [node 'node_open'] [task 'selfcalling.ProxyOpenManyData2'] task started\n",
      "INFO:ewokscore.events.global_state:[job 'd27cebcd-0d97-4e4d-bfdf-3e095dfc100e'] [workflow 'self_calling_1'] [node 'node_open'] [task 'selfcalling.ProxyOpenManyData2'] task finished\n",
      "INFO:ewokscore.events.global_state:[job 'd27cebcd-0d97-4e4d-bfdf-3e095dfc100e'] [workflow 'self_calling_1'] [node 'node_integrate'] [task 'ewoksxrpd.tasks.integrate.Integrate1D'] task started\n",
      "INFO:ewokscore.events.global_state:[job 'd27cebcd-0d97-4e4d-bfdf-3e095dfc100e'] [workflow 'self_calling_1'] [node 'node_save'] [task 'ewoksxrpd.tasks.ascii.SaveAsciiPattern1D'] task started\n",
      "INFO:ewokscore.events.global_state:[job 'd27cebcd-0d97-4e4d-bfdf-3e095dfc100e'] [workflow 'self_calling_1'] [node 'node_print'] [task 'selfcalling.ProxyPrint2'] task started\n"
     ]
    },
    {
     "name": "stdout",
     "output_type": "stream",
     "text": [
      "(2048, 2048)\n",
      "(2048, 2048)"
     ]
    },
    {
     "name": "stderr",
     "output_type": "stream",
     "text": [
      "INFO:ewokscore.events.global_state:[job 'd27cebcd-0d97-4e4d-bfdf-3e095dfc100e'] [workflow 'self_calling_1'] [node 'node_save'] [task 'ewoksxrpd.tasks.ascii.SaveAsciiPattern1D'] task finished\n"
     ]
    },
    {
     "name": "stdout",
     "output_type": "stream",
     "text": [
      "\n",
      "{'dist': 0.1945710487399116, 'poni1': 0.09140108239941036, 'poni2': 0.0831203924302883, 'rot1': 0.06326716380102028, 'rot2': -0.054738929703024644, 'rot3': -8.967452065677822e-10}\n",
      "12.4\n",
      "RayonixSx165\n"
     ]
    },
    {
     "name": "stderr",
     "output_type": "stream",
     "text": [
      "INFO:ewokscore.events.global_state:[job 'd27cebcd-0d97-4e4d-bfdf-3e095dfc100e'] [workflow 'self_calling_1'] [node 'node_open'] [task 'selfcalling.ProxyOpenManyData2'] task started\n",
      "INFO:ewokscore.events.global_state:[job 'd27cebcd-0d97-4e4d-bfdf-3e095dfc100e'] [workflow 'self_calling_1'] [node 'node_print'] [task 'selfcalling.ProxyPrint2'] task finished\n",
      "INFO:ewokscore.events.global_state:[job 'd27cebcd-0d97-4e4d-bfdf-3e095dfc100e'] [workflow 'self_calling_1'] [node 'node_open'] [task 'selfcalling.ProxyOpenManyData2'] task finished\n",
      "INFO:ewokscore.events.global_state:[job 'd27cebcd-0d97-4e4d-bfdf-3e095dfc100e'] [workflow 'self_calling_1'] [node 'node_integrate'] [task 'ewoksxrpd.tasks.integrate.Integrate1D'] task finished\n",
      "INFO:ewokscore.events.global_state:[job 'd27cebcd-0d97-4e4d-bfdf-3e095dfc100e'] [workflow 'self_calling_1'] [node 'node_print'] [task 'selfcalling.ProxyPrint2'] task started\n"
     ]
    },
    {
     "name": "stdout",
     "output_type": "stream",
     "text": [
      "(2048, 2048)\n",
      "(2048, 2048)\n",
      "{'dist': 0.1945710487399116, 'poni1': 0.09140108239941036, 'poni2': 0.0831203924302883, 'rot1': 0.06326716380102028, 'rot2': -0.054738929703024644, 'rot3': -8.967452065677822e-10}\n",
      "12.4\n",
      "RayonixSx165\n"
     ]
    },
    {
     "name": "stderr",
     "output_type": "stream",
     "text": [
      "INFO:ewokscore.events.global_state:[job 'd27cebcd-0d97-4e4d-bfdf-3e095dfc100e'] [workflow 'self_calling_1'] [node 'node_print'] [task 'selfcalling.ProxyPrint2'] task finished\n",
      "INFO:ewokscore.events.global_state:[job 'd27cebcd-0d97-4e4d-bfdf-3e095dfc100e'] [workflow 'self_calling_1'] [node 'node_integrate'] [task 'ewoksxrpd.tasks.integrate.Integrate1D'] task started\n",
      "INFO:ewokscore.events.global_state:[job 'd27cebcd-0d97-4e4d-bfdf-3e095dfc100e'] [workflow 'self_calling_1'] [node 'node_integrate'] [task 'ewoksxrpd.tasks.integrate.Integrate1D'] task finished\n",
      "INFO:ewokscore.events.global_state:[job 'd27cebcd-0d97-4e4d-bfdf-3e095dfc100e'] [workflow 'self_calling_1'] [node 'node_open'] [task 'selfcalling.ProxyOpenManyData2'] task started\n",
      "INFO:ewokscore.events.global_state:[job 'd27cebcd-0d97-4e4d-bfdf-3e095dfc100e'] [workflow 'self_calling_1'] [node 'node_save'] [task 'ewoksxrpd.tasks.ascii.SaveAsciiPattern1D'] task started\n",
      "INFO:ewokscore.events.global_state:[job 'd27cebcd-0d97-4e4d-bfdf-3e095dfc100e'] [workflow 'self_calling_1'] [node 'node_open'] [task 'selfcalling.ProxyOpenManyData2'] task finished\n",
      "INFO:ewokscore.events.global_state:[job 'd27cebcd-0d97-4e4d-bfdf-3e095dfc100e'] [workflow 'self_calling_1'] [node 'node_save'] [task 'ewoksxrpd.tasks.ascii.SaveAsciiPattern1D'] task finished\n",
      "INFO:ewokscore.events.global_state:[job 'd27cebcd-0d97-4e4d-bfdf-3e095dfc100e'] [workflow 'self_calling_1'] [node 'node_integrate'] [task 'ewoksxrpd.tasks.integrate.Integrate1D'] task started\n",
      "INFO:ewokscore.events.global_state:[job 'd27cebcd-0d97-4e4d-bfdf-3e095dfc100e'] [workflow 'self_calling_1'] [node 'node_print'] [task 'selfcalling.ProxyPrint2'] task started\n"
     ]
    },
    {
     "name": "stdout",
     "output_type": "stream",
     "text": [
      "(2048, 2048)(2048, 2048)"
     ]
    },
    {
     "name": "stderr",
     "output_type": "stream",
     "text": [
      "INFO:ewokscore.events.global_state:[job 'd27cebcd-0d97-4e4d-bfdf-3e095dfc100e'] [workflow 'self_calling_1'] [node 'node_save'] [task 'ewoksxrpd.tasks.ascii.SaveAsciiPattern1D'] task started\n"
     ]
    },
    {
     "name": "stdout",
     "output_type": "stream",
     "text": [
      "\n",
      "\n",
      "{'dist': 0.1945710487399116, 'poni1': 0.09140108239941036, 'poni2': 0.0831203924302883, 'rot1': 0.06326716380102028, 'rot2': -0.054738929703024644, 'rot3': -8.967452065677822e-10}\n"
     ]
    },
    {
     "name": "stderr",
     "output_type": "stream",
     "text": [
      "INFO:ewokscore.events.global_state:[job 'd27cebcd-0d97-4e4d-bfdf-3e095dfc100e'] [workflow 'self_calling_1'] [node 'node_save'] [task 'ewoksxrpd.tasks.ascii.SaveAsciiPattern1D'] task finished\n"
     ]
    },
    {
     "name": "stdout",
     "output_type": "stream",
     "text": [
      "12.4\n",
      "RayonixSx165\n"
     ]
    },
    {
     "name": "stderr",
     "output_type": "stream",
     "text": [
      "INFO:ewokscore.events.global_state:[job 'd27cebcd-0d97-4e4d-bfdf-3e095dfc100e'] [workflow 'self_calling_1'] [node 'node_print'] [task 'selfcalling.ProxyPrint2'] task finished\n",
      "INFO:ewokscore.events.global_state:[job 'd27cebcd-0d97-4e4d-bfdf-3e095dfc100e'] [workflow 'self_calling_1'] [node 'node_open'] [task 'selfcalling.ProxyOpenManyData2'] task started\n",
      "INFO:ewokscore.events.global_state:[job 'd27cebcd-0d97-4e4d-bfdf-3e095dfc100e'] [workflow 'self_calling_1'] [node 'node_open'] [task 'selfcalling.ProxyOpenManyData2'] task finished\n",
      "INFO:ewokscore.events.global_state:[job 'd27cebcd-0d97-4e4d-bfdf-3e095dfc100e'] [workflow 'self_calling_1'] [node 'node_integrate'] [task 'ewoksxrpd.tasks.integrate.Integrate1D'] task finished\n",
      "INFO:ewokscore.events.global_state:[job 'd27cebcd-0d97-4e4d-bfdf-3e095dfc100e'] [workflow 'self_calling_1'] [node 'node_print'] [task 'selfcalling.ProxyPrint2'] task started\n",
      "INFO:ewokscore.events.global_state:[job 'd27cebcd-0d97-4e4d-bfdf-3e095dfc100e'] [workflow 'self_calling_1'] [node 'node_save'] [task 'ewoksxrpd.tasks.ascii.SaveAsciiPattern1D'] task started\n",
      "INFO:ewokscore.events.global_state:[job 'd27cebcd-0d97-4e4d-bfdf-3e095dfc100e'] [workflow 'self_calling_1'] [node 'node_integrate'] [task 'ewoksxrpd.tasks.integrate.Integrate1D'] task started\n"
     ]
    },
    {
     "name": "stdout",
     "output_type": "stream",
     "text": [
      "(2048, 2048)"
     ]
    },
    {
     "name": "stderr",
     "output_type": "stream",
     "text": [
      "INFO:ewokscore.events.global_state:[job 'd27cebcd-0d97-4e4d-bfdf-3e095dfc100e'] [workflow 'self_calling_1'] [node 'node_save'] [task 'ewoksxrpd.tasks.ascii.SaveAsciiPattern1D'] task finished\n"
     ]
    },
    {
     "name": "stdout",
     "output_type": "stream",
     "text": [
      "\n",
      "(2048, 2048)\n"
     ]
    },
    {
     "name": "stderr",
     "output_type": "stream",
     "text": [
      "INFO:ewokscore.events.global_state:[job 'd27cebcd-0d97-4e4d-bfdf-3e095dfc100e'] [workflow 'self_calling_1'] [node 'node_open'] [task 'selfcalling.ProxyOpenManyData2'] task started\n"
     ]
    },
    {
     "name": "stdout",
     "output_type": "stream",
     "text": [
      "{'dist': 0.1945710487399116, 'poni1': 0.09140108239941036, 'poni2': 0.0831203924302883, 'rot1': 0.06326716380102028, 'rot2': -0.054738929703024644, 'rot3': -8.967452065677822e-10}\n",
      "12.4\n",
      "RayonixSx165\n"
     ]
    },
    {
     "name": "stderr",
     "output_type": "stream",
     "text": [
      "INFO:ewokscore.events.global_state:[job 'd27cebcd-0d97-4e4d-bfdf-3e095dfc100e'] [workflow 'self_calling_1'] [node 'node_print'] [task 'selfcalling.ProxyPrint2'] task finished\n",
      "INFO:ewokscore.events.global_state:[job 'd27cebcd-0d97-4e4d-bfdf-3e095dfc100e'] [workflow 'self_calling_1'] [node 'node_integrate'] [task 'ewoksxrpd.tasks.integrate.Integrate1D'] task finished\n",
      "INFO:ewokscore.events.global_state:[job 'd27cebcd-0d97-4e4d-bfdf-3e095dfc100e'] [workflow 'self_calling_1'] [node 'node_open'] [task 'selfcalling.ProxyOpenManyData2'] task finished\n",
      "INFO:ewokscore.events.global_state:[job 'd27cebcd-0d97-4e4d-bfdf-3e095dfc100e'] [workflow 'self_calling_1'] [node 'node_print'] [task 'selfcalling.ProxyPrint2'] task started\n"
     ]
    },
    {
     "name": "stdout",
     "output_type": "stream",
     "text": [
      "(2048, 2048)\n",
      "(2048, 2048)\n"
     ]
    },
    {
     "name": "stderr",
     "output_type": "stream",
     "text": [
      "INFO:ewokscore.events.global_state:[job 'd27cebcd-0d97-4e4d-bfdf-3e095dfc100e'] [workflow 'self_calling_1'] [node 'node_integrate'] [task 'ewoksxrpd.tasks.integrate.Integrate1D'] task started\n"
     ]
    },
    {
     "name": "stdout",
     "output_type": "stream",
     "text": [
      "{'dist': 0.1945710487399116, 'poni1': 0.09140108239941036, 'poni2': 0.0831203924302883, 'rot1': 0.06326716380102028, 'rot2': -0.054738929703024644, 'rot3': -8.967452065677822e-10}\n",
      "12.4\n",
      "RayonixSx165\n"
     ]
    },
    {
     "name": "stderr",
     "output_type": "stream",
     "text": [
      "INFO:ewokscore.events.global_state:[job 'd27cebcd-0d97-4e4d-bfdf-3e095dfc100e'] [workflow 'self_calling_1'] [node 'node_print'] [task 'selfcalling.ProxyPrint2'] task finished\n",
      "INFO:ewokscore.events.global_state:[job 'd27cebcd-0d97-4e4d-bfdf-3e095dfc100e'] [workflow 'self_calling_1'] [node 'node_save'] [task 'ewoksxrpd.tasks.ascii.SaveAsciiPattern1D'] task started\n",
      "INFO:ewokscore.events.global_state:[job 'd27cebcd-0d97-4e4d-bfdf-3e095dfc100e'] [workflow 'self_calling_1'] [node 'node_open'] [task 'selfcalling.ProxyOpenManyData2'] task started\n",
      "INFO:ewokscore.events.global_state:[job 'd27cebcd-0d97-4e4d-bfdf-3e095dfc100e'] [workflow 'self_calling_1'] [node 'node_save'] [task 'ewoksxrpd.tasks.ascii.SaveAsciiPattern1D'] task finished\n",
      "INFO:ewokscore.events.global_state:[job 'd27cebcd-0d97-4e4d-bfdf-3e095dfc100e'] [workflow 'self_calling_1'] [node 'node_open'] [task 'selfcalling.ProxyOpenManyData2'] task finished\n",
      "INFO:ewokscore.events.global_state:[job 'd27cebcd-0d97-4e4d-bfdf-3e095dfc100e'] [workflow 'self_calling_1'] [node 'node_integrate'] [task 'ewoksxrpd.tasks.integrate.Integrate1D'] task finished\n",
      "INFO:ewokscore.events.global_state:[job 'd27cebcd-0d97-4e4d-bfdf-3e095dfc100e'] [workflow 'self_calling_1'] [node 'node_print'] [task 'selfcalling.ProxyPrint2'] task started\n"
     ]
    },
    {
     "name": "stdout",
     "output_type": "stream",
     "text": [
      "(2048, 2048)\n",
      "(2048, 2048)\n",
      "{'dist': 0.1945710487399116, 'poni1': 0.09140108239941036, 'poni2': 0.0831203924302883, 'rot1': 0.06326716380102028, 'rot2': -0.054738929703024644, 'rot3': -8.967452065677822e-10}\n",
      "12.4"
     ]
    },
    {
     "name": "stderr",
     "output_type": "stream",
     "text": [
      "INFO:ewokscore.events.global_state:[job 'd27cebcd-0d97-4e4d-bfdf-3e095dfc100e'] [workflow 'self_calling_1'] [node 'node_integrate'] [task 'ewoksxrpd.tasks.integrate.Integrate1D'] task started\n"
     ]
    },
    {
     "name": "stdout",
     "output_type": "stream",
     "text": [
      "\n",
      "RayonixSx165\n"
     ]
    },
    {
     "name": "stderr",
     "output_type": "stream",
     "text": [
      "INFO:ewokscore.events.global_state:[job 'd27cebcd-0d97-4e4d-bfdf-3e095dfc100e'] [workflow 'self_calling_1'] [node 'node_print'] [task 'selfcalling.ProxyPrint2'] task finished\n",
      "INFO:ewokscore.events.global_state:[job 'd27cebcd-0d97-4e4d-bfdf-3e095dfc100e'] [workflow 'self_calling_1'] [node 'node_open'] [task 'selfcalling.ProxyOpenManyData2'] task started\n",
      "INFO:ewokscore.events.global_state:[job 'd27cebcd-0d97-4e4d-bfdf-3e095dfc100e'] [workflow 'self_calling_1'] [node 'node_save'] [task 'ewoksxrpd.tasks.ascii.SaveAsciiPattern1D'] task started\n",
      "INFO:ewokscore.events.global_state:[job 'd27cebcd-0d97-4e4d-bfdf-3e095dfc100e'] [workflow 'self_calling_1'] [node 'node_open'] [task 'selfcalling.ProxyOpenManyData2'] task finished\n",
      "INFO:ewokscore.events.global_state:[job 'd27cebcd-0d97-4e4d-bfdf-3e095dfc100e'] [workflow 'self_calling_1'] [node 'node_save'] [task 'ewoksxrpd.tasks.ascii.SaveAsciiPattern1D'] task finished\n",
      "INFO:ewokscore.events.global_state:[job 'd27cebcd-0d97-4e4d-bfdf-3e095dfc100e'] [workflow 'self_calling_1'] [node 'node_integrate'] [task 'ewoksxrpd.tasks.integrate.Integrate1D'] task finished\n",
      "INFO:ewokscore.events.global_state:[job 'd27cebcd-0d97-4e4d-bfdf-3e095dfc100e'] [workflow 'self_calling_1'] [node 'node_integrate'] [task 'ewoksxrpd.tasks.integrate.Integrate1D'] task started\n",
      "INFO:ewokscore.events.global_state:[job 'd27cebcd-0d97-4e4d-bfdf-3e095dfc100e'] [workflow 'self_calling_1'] [node 'node_print'] [task 'selfcalling.ProxyPrint2'] task started\n",
      "INFO:ewokscore.events.global_state:[job 'd27cebcd-0d97-4e4d-bfdf-3e095dfc100e'] [workflow 'self_calling_1'] [node 'node_integrate'] [task 'ewoksxrpd.tasks.integrate.Integrate1D'] task finished\n"
     ]
    },
    {
     "name": "stdout",
     "output_type": "stream",
     "text": [
      "(2048, 2048)\n",
      "(2048, 2048)\n",
      "{'dist': 0.1945710487399116, 'poni1': 0.09140108239941036, 'poni2': 0.0831203924302883, 'rot1': 0.06326716380102028, 'rot2': -0.054738929703024644, 'rot3': -8.967452065677822e-10}\n"
     ]
    },
    {
     "name": "stderr",
     "output_type": "stream",
     "text": [
      "INFO:ewokscore.events.global_state:[job 'd27cebcd-0d97-4e4d-bfdf-3e095dfc100e'] [workflow 'self_calling_1'] [node 'node_save'] [task 'ewoksxrpd.tasks.ascii.SaveAsciiPattern1D'] task started\n"
     ]
    },
    {
     "name": "stdout",
     "output_type": "stream",
     "text": [
      "12.4\n",
      "RayonixSx165\n"
     ]
    },
    {
     "name": "stderr",
     "output_type": "stream",
     "text": [
      "INFO:ewokscore.events.global_state:[job 'd27cebcd-0d97-4e4d-bfdf-3e095dfc100e'] [workflow 'self_calling_1'] [node 'node_save'] [task 'ewoksxrpd.tasks.ascii.SaveAsciiPattern1D'] task finished\n",
      "INFO:ewokscore.events.global_state:[job 'd27cebcd-0d97-4e4d-bfdf-3e095dfc100e'] [workflow 'self_calling_1'] [node 'node_print'] [task 'selfcalling.ProxyPrint2'] task finished\n",
      "INFO:ewokscore.events.global_state:[job 'd27cebcd-0d97-4e4d-bfdf-3e095dfc100e'] [workflow 'self_calling_1'] [node 'node_open'] [task 'selfcalling.ProxyOpenManyData2'] task started\n",
      "INFO:ewokscore.events.global_state:[job 'd27cebcd-0d97-4e4d-bfdf-3e095dfc100e'] [workflow 'self_calling_1'] [node 'node_open'] [task 'selfcalling.ProxyOpenManyData2'] task finished\n",
      "INFO:ewokscore.events.global_state:[job 'd27cebcd-0d97-4e4d-bfdf-3e095dfc100e'] [workflow 'self_calling_1'] [node 'node_print'] [task 'selfcalling.ProxyPrint2'] task started\n"
     ]
    },
    {
     "name": "stdout",
     "output_type": "stream",
     "text": [
      "(2048, 2048)\n",
      "(2048, 2048)\n",
      "{'dist': 0.1945710487399116, 'poni1': 0.09140108239941036, 'poni2': 0.0831203924302883, 'rot1': 0.06326716380102028, 'rot2': -0.054738929703024644, 'rot3': -8.967452065677822e-10}\n",
      "12.4\n",
      "RayonixSx165\n"
     ]
    },
    {
     "name": "stderr",
     "output_type": "stream",
     "text": [
      "INFO:ewokscore.events.global_state:[job 'd27cebcd-0d97-4e4d-bfdf-3e095dfc100e'] [workflow 'self_calling_1'] [node 'node_print'] [task 'selfcalling.ProxyPrint2'] task finished\n",
      "INFO:ewokscore.events.global_state:[job 'd27cebcd-0d97-4e4d-bfdf-3e095dfc100e'] [workflow 'self_calling_1'] [node 'node_integrate'] [task 'ewoksxrpd.tasks.integrate.Integrate1D'] task started\n",
      "INFO:ewokscore.events.global_state:[job 'd27cebcd-0d97-4e4d-bfdf-3e095dfc100e'] [workflow 'self_calling_1'] [node 'node_integrate'] [task 'ewoksxrpd.tasks.integrate.Integrate1D'] task finished\n",
      "INFO:ewokscore.events.global_state:[job 'd27cebcd-0d97-4e4d-bfdf-3e095dfc100e'] [workflow 'self_calling_1'] [node 'node_open'] [task 'selfcalling.ProxyOpenManyData2'] task finished\n",
      "INFO:ewokscore.events.global_state:[job 'd27cebcd-0d97-4e4d-bfdf-3e095dfc100e'] [workflow 'self_calling_1'] [node 'node_open'] [task 'selfcalling.ProxyOpenManyData2'] task started\n",
      "INFO:ewokscore.events.global_state:[job 'd27cebcd-0d97-4e4d-bfdf-3e095dfc100e'] [workflow 'self_calling_1'] [node 'node_save'] [task 'ewoksxrpd.tasks.ascii.SaveAsciiPattern1D'] task started\n",
      "INFO:ewokscore.events.global_state:[job 'd27cebcd-0d97-4e4d-bfdf-3e095dfc100e'] [workflow 'self_calling_1'] [node 'node_save'] [task 'ewoksxrpd.tasks.ascii.SaveAsciiPattern1D'] task finished\n",
      "INFO:ewokscore.events.global_state:[job 'd27cebcd-0d97-4e4d-bfdf-3e095dfc100e'] [workflow 'self_calling_1'] [node 'node_print'] [task 'selfcalling.ProxyPrint2'] task started\n"
     ]
    },
    {
     "name": "stdout",
     "output_type": "stream",
     "text": [
      "\n",
      "(2048, 2048)\n",
      "(2048, 2048)\n",
      "{'dist': 0.1945710487399116, 'poni1': 0.09140108239941036, 'poni2': 0.0831203924302883, 'rot1': 0.06326716380102028, 'rot2': -0.054738929703024644, 'rot3': -8.967452065677822e-10}\n",
      "12.4RayonixSx165\n"
     ]
    },
    {
     "name": "stderr",
     "output_type": "stream",
     "text": [
      "INFO:ewokscore.events.global_state:[job 'd27cebcd-0d97-4e4d-bfdf-3e095dfc100e'] [workflow 'self_calling_1'] [node 'node_print'] [task 'selfcalling.ProxyPrint2'] task finished\n",
      "INFO:ewokscore.events.global_state:[job 'd27cebcd-0d97-4e4d-bfdf-3e095dfc100e'] [workflow 'self_calling_1'] [node 'node_open'] [task 'selfcalling.ProxyOpenManyData2'] task started\n",
      "INFO:ewokscore.events.global_state:[job 'd27cebcd-0d97-4e4d-bfdf-3e095dfc100e'] [workflow 'self_calling_1'] [node 'node_open'] [task 'selfcalling.ProxyOpenManyData2'] task finished\n",
      "INFO:ewokscore.events.global_state:[job 'd27cebcd-0d97-4e4d-bfdf-3e095dfc100e'] [workflow 'self_calling_1'] [node 'node_save'] [task 'ewoksxrpd.tasks.ascii.SaveAsciiPattern1D'] task started\n",
      "INFO:ewokscore.events.global_state:[job 'd27cebcd-0d97-4e4d-bfdf-3e095dfc100e'] [workflow 'self_calling_1'] [node 'node_save'] [task 'ewoksxrpd.tasks.ascii.SaveAsciiPattern1D'] task finished\n",
      "INFO:ewokscore.events.global_state:[job 'd27cebcd-0d97-4e4d-bfdf-3e095dfc100e'] [workflow 'self_calling_1'] [node 'node_integrate'] [task 'ewoksxrpd.tasks.integrate.Integrate1D'] task started\n",
      "INFO:ewokscore.events.global_state:[job 'd27cebcd-0d97-4e4d-bfdf-3e095dfc100e'] [workflow 'self_calling_1'] [node 'node_print'] [task 'selfcalling.ProxyPrint2'] task started\n"
     ]
    },
    {
     "name": "stdout",
     "output_type": "stream",
     "text": [
      "(2048, 2048)(2048, 2048)\n",
      "\n",
      "{'dist': 0.1945710487399116, 'poni1': 0.09140108239941036, 'poni2': 0.0831203924302883, 'rot1': 0.06326716380102028, 'rot2': -0.054738929703024644, 'rot3': -8.967452065677822e-10}\n",
      "12.4\n",
      "RayonixSx165\n"
     ]
    },
    {
     "name": "stderr",
     "output_type": "stream",
     "text": [
      "INFO:ewokscore.events.global_state:[job 'd27cebcd-0d97-4e4d-bfdf-3e095dfc100e'] [workflow 'self_calling_1'] [node 'node_print'] [task 'selfcalling.ProxyPrint2'] task finished\n",
      "INFO:ewokscore.events.global_state:[job 'd27cebcd-0d97-4e4d-bfdf-3e095dfc100e'] [workflow 'self_calling_1'] [node 'node_open'] [task 'selfcalling.ProxyOpenManyData2'] task started\n",
      "INFO:ewokscore.events.global_state:[job 'd27cebcd-0d97-4e4d-bfdf-3e095dfc100e'] [workflow 'self_calling_1'] [node 'node_open'] [task 'selfcalling.ProxyOpenManyData2'] task finished\n",
      "INFO:ewokscore.events.global_state:[job 'd27cebcd-0d97-4e4d-bfdf-3e095dfc100e'] [workflow 'self_calling_1'] [node 'node_print'] [task 'selfcalling.ProxyPrint2'] task started\n"
     ]
    },
    {
     "name": "stdout",
     "output_type": "stream",
     "text": [
      "(2048, 2048)(2048, 2048)\n",
      "\n",
      "{'dist': 0.1945710487399116, 'poni1': 0.09140108239941036, 'poni2': 0.0831203924302883, 'rot1': 0.06326716380102028, 'rot2': -0.054738929703024644, 'rot3': -8.967452065677822e-10}\n",
      "12.4\n",
      "RayonixSx165\n"
     ]
    },
    {
     "name": "stderr",
     "output_type": "stream",
     "text": [
      "INFO:ewokscore.events.global_state:[job 'd27cebcd-0d97-4e4d-bfdf-3e095dfc100e'] [workflow 'self_calling_1'] [node 'node_print'] [task 'selfcalling.ProxyPrint2'] task finished\n",
      "INFO:ewokscore.events.global_state:[job 'd27cebcd-0d97-4e4d-bfdf-3e095dfc100e'] [workflow 'self_calling_1'] [node 'node_open'] [task 'selfcalling.ProxyOpenManyData2'] task started\n",
      "INFO:ewokscore.events.global_state:[job 'd27cebcd-0d97-4e4d-bfdf-3e095dfc100e'] [workflow 'self_calling_1'] [node 'node_open'] [task 'selfcalling.ProxyOpenManyData2'] task finished\n",
      "INFO:ewokscore.events.global_state:[job 'd27cebcd-0d97-4e4d-bfdf-3e095dfc100e'] [workflow 'self_calling_1'] [node 'node_integrate'] [task 'ewoksxrpd.tasks.integrate.Integrate1D'] task started\n",
      "INFO:ewokscore.events.global_state:[job 'd27cebcd-0d97-4e4d-bfdf-3e095dfc100e'] [workflow 'self_calling_1'] [node 'node_integrate'] [task 'ewoksxrpd.tasks.integrate.Integrate1D'] task finished\n",
      "INFO:ewokscore.events.global_state:[job 'd27cebcd-0d97-4e4d-bfdf-3e095dfc100e'] [workflow 'self_calling_1'] [node 'node_integrate'] [task 'ewoksxrpd.tasks.integrate.Integrate1D'] task started\n",
      "INFO:ewokscore.events.global_state:[job 'd27cebcd-0d97-4e4d-bfdf-3e095dfc100e'] [workflow 'self_calling_1'] [node 'node_print'] [task 'selfcalling.ProxyPrint2'] task started\n"
     ]
    },
    {
     "name": "stdout",
     "output_type": "stream",
     "text": [
      "(2048, 2048)\n",
      "(2048, 2048)\n",
      "{'dist': 0.1945710487399116, 'poni1': 0.09140108239941036, 'poni2': 0.0831203924302883, 'rot1': 0.06326716380102028, 'rot2': -0.054738929703024644, 'rot3': -8.967452065677822e-10}\n"
     ]
    },
    {
     "name": "stderr",
     "output_type": "stream",
     "text": [
      "INFO:ewokscore.events.global_state:[job 'd27cebcd-0d97-4e4d-bfdf-3e095dfc100e'] [workflow 'self_calling_1'] [node 'node_open'] [task 'selfcalling.ProxyOpenManyData2'] task started\n"
     ]
    },
    {
     "name": "stdout",
     "output_type": "stream",
     "text": [
      "12.4\n",
      "RayonixSx165\n"
     ]
    },
    {
     "name": "stderr",
     "output_type": "stream",
     "text": [
      "INFO:ewokscore.events.global_state:[job 'd27cebcd-0d97-4e4d-bfdf-3e095dfc100e'] [workflow 'self_calling_1'] [node 'node_print'] [task 'selfcalling.ProxyPrint2'] task finished\n",
      "INFO:ewokscore.events.global_state:[job 'd27cebcd-0d97-4e4d-bfdf-3e095dfc100e'] [workflow 'self_calling_1'] [node 'node_open'] [task 'selfcalling.ProxyOpenManyData2'] task finished\n",
      "INFO:ewokscore.events.global_state:[job 'd27cebcd-0d97-4e4d-bfdf-3e095dfc100e'] [workflow 'self_calling_1'] [node 'node_save'] [task 'ewoksxrpd.tasks.ascii.SaveAsciiPattern1D'] task started\n",
      "INFO:ewokscore.events.global_state:[job 'd27cebcd-0d97-4e4d-bfdf-3e095dfc100e'] [workflow 'self_calling_1'] [node 'node_integrate'] [task 'ewoksxrpd.tasks.integrate.Integrate1D'] task started\n",
      "INFO:ewokscore.events.global_state:[job 'd27cebcd-0d97-4e4d-bfdf-3e095dfc100e'] [workflow 'self_calling_1'] [node 'node_save'] [task 'ewoksxrpd.tasks.ascii.SaveAsciiPattern1D'] task finished\n",
      "INFO:ewokscore.events.global_state:[job 'd27cebcd-0d97-4e4d-bfdf-3e095dfc100e'] [workflow 'self_calling_1'] [node 'node_print'] [task 'selfcalling.ProxyPrint2'] task started\n",
      "INFO:ewokscore.events.global_state:[job 'd27cebcd-0d97-4e4d-bfdf-3e095dfc100e'] [workflow 'self_calling_1'] [node 'node_integrate'] [task 'ewoksxrpd.tasks.integrate.Integrate1D'] task started\n"
     ]
    },
    {
     "name": "stdout",
     "output_type": "stream",
     "text": [
      "(2048, 2048)\n",
      "(2048, 2048)\n",
      "{'dist': 0.1945710487399116, 'poni1': 0.09140108239941036, 'poni2': 0.0831203924302883, 'rot1': 0.06326716380102028, 'rot2': -0.054738929703024644, 'rot3': -8.967452065677822e-10}\n",
      "12.4\n",
      "RayonixSx165\n"
     ]
    },
    {
     "name": "stderr",
     "output_type": "stream",
     "text": [
      "INFO:ewokscore.events.global_state:[job 'd27cebcd-0d97-4e4d-bfdf-3e095dfc100e'] [workflow 'self_calling_1'] [node 'node_open'] [task 'selfcalling.ProxyOpenManyData2'] task started\n",
      "INFO:ewokscore.events.global_state:[job 'd27cebcd-0d97-4e4d-bfdf-3e095dfc100e'] [workflow 'self_calling_1'] [node 'node_print'] [task 'selfcalling.ProxyPrint2'] task finished\n",
      "INFO:ewokscore.events.global_state:[job 'd27cebcd-0d97-4e4d-bfdf-3e095dfc100e'] [workflow 'self_calling_1'] [node 'node_open'] [task 'selfcalling.ProxyOpenManyData2'] task finished\n",
      "INFO:ewokscore.events.global_state:[job 'd27cebcd-0d97-4e4d-bfdf-3e095dfc100e'] [workflow 'self_calling_1'] [node 'node_integrate'] [task 'ewoksxrpd.tasks.integrate.Integrate1D'] task finished\n",
      "INFO:ewokscore.events.global_state:[job 'd27cebcd-0d97-4e4d-bfdf-3e095dfc100e'] [workflow 'self_calling_1'] [node 'node_print'] [task 'selfcalling.ProxyPrint2'] task started\n"
     ]
    },
    {
     "name": "stdout",
     "output_type": "stream",
     "text": [
      "12.4"
     ]
    },
    {
     "name": "stderr",
     "output_type": "stream",
     "text": [
      "INFO:ewokscore.events.global_state:[job 'd27cebcd-0d97-4e4d-bfdf-3e095dfc100e'] [workflow 'self_calling_1'] [node 'node_integrate'] [task 'ewoksxrpd.tasks.integrate.Integrate1D'] task finished\n"
     ]
    },
    {
     "name": "stdout",
     "output_type": "stream",
     "text": [
      "(2048, 2048)\n",
      "(2048, 2048)\n",
      "{'dist': 0.1945710487399116, 'poni1': 0.09140108239941036, 'poni2': 0.0831203924302883, 'rot1': 0.06326716380102028, 'rot2': -0.054738929703024644, 'rot3': -8.967452065677822e-10}\n",
      "\n",
      "RayonixSx165\n"
     ]
    },
    {
     "name": "stderr",
     "output_type": "stream",
     "text": [
      "INFO:ewokscore.events.global_state:[job 'd27cebcd-0d97-4e4d-bfdf-3e095dfc100e'] [workflow 'self_calling_1'] [node 'node_print'] [task 'selfcalling.ProxyPrint2'] task finished\n",
      "INFO:ewokscore.events.global_state:[job 'd27cebcd-0d97-4e4d-bfdf-3e095dfc100e'] [workflow 'self_calling_1'] [node 'node_open'] [task 'selfcalling.ProxyOpenManyData2'] task started\n",
      "INFO:ewokscore.events.global_state:[job 'd27cebcd-0d97-4e4d-bfdf-3e095dfc100e'] [workflow 'self_calling_1'] [node 'node_integrate'] [task 'ewoksxrpd.tasks.integrate.Integrate1D'] task started\n",
      "INFO:ewokscore.events.global_state:[job 'd27cebcd-0d97-4e4d-bfdf-3e095dfc100e'] [workflow 'self_calling_1'] [node 'node_open'] [task 'selfcalling.ProxyOpenManyData2'] task finished\n",
      "INFO:ewokscore.events.global_state:[job 'd27cebcd-0d97-4e4d-bfdf-3e095dfc100e'] [workflow 'self_calling_1'] [node 'node_save'] [task 'ewoksxrpd.tasks.ascii.SaveAsciiPattern1D'] task started\n",
      "INFO:ewokscore.events.global_state:[job 'd27cebcd-0d97-4e4d-bfdf-3e095dfc100e'] [workflow 'self_calling_1'] [node 'node_save'] [task 'ewoksxrpd.tasks.ascii.SaveAsciiPattern1D'] task finished\n",
      "INFO:ewokscore.events.global_state:[job 'd27cebcd-0d97-4e4d-bfdf-3e095dfc100e'] [workflow 'self_calling_1'] [node 'node_save'] [task 'ewoksxrpd.tasks.ascii.SaveAsciiPattern1D'] task started\n",
      "INFO:ewokscore.events.global_state:[job 'd27cebcd-0d97-4e4d-bfdf-3e095dfc100e'] [workflow 'self_calling_1'] [node 'node_integrate'] [task 'ewoksxrpd.tasks.integrate.Integrate1D'] task started\n",
      "INFO:ewokscore.events.global_state:[job 'd27cebcd-0d97-4e4d-bfdf-3e095dfc100e'] [workflow 'self_calling_1'] [node 'node_save'] [task 'ewoksxrpd.tasks.ascii.SaveAsciiPattern1D'] task finished\n",
      "INFO:ewokscore.events.global_state:[job 'd27cebcd-0d97-4e4d-bfdf-3e095dfc100e'] [workflow 'self_calling_1'] [node 'node_integrate'] [task 'ewoksxrpd.tasks.integrate.Integrate1D'] task finished\n",
      "INFO:ewokscore.events.global_state:[job 'd27cebcd-0d97-4e4d-bfdf-3e095dfc100e'] [workflow 'self_calling_1'] [node 'node_print'] [task 'selfcalling.ProxyPrint2'] task started\n"
     ]
    },
    {
     "name": "stdout",
     "output_type": "stream",
     "text": [
      "(2048, 2048)\n",
      "(2048, 2048)\n",
      "{'dist': 0.1945710487399116, 'poni1': 0.09140108239941036, 'poni2': 0.0831203924302883, 'rot1': 0.06326716380102028, 'rot2': -0.054738929703024644, 'rot3': -8.967452065677822e-10}\n",
      "12.4\n",
      "RayonixSx165\n"
     ]
    },
    {
     "name": "stderr",
     "output_type": "stream",
     "text": [
      "INFO:ewokscore.events.global_state:[job 'd27cebcd-0d97-4e4d-bfdf-3e095dfc100e'] [workflow 'self_calling_1'] [node 'node_print'] [task 'selfcalling.ProxyPrint2'] task finished\n",
      "INFO:ewokscore.events.global_state:[job 'd27cebcd-0d97-4e4d-bfdf-3e095dfc100e'] [workflow 'self_calling_1'] [node 'node_integrate'] [task 'ewoksxrpd.tasks.integrate.Integrate1D'] task finished\n",
      "INFO:ewokscore.events.global_state:[job 'd27cebcd-0d97-4e4d-bfdf-3e095dfc100e'] [workflow 'self_calling_1'] [node 'node_open'] [task 'selfcalling.ProxyOpenManyData2'] task started\n",
      "INFO:ewokscore.events.global_state:[job 'd27cebcd-0d97-4e4d-bfdf-3e095dfc100e'] [workflow 'self_calling_1'] [node 'node_open'] [task 'selfcalling.ProxyOpenManyData2'] task finished\n",
      "INFO:ewokscore.events.global_state:[job 'd27cebcd-0d97-4e4d-bfdf-3e095dfc100e'] [workflow 'self_calling_1'] [node 'node_integrate'] [task 'ewoksxrpd.tasks.integrate.Integrate1D'] task finished\n",
      "INFO:ewokscore.events.global_state:[job 'd27cebcd-0d97-4e4d-bfdf-3e095dfc100e'] [workflow 'self_calling_1'] [node 'node_integrate'] [task 'ewoksxrpd.tasks.integrate.Integrate1D'] task finished\n",
      "INFO:ewokscore.events.global_state:[job 'd27cebcd-0d97-4e4d-bfdf-3e095dfc100e'] [workflow 'self_calling_1'] [node 'node_save'] [task 'ewoksxrpd.tasks.ascii.SaveAsciiPattern1D'] task finished\n",
      "INFO:ewokscore.events.global_state:[job 'd27cebcd-0d97-4e4d-bfdf-3e095dfc100e'] [workflow 'self_calling_1'] [node 'node_save'] [task 'ewoksxrpd.tasks.ascii.SaveAsciiPattern1D'] task started\n",
      "INFO:ewokscore.events.global_state:[job 'd27cebcd-0d97-4e4d-bfdf-3e095dfc100e'] [workflow 'self_calling_1'] [node 'node_integrate'] [task 'ewoksxrpd.tasks.integrate.Integrate1D'] task started\n",
      "INFO:ewokscore.events.global_state:[job 'd27cebcd-0d97-4e4d-bfdf-3e095dfc100e'] [workflow 'self_calling_1'] [node 'node_save'] [task 'ewoksxrpd.tasks.ascii.SaveAsciiPattern1D'] task started\n",
      "INFO:ewokscore.events.global_state:[job 'd27cebcd-0d97-4e4d-bfdf-3e095dfc100e'] [workflow 'self_calling_1'] [node 'node_save'] [task 'ewoksxrpd.tasks.ascii.SaveAsciiPattern1D'] task finished\n",
      "INFO:ewokscore.events.global_state:[job 'd27cebcd-0d97-4e4d-bfdf-3e095dfc100e'] [workflow 'self_calling_1'] [node 'node_print'] [task 'selfcalling.ProxyPrint2'] task started\n"
     ]
    },
    {
     "name": "stdout",
     "output_type": "stream",
     "text": [
      "(2048, 2048)"
     ]
    },
    {
     "name": "stderr",
     "output_type": "stream",
     "text": [
      "INFO:ewokscore.events.global_state:[job 'd27cebcd-0d97-4e4d-bfdf-3e095dfc100e'] [workflow 'self_calling_1'] [node 'node_integrate'] [task 'ewoksxrpd.tasks.integrate.Integrate1D'] task finished\n",
      "INFO:ewokscore.events.global_state:[job 'd27cebcd-0d97-4e4d-bfdf-3e095dfc100e'] [workflow 'self_calling_1'] [node 'node_save'] [task 'ewoksxrpd.tasks.ascii.SaveAsciiPattern1D'] task started\n"
     ]
    },
    {
     "name": "stdout",
     "output_type": "stream",
     "text": [
      "\n",
      "(2048, 2048)\n",
      "{'dist': 0.1945710487399116, 'poni1': 0.09140108239941036, 'poni2': 0.0831203924302883, 'rot1': 0.06326716380102028, 'rot2': -0.054738929703024644, 'rot3': -8.967452065677822e-10}\n",
      "12.4\n",
      "RayonixSx165"
     ]
    },
    {
     "name": "stderr",
     "output_type": "stream",
     "text": [
      "INFO:ewokscore.events.global_state:[job 'd27cebcd-0d97-4e4d-bfdf-3e095dfc100e'] [workflow 'self_calling_1'] [node 'node_save'] [task 'ewoksxrpd.tasks.ascii.SaveAsciiPattern1D'] task finished\n"
     ]
    },
    {
     "name": "stdout",
     "output_type": "stream",
     "text": [
      "\n"
     ]
    },
    {
     "name": "stderr",
     "output_type": "stream",
     "text": [
      "INFO:ewokscore.events.global_state:[job 'd27cebcd-0d97-4e4d-bfdf-3e095dfc100e'] [workflow 'self_calling_1'] [node 'node_print'] [task 'selfcalling.ProxyPrint2'] task finished\n",
      "INFO:ewokscore.events.global_state:[job 'd27cebcd-0d97-4e4d-bfdf-3e095dfc100e'] [workflow 'self_calling_1'] [node 'node_save'] [task 'ewoksxrpd.tasks.ascii.SaveAsciiPattern1D'] task started\n",
      "INFO:ewokscore.events.global_state:[job 'd27cebcd-0d97-4e4d-bfdf-3e095dfc100e'] [workflow 'self_calling_1'] [node 'node_open'] [task 'selfcalling.ProxyOpenManyData2'] task started\n",
      "INFO:ewokscore.events.global_state:[job 'd27cebcd-0d97-4e4d-bfdf-3e095dfc100e'] [workflow 'self_calling_1'] [node 'node_save'] [task 'ewoksxrpd.tasks.ascii.SaveAsciiPattern1D'] task finished\n",
      "INFO:ewokscore.events.global_state:[job 'd27cebcd-0d97-4e4d-bfdf-3e095dfc100e'] [workflow 'self_calling_1'] [node 'node_open'] [task 'selfcalling.ProxyOpenManyData2'] task finished\n",
      "INFO:ewokscore.events.global_state:[job 'd27cebcd-0d97-4e4d-bfdf-3e095dfc100e'] [workflow 'self_calling_1'] [node 'node_integrate'] [task 'ewoksxrpd.tasks.integrate.Integrate1D'] task finished\n",
      "INFO:ewokscore.events.global_state:[job 'd27cebcd-0d97-4e4d-bfdf-3e095dfc100e'] [workflow 'self_calling_1'] [node 'node_print'] [task 'selfcalling.ProxyPrint2'] task finished\n",
      "INFO:ewokscore.events.global_state:[job 'd27cebcd-0d97-4e4d-bfdf-3e095dfc100e'] [workflow 'self_calling_1'] [node 'node_save'] [task 'ewoksxrpd.tasks.ascii.SaveAsciiPattern1D'] task started\n",
      "INFO:ewokscore.events.global_state:[job 'd27cebcd-0d97-4e4d-bfdf-3e095dfc100e'] [workflow 'self_calling_1'] [node 'node_save'] [task 'ewoksxrpd.tasks.ascii.SaveAsciiPattern1D'] task finished\n",
      "INFO:ewokscore.events.global_state:[job 'd27cebcd-0d97-4e4d-bfdf-3e095dfc100e'] [workflow 'self_calling_1'] [node 'node_print'] [task 'selfcalling.ProxyPrint2'] task started\n"
     ]
    },
    {
     "name": "stdout",
     "output_type": "stream",
     "text": [
      "(2048, 2048)\n",
      "(2048, 2048)\n",
      "{'dist': 0.1945710487399116, 'poni1': 0.09140108239941036, 'poni2': 0.0831203924302883, 'rot1': 0.06326716380102028, 'rot2': -0.054738929703024644, 'rot3': -8.967452065677822e-10}\n",
      "12.4\n",
      "RayonixSx165\n"
     ]
    },
    {
     "name": "stderr",
     "output_type": "stream",
     "text": [
      "INFO:ewokscore.events.global_state:[job 'd27cebcd-0d97-4e4d-bfdf-3e095dfc100e'] [workflow 'self_calling_1'] [node 'node_integrate'] [task 'ewoksxrpd.tasks.integrate.Integrate1D'] task started\n",
      "INFO:ewokscore.events.global_state:[job 'd27cebcd-0d97-4e4d-bfdf-3e095dfc100e'] [workflow 'self_calling_1'] [node 'node_integrate'] [task 'ewoksxrpd.tasks.integrate.Integrate1D'] task finished\n",
      "INFO:ewokscore.events.global_state:[job 'd27cebcd-0d97-4e4d-bfdf-3e095dfc100e'] [workflow 'self_calling_1'] [node 'node_open'] [task 'selfcalling.ProxyOpenManyData2'] task started\n",
      "INFO:ewokscore.events.global_state:[job 'd27cebcd-0d97-4e4d-bfdf-3e095dfc100e'] [workflow 'self_calling_1'] [node 'node_open'] [task 'selfcalling.ProxyOpenManyData2'] task finished\n",
      "INFO:ewokscore.events.global_state:[job 'd27cebcd-0d97-4e4d-bfdf-3e095dfc100e'] [workflow 'self_calling_1'] [node 'node_save'] [task 'ewoksxrpd.tasks.ascii.SaveAsciiPattern1D'] task started\n",
      "INFO:ewokscore.events.global_state:[job 'd27cebcd-0d97-4e4d-bfdf-3e095dfc100e'] [workflow 'self_calling_1'] [node 'node_save'] [task 'ewoksxrpd.tasks.ascii.SaveAsciiPattern1D'] task finished\n",
      "INFO:ewokscore.events.global_state:[job 'd27cebcd-0d97-4e4d-bfdf-3e095dfc100e'] [workflow 'self_calling_1'] [node 'node_print'] [task 'selfcalling.ProxyPrint2'] task started\n",
      "INFO:ewokscore.events.global_state:[job 'd27cebcd-0d97-4e4d-bfdf-3e095dfc100e'] [workflow 'self_calling_1'] [node 'node_integrate'] [task 'ewoksxrpd.tasks.integrate.Integrate1D'] task started\n"
     ]
    },
    {
     "name": "stdout",
     "output_type": "stream",
     "text": [
      "(2048, 2048)\n",
      "(2048, 2048)\n",
      "{'dist': 0.1945710487399116, 'poni1': 0.09140108239941036, 'poni2': 0.0831203924302883, 'rot1': 0.06326716380102028, 'rot2': -0.054738929703024644, 'rot3': -8.967452065677822e-10}\n",
      "12.4\n",
      "RayonixSx165\n"
     ]
    },
    {
     "name": "stderr",
     "output_type": "stream",
     "text": [
      "INFO:ewokscore.events.global_state:[job 'd27cebcd-0d97-4e4d-bfdf-3e095dfc100e'] [workflow 'self_calling_1'] [node 'node_print'] [task 'selfcalling.ProxyPrint2'] task finished\n",
      "INFO:ewokscore.events.global_state:[job 'd27cebcd-0d97-4e4d-bfdf-3e095dfc100e'] [workflow 'self_calling_1'] [node 'node_open'] [task 'selfcalling.ProxyOpenManyData2'] task started\n",
      "INFO:ewokscore.events.global_state:[job 'd27cebcd-0d97-4e4d-bfdf-3e095dfc100e'] [workflow 'self_calling_1'] [node 'node_save'] [task 'ewoksxrpd.tasks.ascii.SaveAsciiPattern1D'] task started\n",
      "INFO:ewokscore.events.global_state:[job 'd27cebcd-0d97-4e4d-bfdf-3e095dfc100e'] [workflow 'self_calling_1'] [node 'node_open'] [task 'selfcalling.ProxyOpenManyData2'] task finished\n",
      "INFO:ewokscore.events.global_state:[job 'd27cebcd-0d97-4e4d-bfdf-3e095dfc100e'] [workflow 'self_calling_1'] [node 'node_save'] [task 'ewoksxrpd.tasks.ascii.SaveAsciiPattern1D'] task finished\n",
      "INFO:ewokscore.events.global_state:[job 'd27cebcd-0d97-4e4d-bfdf-3e095dfc100e'] [workflow 'self_calling_1'] [node 'node_integrate'] [task 'ewoksxrpd.tasks.integrate.Integrate1D'] task started\n",
      "INFO:ewokscore.events.global_state:[job 'd27cebcd-0d97-4e4d-bfdf-3e095dfc100e'] [workflow 'self_calling_1'] [node 'node_print'] [task 'selfcalling.ProxyPrint2'] task started\n"
     ]
    },
    {
     "name": "stdout",
     "output_type": "stream",
     "text": [
      "12.4(2048, 2048)\n",
      "(2048, 2048)\n",
      "{'dist': 0.1945710487399116, 'poni1': 0.09140108239941036, 'poni2': 0.0831203924302883, 'rot1': 0.06326716380102028, 'rot2': -0.054738929703024644, 'rot3': -8.967452065677822e-10}\n",
      "\n",
      "RayonixSx165\n"
     ]
    },
    {
     "name": "stderr",
     "output_type": "stream",
     "text": [
      "INFO:ewokscore.events.global_state:[job 'd27cebcd-0d97-4e4d-bfdf-3e095dfc100e'] [workflow 'self_calling_1'] [node 'node_print'] [task 'selfcalling.ProxyPrint2'] task finished\n",
      "INFO:ewokscore.events.global_state:[job 'd27cebcd-0d97-4e4d-bfdf-3e095dfc100e'] [workflow 'self_calling_1'] [node 'node_open'] [task 'selfcalling.ProxyOpenManyData2'] task started\n",
      "INFO:ewokscore.events.global_state:[job 'd27cebcd-0d97-4e4d-bfdf-3e095dfc100e'] [workflow 'self_calling_1'] [node 'node_open'] [task 'selfcalling.ProxyOpenManyData2'] task finished\n",
      "INFO:ewokscore.events.global_state:[job 'd27cebcd-0d97-4e4d-bfdf-3e095dfc100e'] [workflow 'self_calling_1'] [node 'node_print'] [task 'selfcalling.ProxyPrint2'] task started\n"
     ]
    },
    {
     "name": "stdout",
     "output_type": "stream",
     "text": [
      "RayonixSx165(2048, 2048)\n",
      "(2048, 2048)\n",
      "{'dist': 0.1945710487399116, 'poni1': 0.09140108239941036, 'poni2': 0.0831203924302883, 'rot1': 0.06326716380102028, 'rot2': -0.054738929703024644, 'rot3': -8.967452065677822e-10}\n",
      "12.4\n",
      "\n"
     ]
    },
    {
     "name": "stderr",
     "output_type": "stream",
     "text": [
      "INFO:ewokscore.events.global_state:[job 'd27cebcd-0d97-4e4d-bfdf-3e095dfc100e'] [workflow 'self_calling_1'] [node 'node_print'] [task 'selfcalling.ProxyPrint2'] task finished\n",
      "INFO:ewokscore.events.global_state:[job 'd27cebcd-0d97-4e4d-bfdf-3e095dfc100e'] [workflow 'self_calling_1'] [node 'node_open'] [task 'selfcalling.ProxyOpenManyData2'] task started\n",
      "INFO:ewokscore.events.global_state:[job 'd27cebcd-0d97-4e4d-bfdf-3e095dfc100e'] [workflow 'self_calling_1'] [node 'node_open'] [task 'selfcalling.ProxyOpenManyData2'] task finished\n",
      "INFO:ewokscore.events.global_state:[job 'd27cebcd-0d97-4e4d-bfdf-3e095dfc100e'] [workflow 'self_calling_1'] [node 'node_integrate'] [task 'ewoksxrpd.tasks.integrate.Integrate1D'] task finished\n",
      "INFO:ewokscore.events.global_state:[job 'd27cebcd-0d97-4e4d-bfdf-3e095dfc100e'] [workflow 'self_calling_1'] [node 'node_integrate'] [task 'ewoksxrpd.tasks.integrate.Integrate1D'] task started\n",
      "INFO:ewokscore.events.global_state:[job 'd27cebcd-0d97-4e4d-bfdf-3e095dfc100e'] [workflow 'self_calling_1'] [node 'node_integrate'] [task 'ewoksxrpd.tasks.integrate.Integrate1D'] task started\n",
      "INFO:ewokscore.events.global_state:[job 'd27cebcd-0d97-4e4d-bfdf-3e095dfc100e'] [workflow 'self_calling_1'] [node 'node_save'] [task 'ewoksxrpd.tasks.ascii.SaveAsciiPattern1D'] task started\n",
      "INFO:ewokscore.events.global_state:[job 'd27cebcd-0d97-4e4d-bfdf-3e095dfc100e'] [workflow 'self_calling_1'] [node 'node_save'] [task 'ewoksxrpd.tasks.ascii.SaveAsciiPattern1D'] task finished\n",
      "INFO:ewokscore.events.global_state:[job 'd27cebcd-0d97-4e4d-bfdf-3e095dfc100e'] [workflow 'self_calling_1'] [node 'node_print'] [task 'selfcalling.ProxyPrint2'] task started\n"
     ]
    },
    {
     "name": "stdout",
     "output_type": "stream",
     "text": [
      "\n",
      "(2048, 2048)\n",
      "(2048, 2048){'dist': 0.1945710487399116, 'poni1': 0.09140108239941036, 'poni2': 0.0831203924302883, 'rot1': 0.06326716380102028, 'rot2': -0.054738929703024644, 'rot3': -8.967452065677822e-10}\n",
      "12.4\n",
      "RayonixSx165\n"
     ]
    },
    {
     "name": "stderr",
     "output_type": "stream",
     "text": [
      "INFO:ewokscore.events.global_state:[job 'd27cebcd-0d97-4e4d-bfdf-3e095dfc100e'] [workflow 'self_calling_1'] [node 'node_print'] [task 'selfcalling.ProxyPrint2'] task finished\n",
      "INFO:ewokscore.events.global_state:[job 'd27cebcd-0d97-4e4d-bfdf-3e095dfc100e'] [workflow 'self_calling_1'] [node 'node_open'] [task 'selfcalling.ProxyOpenManyData2'] task started\n",
      "INFO:ewokscore.events.global_state:[job 'd27cebcd-0d97-4e4d-bfdf-3e095dfc100e'] [workflow 'self_calling_1'] [node 'node_open'] [task 'selfcalling.ProxyOpenManyData2'] task finished\n",
      "INFO:ewokscore.events.global_state:[job 'd27cebcd-0d97-4e4d-bfdf-3e095dfc100e'] [workflow 'self_calling_1'] [node 'node_integrate'] [task 'ewoksxrpd.tasks.integrate.Integrate1D'] task started\n",
      "INFO:ewokscore.events.global_state:[job 'd27cebcd-0d97-4e4d-bfdf-3e095dfc100e'] [workflow 'self_calling_1'] [node 'node_print'] [task 'selfcalling.ProxyPrint2'] task started\n"
     ]
    },
    {
     "name": "stdout",
     "output_type": "stream",
     "text": [
      "(2048, 2048)\n",
      "(2048, 2048)\n",
      "{'dist': 0.1945710487399116, 'poni1': 0.09140108239941036, 'poni2': 0.0831203924302883, 'rot1': 0.06326716380102028, 'rot2': -0.054738929703024644, 'rot3': -8.967452065677822e-10}\n",
      "12.4"
     ]
    },
    {
     "name": "stderr",
     "output_type": "stream",
     "text": [
      "INFO:ewokscore.events.global_state:[job 'd27cebcd-0d97-4e4d-bfdf-3e095dfc100e'] [workflow 'self_calling_1'] [node 'node_open'] [task 'selfcalling.ProxyOpenManyData2'] task started\n"
     ]
    },
    {
     "name": "stdout",
     "output_type": "stream",
     "text": [
      "\n",
      "RayonixSx165\n"
     ]
    },
    {
     "name": "stderr",
     "output_type": "stream",
     "text": [
      "INFO:ewokscore.events.global_state:[job 'd27cebcd-0d97-4e4d-bfdf-3e095dfc100e'] [workflow 'self_calling_1'] [node 'node_open'] [task 'selfcalling.ProxyOpenManyData2'] task finished\n",
      "INFO:ewokscore.events.global_state:[job 'd27cebcd-0d97-4e4d-bfdf-3e095dfc100e'] [workflow 'self_calling_1'] [node 'node_print'] [task 'selfcalling.ProxyPrint2'] task finished\n",
      "INFO:ewokscore.events.global_state:[job 'd27cebcd-0d97-4e4d-bfdf-3e095dfc100e'] [workflow 'self_calling_1'] [node 'node_print'] [task 'selfcalling.ProxyPrint2'] task started\n",
      "INFO:ewokscore.events.global_state:[job 'd27cebcd-0d97-4e4d-bfdf-3e095dfc100e'] [workflow 'self_calling_1'] [node 'node_integrate'] [task 'ewoksxrpd.tasks.integrate.Integrate1D'] task started\n"
     ]
    },
    {
     "name": "stdout",
     "output_type": "stream",
     "text": [
      "(2048, 2048)\n",
      "(2048, 2048)\n",
      "{'dist': 0.1945710487399116, 'poni1': 0.09140108239941036, 'poni2': 0.0831203924302883, 'rot1': 0.06326716380102028, 'rot2': -0.054738929703024644, 'rot3': -8.967452065677822e-10}"
     ]
    },
    {
     "name": "stderr",
     "output_type": "stream",
     "text": [
      "INFO:ewokscore.events.global_state:[job 'd27cebcd-0d97-4e4d-bfdf-3e095dfc100e'] [workflow 'self_calling_1'] [node 'node_open'] [task 'selfcalling.ProxyOpenManyData2'] task started\n"
     ]
    },
    {
     "name": "stdout",
     "output_type": "stream",
     "text": [
      "\n",
      "12.4\n",
      "RayonixSx165\n"
     ]
    },
    {
     "name": "stderr",
     "output_type": "stream",
     "text": [
      "INFO:ewokscore.events.global_state:[job 'd27cebcd-0d97-4e4d-bfdf-3e095dfc100e'] [workflow 'self_calling_1'] [node 'node_print'] [task 'selfcalling.ProxyPrint2'] task finished\n",
      "INFO:ewokscore.events.global_state:[job 'd27cebcd-0d97-4e4d-bfdf-3e095dfc100e'] [workflow 'self_calling_1'] [node 'node_open'] [task 'selfcalling.ProxyOpenManyData2'] task finished\n",
      "INFO:ewokscore.events.global_state:[job 'd27cebcd-0d97-4e4d-bfdf-3e095dfc100e'] [workflow 'self_calling_1'] [node 'node_integrate'] [task 'ewoksxrpd.tasks.integrate.Integrate1D'] task started\n",
      "INFO:ewokscore.events.global_state:[job 'd27cebcd-0d97-4e4d-bfdf-3e095dfc100e'] [workflow 'self_calling_1'] [node 'node_print'] [task 'selfcalling.ProxyPrint2'] task started\n"
     ]
    },
    {
     "name": "stdout",
     "output_type": "stream",
     "text": [
      "(2048, 2048)\n",
      "(2048, 2048)\n",
      "{'dist': 0.1945710487399116, 'poni1': 0.09140108239941036, 'poni2': 0.0831203924302883, 'rot1': 0.06326716380102028, 'rot2': -0.054738929703024644, 'rot3': -8.967452065677822e-10}\n",
      "12.4\n",
      "RayonixSx165\n"
     ]
    },
    {
     "name": "stderr",
     "output_type": "stream",
     "text": [
      "INFO:ewokscore.events.global_state:[job 'd27cebcd-0d97-4e4d-bfdf-3e095dfc100e'] [workflow 'self_calling_1'] [node 'node_print'] [task 'selfcalling.ProxyPrint2'] task finished\n",
      "INFO:ewokscore.events.global_state:[job 'd27cebcd-0d97-4e4d-bfdf-3e095dfc100e'] [workflow 'self_calling_1'] [node 'node_open'] [task 'selfcalling.ProxyOpenManyData2'] task started\n",
      "INFO:ewokscore.events.global_state:[job 'd27cebcd-0d97-4e4d-bfdf-3e095dfc100e'] [workflow 'self_calling_1'] [node 'node_open'] [task 'selfcalling.ProxyOpenManyData2'] task finished\n",
      "INFO:ewokscore.events.global_state:[job 'd27cebcd-0d97-4e4d-bfdf-3e095dfc100e'] [workflow 'self_calling_1'] [node 'node_integrate'] [task 'ewoksxrpd.tasks.integrate.Integrate1D'] task finished\n",
      "INFO:ewokscore.events.global_state:[job 'd27cebcd-0d97-4e4d-bfdf-3e095dfc100e'] [workflow 'self_calling_1'] [node 'node_print'] [task 'selfcalling.ProxyPrint2'] task started\n",
      "INFO:ewokscore.events.global_state:[job 'd27cebcd-0d97-4e4d-bfdf-3e095dfc100e'] [workflow 'self_calling_1'] [node 'node_print'] [task 'selfcalling.ProxyPrint2'] task finished\n"
     ]
    },
    {
     "name": "stdout",
     "output_type": "stream",
     "text": [
      "(2048, 2048)\n",
      "(2048, 2048)\n",
      "{'dist': 0.1945710487399116, 'poni1': 0.09140108239941036, 'poni2': 0.0831203924302883, 'rot1': 0.06326716380102028, 'rot2': -0.054738929703024644, 'rot3': -8.967452065677822e-10}\n",
      "12.4\n",
      "RayonixSx165\n"
     ]
    },
    {
     "name": "stderr",
     "output_type": "stream",
     "text": [
      "INFO:ewokscore.events.global_state:[job 'd27cebcd-0d97-4e4d-bfdf-3e095dfc100e'] [workflow 'self_calling_1'] [node 'node_open'] [task 'selfcalling.ProxyOpenManyData2'] task started\n",
      "INFO:ewokscore.events.global_state:[job 'd27cebcd-0d97-4e4d-bfdf-3e095dfc100e'] [workflow 'self_calling_1'] [node 'node_open'] [task 'selfcalling.ProxyOpenManyData2'] task finished\n",
      "INFO:ewokscore.events.global_state:[job 'd27cebcd-0d97-4e4d-bfdf-3e095dfc100e'] [workflow 'self_calling_1'] [node 'node_integrate'] [task 'ewoksxrpd.tasks.integrate.Integrate1D'] task started\n",
      "INFO:ewokscore.events.global_state:[job 'd27cebcd-0d97-4e4d-bfdf-3e095dfc100e'] [workflow 'self_calling_1'] [node 'node_save'] [task 'ewoksxrpd.tasks.ascii.SaveAsciiPattern1D'] task started\n",
      "INFO:ewokscore.events.global_state:[job 'd27cebcd-0d97-4e4d-bfdf-3e095dfc100e'] [workflow 'self_calling_1'] [node 'node_save'] [task 'ewoksxrpd.tasks.ascii.SaveAsciiPattern1D'] task finished\n",
      "INFO:ewokscore.events.global_state:[job 'd27cebcd-0d97-4e4d-bfdf-3e095dfc100e'] [workflow 'self_calling_1'] [node 'node_integrate'] [task 'ewoksxrpd.tasks.integrate.Integrate1D'] task finished\n",
      "INFO:ewokscore.events.global_state:[job 'd27cebcd-0d97-4e4d-bfdf-3e095dfc100e'] [workflow 'self_calling_1'] [node 'node_integrate'] [task 'ewoksxrpd.tasks.integrate.Integrate1D'] task started\n",
      "INFO:ewokscore.events.global_state:[job 'd27cebcd-0d97-4e4d-bfdf-3e095dfc100e'] [workflow 'self_calling_1'] [node 'node_print'] [task 'selfcalling.ProxyPrint2'] task started\n"
     ]
    },
    {
     "name": "stdout",
     "output_type": "stream",
     "text": [
      "(2048, 2048)"
     ]
    },
    {
     "name": "stderr",
     "output_type": "stream",
     "text": [
      "INFO:ewokscore.events.global_state:[job 'd27cebcd-0d97-4e4d-bfdf-3e095dfc100e'] [workflow 'self_calling_1'] [node 'node_integrate'] [task 'ewoksxrpd.tasks.integrate.Integrate1D'] task finished\n"
     ]
    },
    {
     "name": "stdout",
     "output_type": "stream",
     "text": [
      "\n",
      "(2048, 2048)\n",
      "{'dist': 0.1945710487399116, 'poni1': 0.09140108239941036, 'poni2': 0.0831203924302883, 'rot1': 0.06326716380102028, 'rot2': -0.054738929703024644, 'rot3': -8.967452065677822e-10}\n",
      "12.4\n",
      "RayonixSx165\n"
     ]
    },
    {
     "name": "stderr",
     "output_type": "stream",
     "text": [
      "INFO:ewokscore.events.global_state:[job 'd27cebcd-0d97-4e4d-bfdf-3e095dfc100e'] [workflow 'self_calling_1'] [node 'node_print'] [task 'selfcalling.ProxyPrint2'] task finished\n",
      "INFO:ewokscore.events.global_state:[job 'd27cebcd-0d97-4e4d-bfdf-3e095dfc100e'] [workflow 'self_calling_1'] [node 'node_open'] [task 'selfcalling.ProxyOpenManyData2'] task started\n",
      "INFO:ewokscore.events.global_state:[job 'd27cebcd-0d97-4e4d-bfdf-3e095dfc100e'] [workflow 'self_calling_1'] [node 'node_open'] [task 'selfcalling.ProxyOpenManyData2'] task finished\n",
      "INFO:ewokscore.events.global_state:[job 'd27cebcd-0d97-4e4d-bfdf-3e095dfc100e'] [workflow 'self_calling_1'] [node 'node_save'] [task 'ewoksxrpd.tasks.ascii.SaveAsciiPattern1D'] task started\n",
      "INFO:ewokscore.events.global_state:[job 'd27cebcd-0d97-4e4d-bfdf-3e095dfc100e'] [workflow 'self_calling_1'] [node 'node_save'] [task 'ewoksxrpd.tasks.ascii.SaveAsciiPattern1D'] task finished\n",
      "INFO:ewokscore.events.global_state:[job 'd27cebcd-0d97-4e4d-bfdf-3e095dfc100e'] [workflow 'self_calling_1'] [node 'node_integrate'] [task 'ewoksxrpd.tasks.integrate.Integrate1D'] task started\n",
      "INFO:ewokscore.events.global_state:[job 'd27cebcd-0d97-4e4d-bfdf-3e095dfc100e'] [workflow 'self_calling_1'] [node 'node_print'] [task 'selfcalling.ProxyPrint2'] task started\n",
      "INFO:ewokscore.events.global_state:[job 'd27cebcd-0d97-4e4d-bfdf-3e095dfc100e'] [workflow 'self_calling_1'] [node 'node_save'] [task 'ewoksxrpd.tasks.ascii.SaveAsciiPattern1D'] task started\n"
     ]
    },
    {
     "name": "stdout",
     "output_type": "stream",
     "text": [
      "(2048, 2048)\n",
      "(2048, 2048)"
     ]
    },
    {
     "name": "stderr",
     "output_type": "stream",
     "text": [
      "INFO:ewokscore.events.global_state:[job 'd27cebcd-0d97-4e4d-bfdf-3e095dfc100e'] [workflow 'self_calling_1'] [node 'node_save'] [task 'ewoksxrpd.tasks.ascii.SaveAsciiPattern1D'] task finished\n"
     ]
    },
    {
     "name": "stdout",
     "output_type": "stream",
     "text": [
      "\n",
      "{'dist': 0.1945710487399116, 'poni1': 0.09140108239941036, 'poni2': 0.0831203924302883, 'rot1': 0.06326716380102028, 'rot2': -0.054738929703024644, 'rot3': -8.967452065677822e-10}\n",
      "12.4\n",
      "RayonixSx165\n"
     ]
    },
    {
     "name": "stderr",
     "output_type": "stream",
     "text": [
      "INFO:ewokscore.events.global_state:[job 'd27cebcd-0d97-4e4d-bfdf-3e095dfc100e'] [workflow 'self_calling_1'] [node 'node_print'] [task 'selfcalling.ProxyPrint2'] task finished\n",
      "INFO:ewokscore.events.global_state:[job 'd27cebcd-0d97-4e4d-bfdf-3e095dfc100e'] [workflow 'self_calling_1'] [node 'node_open'] [task 'selfcalling.ProxyOpenManyData2'] task started\n",
      "INFO:ewokscore.events.global_state:[job 'd27cebcd-0d97-4e4d-bfdf-3e095dfc100e'] [workflow 'self_calling_1'] [node 'node_open'] [task 'selfcalling.ProxyOpenManyData2'] task finished\n",
      "INFO:ewokscore.events.global_state:[job 'd27cebcd-0d97-4e4d-bfdf-3e095dfc100e'] [workflow 'self_calling_1'] [node 'node_integrate'] [task 'ewoksxrpd.tasks.integrate.Integrate1D'] task finished\n",
      "INFO:ewokscore.events.global_state:[job 'd27cebcd-0d97-4e4d-bfdf-3e095dfc100e'] [workflow 'self_calling_1'] [node 'node_print'] [task 'selfcalling.ProxyPrint2'] task started\n",
      "INFO:ewokscore.events.global_state:[job 'd27cebcd-0d97-4e4d-bfdf-3e095dfc100e'] [workflow 'self_calling_1'] [node 'node_print'] [task 'selfcalling.ProxyPrint2'] task finished\n"
     ]
    },
    {
     "name": "stdout",
     "output_type": "stream",
     "text": [
      "(2048, 2048)\n",
      "(2048, 2048)\n",
      "{'dist': 0.1945710487399116, 'poni1': 0.09140108239941036, 'poni2': 0.0831203924302883, 'rot1': 0.06326716380102028, 'rot2': -0.054738929703024644, 'rot3': -8.967452065677822e-10}\n",
      "12.4\n",
      "RayonixSx165\n"
     ]
    },
    {
     "name": "stderr",
     "output_type": "stream",
     "text": [
      "INFO:ewokscore.events.global_state:[job 'd27cebcd-0d97-4e4d-bfdf-3e095dfc100e'] [workflow 'self_calling_1'] [node 'node_integrate'] [task 'ewoksxrpd.tasks.integrate.Integrate1D'] task started\n",
      "INFO:ewokscore.events.global_state:[job 'd27cebcd-0d97-4e4d-bfdf-3e095dfc100e'] [workflow 'self_calling_1'] [node 'node_open'] [task 'selfcalling.ProxyOpenManyData2'] task started\n",
      "INFO:ewokscore.events.global_state:[job 'd27cebcd-0d97-4e4d-bfdf-3e095dfc100e'] [workflow 'self_calling_1'] [node 'node_save'] [task 'ewoksxrpd.tasks.ascii.SaveAsciiPattern1D'] task started\n",
      "INFO:ewokscore.events.global_state:[job 'd27cebcd-0d97-4e4d-bfdf-3e095dfc100e'] [workflow 'self_calling_1'] [node 'node_open'] [task 'selfcalling.ProxyOpenManyData2'] task finished\n",
      "INFO:ewokscore.events.global_state:[job 'd27cebcd-0d97-4e4d-bfdf-3e095dfc100e'] [workflow 'self_calling_1'] [node 'node_integrate'] [task 'ewoksxrpd.tasks.integrate.Integrate1D'] task finished\n",
      "INFO:ewokscore.events.global_state:[job 'd27cebcd-0d97-4e4d-bfdf-3e095dfc100e'] [workflow 'self_calling_1'] [node 'node_save'] [task 'ewoksxrpd.tasks.ascii.SaveAsciiPattern1D'] task finished\n",
      "INFO:ewokscore.events.global_state:[job 'd27cebcd-0d97-4e4d-bfdf-3e095dfc100e'] [workflow 'self_calling_1'] [node 'node_integrate'] [task 'ewoksxrpd.tasks.integrate.Integrate1D'] task started\n",
      "INFO:ewokscore.events.global_state:[job 'd27cebcd-0d97-4e4d-bfdf-3e095dfc100e'] [workflow 'self_calling_1'] [node 'node_save'] [task 'ewoksxrpd.tasks.ascii.SaveAsciiPattern1D'] task started\n",
      "INFO:ewokscore.events.global_state:[job 'd27cebcd-0d97-4e4d-bfdf-3e095dfc100e'] [workflow 'self_calling_1'] [node 'node_save'] [task 'ewoksxrpd.tasks.ascii.SaveAsciiPattern1D'] task finished\n",
      "INFO:ewokscore.events.global_state:[job 'd27cebcd-0d97-4e4d-bfdf-3e095dfc100e'] [workflow 'self_calling_1'] [node 'node_print'] [task 'selfcalling.ProxyPrint2'] task started\n",
      "INFO:ewokscore.events.global_state:[job 'd27cebcd-0d97-4e4d-bfdf-3e095dfc100e'] [workflow 'self_calling_1'] [node 'node_integrate'] [task 'ewoksxrpd.tasks.integrate.Integrate1D'] task finished\n"
     ]
    },
    {
     "name": "stdout",
     "output_type": "stream",
     "text": [
      "(2048, 2048)\n",
      "(2048, 2048)\n",
      "{'dist': 0.1945710487399116, 'poni1': 0.09140108239941036, 'poni2': 0.0831203924302883, 'rot1': 0.06326716380102028, 'rot2': -0.054738929703024644, 'rot3': -8.967452065677822e-10}"
     ]
    },
    {
     "name": "stderr",
     "output_type": "stream",
     "text": [
      "INFO:ewokscore.events.global_state:[job 'd27cebcd-0d97-4e4d-bfdf-3e095dfc100e'] [workflow 'self_calling_1'] [node 'node_open'] [task 'selfcalling.ProxyOpenManyData2'] task started\n"
     ]
    },
    {
     "name": "stdout",
     "output_type": "stream",
     "text": [
      "\n"
     ]
    },
    {
     "name": "stderr",
     "output_type": "stream",
     "text": [
      "INFO:ewokscore.events.global_state:[job 'd27cebcd-0d97-4e4d-bfdf-3e095dfc100e'] [workflow 'self_calling_1'] [node 'node_integrate'] [task 'ewoksxrpd.tasks.integrate.Integrate1D'] task finished\n"
     ]
    },
    {
     "name": "stdout",
     "output_type": "stream",
     "text": [
      "12.4"
     ]
    },
    {
     "name": "stderr",
     "output_type": "stream",
     "text": [
      "INFO:ewokscore.events.global_state:[job 'd27cebcd-0d97-4e4d-bfdf-3e095dfc100e'] [workflow 'self_calling_1'] [node 'node_open'] [task 'selfcalling.ProxyOpenManyData2'] task finished\n"
     ]
    },
    {
     "name": "stdout",
     "output_type": "stream",
     "text": [
      "\n"
     ]
    },
    {
     "name": "stderr",
     "output_type": "stream",
     "text": [
      "INFO:ewokscore.events.global_state:[job 'd27cebcd-0d97-4e4d-bfdf-3e095dfc100e'] [workflow 'self_calling_1'] [node 'node_print'] [task 'selfcalling.ProxyPrint2'] task finished\n"
     ]
    },
    {
     "name": "stdout",
     "output_type": "stream",
     "text": [
      "RayonixSx165\n"
     ]
    },
    {
     "name": "stderr",
     "output_type": "stream",
     "text": [
      "INFO:ewokscore.events.global_state:[job 'd27cebcd-0d97-4e4d-bfdf-3e095dfc100e'] [workflow 'self_calling_1'] [node 'node_integrate'] [task 'ewoksxrpd.tasks.integrate.Integrate1D'] task finished\n",
      "INFO:ewokscore.events.global_state:[job 'd27cebcd-0d97-4e4d-bfdf-3e095dfc100e'] [workflow 'self_calling_1'] [node 'node_integrate'] [task 'ewoksxrpd.tasks.integrate.Integrate1D'] task started\n",
      "INFO:ewokscore.events.global_state:[job 'd27cebcd-0d97-4e4d-bfdf-3e095dfc100e'] [workflow 'self_calling_1'] [node 'node_save'] [task 'ewoksxrpd.tasks.ascii.SaveAsciiPattern1D'] task started\n",
      "INFO:ewokscore.events.global_state:[job 'd27cebcd-0d97-4e4d-bfdf-3e095dfc100e'] [workflow 'self_calling_1'] [node 'node_save'] [task 'ewoksxrpd.tasks.ascii.SaveAsciiPattern1D'] task finished\n",
      "INFO:ewokscore.events.global_state:[job 'd27cebcd-0d97-4e4d-bfdf-3e095dfc100e'] [workflow 'self_calling_1'] [node 'node_integrate'] [task 'ewoksxrpd.tasks.integrate.Integrate1D'] task finished\n",
      "INFO:ewokscore.events.global_state:[job 'd27cebcd-0d97-4e4d-bfdf-3e095dfc100e'] [workflow 'self_calling_1'] [node 'node_save'] [task 'ewoksxrpd.tasks.ascii.SaveAsciiPattern1D'] task started\n",
      "INFO:ewokscore.events.global_state:[job 'd27cebcd-0d97-4e4d-bfdf-3e095dfc100e'] [workflow 'self_calling_1'] [node 'node_save'] [task 'ewoksxrpd.tasks.ascii.SaveAsciiPattern1D'] task finished\n",
      "INFO:ewokscore.events.global_state:[job 'd27cebcd-0d97-4e4d-bfdf-3e095dfc100e'] [workflow 'self_calling_1'] [node 'node_integrate'] [task 'ewoksxrpd.tasks.integrate.Integrate1D'] task finished\n",
      "INFO:ewokscore.events.global_state:[job 'd27cebcd-0d97-4e4d-bfdf-3e095dfc100e'] [workflow 'self_calling_1'] [node 'node_print'] [task 'selfcalling.ProxyPrint2'] task started\n"
     ]
    },
    {
     "name": "stdout",
     "output_type": "stream",
     "text": [
      "(2048, 2048)\n",
      "(2048, 2048)\n",
      "{'dist': 0.1945710487399116, 'poni1': 0.09140108239941036, 'poni2': 0.0831203924302883, 'rot1': 0.06326716380102028, 'rot2': -0.054738929703024644, 'rot3': -8.967452065677822e-10}\n",
      "12.4\n",
      "RayonixSx165\n"
     ]
    },
    {
     "name": "stderr",
     "output_type": "stream",
     "text": [
      "INFO:ewokscore.events.global_state:[job 'd27cebcd-0d97-4e4d-bfdf-3e095dfc100e'] [workflow 'self_calling_1'] [node 'node_print'] [task 'selfcalling.ProxyPrint2'] task finished\n",
      "INFO:ewokscore.events.global_state:[job 'd27cebcd-0d97-4e4d-bfdf-3e095dfc100e'] [workflow 'self_calling_1'] [node 'node_save'] [task 'ewoksxrpd.tasks.ascii.SaveAsciiPattern1D'] task started\n",
      "INFO:ewokscore.events.global_state:[job 'd27cebcd-0d97-4e4d-bfdf-3e095dfc100e'] [workflow 'self_calling_1'] [node 'node_save'] [task 'ewoksxrpd.tasks.ascii.SaveAsciiPattern1D'] task finished\n",
      "INFO:ewokscore.events.global_state:[job 'd27cebcd-0d97-4e4d-bfdf-3e095dfc100e'] [workflow 'self_calling_1'] [node 'node_save'] [task 'ewoksxrpd.tasks.ascii.SaveAsciiPattern1D'] task started\n",
      "INFO:ewokscore.events.global_state:[job 'd27cebcd-0d97-4e4d-bfdf-3e095dfc100e'] [workflow 'self_calling_1'] [node 'node_save'] [task 'ewoksxrpd.tasks.ascii.SaveAsciiPattern1D'] task finished\n",
      "INFO:ewokscore.events.global_state:[job 'd27cebcd-0d97-4e4d-bfdf-3e095dfc100e'] [workflow 'self_calling_1'] [node 'node_open'] [task 'selfcalling.ProxyOpenManyData2'] task started\n",
      "INFO:ewokscore.events.global_state:[job 'd27cebcd-0d97-4e4d-bfdf-3e095dfc100e'] [workflow 'self_calling_1'] [node 'node_integrate'] [task 'ewoksxrpd.tasks.integrate.Integrate1D'] task started\n",
      "INFO:ewokscore.events.global_state:[job 'd27cebcd-0d97-4e4d-bfdf-3e095dfc100e'] [workflow 'self_calling_1'] [node 'node_open'] [task 'selfcalling.ProxyOpenManyData2'] task finished\n",
      "INFO:ewokscore.events.global_state:[job 'd27cebcd-0d97-4e4d-bfdf-3e095dfc100e'] [workflow 'self_calling_1'] [node 'node_integrate'] [task 'ewoksxrpd.tasks.integrate.Integrate1D'] task finished\n",
      "INFO:ewokscore.events.global_state:[job 'd27cebcd-0d97-4e4d-bfdf-3e095dfc100e'] [workflow 'self_calling_1'] [node 'node_save'] [task 'ewoksxrpd.tasks.ascii.SaveAsciiPattern1D'] task started\n",
      "INFO:ewokscore.events.global_state:[job 'd27cebcd-0d97-4e4d-bfdf-3e095dfc100e'] [workflow 'self_calling_1'] [node 'node_print'] [task 'selfcalling.ProxyPrint2'] task started\n",
      "INFO:ewokscore.events.global_state:[job 'd27cebcd-0d97-4e4d-bfdf-3e095dfc100e'] [workflow 'self_calling_1'] [node 'node_save'] [task 'ewoksxrpd.tasks.ascii.SaveAsciiPattern1D'] task finished\n"
     ]
    },
    {
     "name": "stdout",
     "output_type": "stream",
     "text": [
      "(2048, 2048)\n",
      "(2048, 2048)\n",
      "{'dist': 0.1945710487399116, 'poni1': 0.09140108239941036, 'poni2': 0.0831203924302883, 'rot1': 0.06326716380102028, 'rot2': -0.054738929703024644, 'rot3': -8.967452065677822e-10}\n",
      "12.4\n",
      "RayonixSx165\n"
     ]
    },
    {
     "name": "stderr",
     "output_type": "stream",
     "text": [
      "INFO:ewokscore.events.global_state:[job 'd27cebcd-0d97-4e4d-bfdf-3e095dfc100e'] [workflow 'self_calling_1'] [node 'node_print'] [task 'selfcalling.ProxyPrint2'] task finished\n",
      "INFO:ewokscore.events.global_state:[job 'd27cebcd-0d97-4e4d-bfdf-3e095dfc100e'] [workflow 'self_calling_1'] [node 'node_open'] [task 'selfcalling.ProxyOpenManyData2'] task started\n",
      "INFO:ewokscore.events.global_state:[job 'd27cebcd-0d97-4e4d-bfdf-3e095dfc100e'] [workflow 'self_calling_1'] [node 'node_open'] [task 'selfcalling.ProxyOpenManyData2'] task finished\n",
      "INFO:ewokscore.events.global_state:[job 'd27cebcd-0d97-4e4d-bfdf-3e095dfc100e'] [workflow 'self_calling_1'] [node 'node_integrate'] [task 'ewoksxrpd.tasks.integrate.Integrate1D'] task started\n",
      "INFO:ewokscore.events.global_state:[job 'd27cebcd-0d97-4e4d-bfdf-3e095dfc100e'] [workflow 'self_calling_1'] [node 'node_save'] [task 'ewoksxrpd.tasks.ascii.SaveAsciiPattern1D'] task started\n",
      "INFO:ewokscore.events.global_state:[job 'd27cebcd-0d97-4e4d-bfdf-3e095dfc100e'] [workflow 'self_calling_1'] [node 'node_save'] [task 'ewoksxrpd.tasks.ascii.SaveAsciiPattern1D'] task finished\n",
      "INFO:ewokscore.events.global_state:[job 'd27cebcd-0d97-4e4d-bfdf-3e095dfc100e'] [workflow 'self_calling_1'] [node 'node_print'] [task 'selfcalling.ProxyPrint2'] task started\n",
      "INFO:ewokscore.events.global_state:[job 'd27cebcd-0d97-4e4d-bfdf-3e095dfc100e'] [workflow 'self_calling_1'] [node 'node_integrate'] [task 'ewoksxrpd.tasks.integrate.Integrate1D'] task finished\n"
     ]
    },
    {
     "name": "stdout",
     "output_type": "stream",
     "text": [
      "\n"
     ]
    },
    {
     "name": "stderr",
     "output_type": "stream",
     "text": [
      "INFO:ewokscore.events.global_state:[job 'd27cebcd-0d97-4e4d-bfdf-3e095dfc100e'] [workflow 'self_calling_1'] [node 'node_open'] [task 'selfcalling.ProxyOpenManyData2'] task started\n"
     ]
    },
    {
     "name": "stdout",
     "output_type": "stream",
     "text": [
      "(2048, 2048)(2048, 2048)\n",
      "{'dist': 0.1945710487399116, 'poni1': 0.09140108239941036, 'poni2': 0.0831203924302883, 'rot1': 0.06326716380102028, 'rot2': -0.054738929703024644, 'rot3': -8.967452065677822e-10}\n",
      "12.4\n",
      "RayonixSx165\n"
     ]
    },
    {
     "name": "stderr",
     "output_type": "stream",
     "text": [
      "INFO:ewokscore.events.global_state:[job 'd27cebcd-0d97-4e4d-bfdf-3e095dfc100e'] [workflow 'self_calling_1'] [node 'node_print'] [task 'selfcalling.ProxyPrint2'] task finished\n",
      "INFO:ewokscore.events.global_state:[job 'd27cebcd-0d97-4e4d-bfdf-3e095dfc100e'] [workflow 'self_calling_1'] [node 'node_open'] [task 'selfcalling.ProxyOpenManyData2'] task finished\n",
      "INFO:ewokscore.events.global_state:[job 'd27cebcd-0d97-4e4d-bfdf-3e095dfc100e'] [workflow 'self_calling_1'] [node 'node_save'] [task 'ewoksxrpd.tasks.ascii.SaveAsciiPattern1D'] task started\n",
      "INFO:ewokscore.events.global_state:[job 'd27cebcd-0d97-4e4d-bfdf-3e095dfc100e'] [workflow 'self_calling_1'] [node 'node_save'] [task 'ewoksxrpd.tasks.ascii.SaveAsciiPattern1D'] task finished\n",
      "INFO:ewokscore.events.global_state:[job 'd27cebcd-0d97-4e4d-bfdf-3e095dfc100e'] [workflow 'self_calling_1'] [node 'node_integrate'] [task 'ewoksxrpd.tasks.integrate.Integrate1D'] task started\n",
      "INFO:ewokscore.events.global_state:[job 'd27cebcd-0d97-4e4d-bfdf-3e095dfc100e'] [workflow 'self_calling_1'] [node 'node_print'] [task 'selfcalling.ProxyPrint2'] task started\n"
     ]
    },
    {
     "name": "stdout",
     "output_type": "stream",
     "text": [
      "(2048, 2048)\n",
      "(2048, 2048)\n",
      "{'dist': 0.1945710487399116, 'poni1': 0.09140108239941036, 'poni2': 0.0831203924302883, 'rot1': 0.06326716380102028, 'rot2': -0.054738929703024644, 'rot3': -8.967452065677822e-10}\n",
      "12.4"
     ]
    },
    {
     "name": "stderr",
     "output_type": "stream",
     "text": [
      "INFO:ewokscore.events.global_state:[job 'd27cebcd-0d97-4e4d-bfdf-3e095dfc100e'] [workflow 'self_calling_1'] [node 'node_open'] [task 'selfcalling.ProxyOpenManyData2'] task started\n"
     ]
    },
    {
     "name": "stdout",
     "output_type": "stream",
     "text": [
      "\n",
      "RayonixSx165\n"
     ]
    },
    {
     "name": "stderr",
     "output_type": "stream",
     "text": [
      "INFO:ewokscore.events.global_state:[job 'd27cebcd-0d97-4e4d-bfdf-3e095dfc100e'] [workflow 'self_calling_1'] [node 'node_print'] [task 'selfcalling.ProxyPrint2'] task finished\n",
      "INFO:ewokscore.events.global_state:[job 'd27cebcd-0d97-4e4d-bfdf-3e095dfc100e'] [workflow 'self_calling_1'] [node 'node_open'] [task 'selfcalling.ProxyOpenManyData2'] task finished\n",
      "INFO:ewokscore.events.global_state:[job 'd27cebcd-0d97-4e4d-bfdf-3e095dfc100e'] [workflow 'self_calling_1'] [node 'node_integrate'] [task 'ewoksxrpd.tasks.integrate.Integrate1D'] task finished\n",
      "INFO:ewokscore.events.global_state:[job 'd27cebcd-0d97-4e4d-bfdf-3e095dfc100e'] [workflow 'self_calling_1'] [node 'node_print'] [task 'selfcalling.ProxyPrint2'] task started\n",
      "INFO:ewokscore.events.global_state:[job 'd27cebcd-0d97-4e4d-bfdf-3e095dfc100e'] [workflow 'self_calling_1'] [node 'node_print'] [task 'selfcalling.ProxyPrint2'] task finished\n"
     ]
    },
    {
     "name": "stdout",
     "output_type": "stream",
     "text": [
      "(2048, 2048)"
     ]
    },
    {
     "name": "stderr",
     "output_type": "stream",
     "text": [
      "INFO:ewokscore.events.global_state:[job 'd27cebcd-0d97-4e4d-bfdf-3e095dfc100e'] [workflow 'self_calling_1'] [node 'node_integrate'] [task 'ewoksxrpd.tasks.integrate.Integrate1D'] task started\n"
     ]
    },
    {
     "name": "stdout",
     "output_type": "stream",
     "text": [
      "\n",
      "(2048, 2048)\n",
      "{'dist': 0.1945710487399116, 'poni1': 0.09140108239941036, 'poni2': 0.0831203924302883, 'rot1': 0.06326716380102028, 'rot2': -0.054738929703024644, 'rot3': -8.967452065677822e-10}\n",
      "12.4\n",
      "RayonixSx165\n"
     ]
    },
    {
     "name": "stderr",
     "output_type": "stream",
     "text": [
      "INFO:ewokscore.events.global_state:[job 'd27cebcd-0d97-4e4d-bfdf-3e095dfc100e'] [workflow 'self_calling_1'] [node 'node_open'] [task 'selfcalling.ProxyOpenManyData2'] task started\n",
      "INFO:ewokscore.events.global_state:[job 'd27cebcd-0d97-4e4d-bfdf-3e095dfc100e'] [workflow 'self_calling_1'] [node 'node_integrate'] [task 'ewoksxrpd.tasks.integrate.Integrate1D'] task finished\n",
      "INFO:ewokscore.events.global_state:[job 'd27cebcd-0d97-4e4d-bfdf-3e095dfc100e'] [workflow 'self_calling_1'] [node 'node_open'] [task 'selfcalling.ProxyOpenManyData2'] task finished\n",
      "INFO:ewokscore.events.global_state:[job 'd27cebcd-0d97-4e4d-bfdf-3e095dfc100e'] [workflow 'self_calling_1'] [node 'node_save'] [task 'ewoksxrpd.tasks.ascii.SaveAsciiPattern1D'] task started\n",
      "INFO:ewokscore.events.global_state:[job 'd27cebcd-0d97-4e4d-bfdf-3e095dfc100e'] [workflow 'self_calling_1'] [node 'node_save'] [task 'ewoksxrpd.tasks.ascii.SaveAsciiPattern1D'] task finished\n",
      "INFO:ewokscore.events.global_state:[job 'd27cebcd-0d97-4e4d-bfdf-3e095dfc100e'] [workflow 'self_calling_1'] [node 'node_integrate'] [task 'ewoksxrpd.tasks.integrate.Integrate1D'] task started\n",
      "INFO:ewokscore.events.global_state:[job 'd27cebcd-0d97-4e4d-bfdf-3e095dfc100e'] [workflow 'self_calling_1'] [node 'node_print'] [task 'selfcalling.ProxyPrint2'] task started\n"
     ]
    },
    {
     "name": "stdout",
     "output_type": "stream",
     "text": [
      "(2048, 2048)\n",
      "(2048, 2048)\n",
      "{'dist': 0.1945710487399116, 'poni1': 0.09140108239941036, 'poni2': 0.0831203924302883, 'rot1': 0.06326716380102028, 'rot2': -0.054738929703024644, 'rot3': -8.967452065677822e-10}\n",
      "12.4\n",
      "RayonixSx165\n"
     ]
    },
    {
     "name": "stderr",
     "output_type": "stream",
     "text": [
      "INFO:ewokscore.events.global_state:[job 'd27cebcd-0d97-4e4d-bfdf-3e095dfc100e'] [workflow 'self_calling_1'] [node 'node_print'] [task 'selfcalling.ProxyPrint2'] task finished\n",
      "INFO:ewokscore.events.global_state:[job 'd27cebcd-0d97-4e4d-bfdf-3e095dfc100e'] [workflow 'self_calling_1'] [node 'node_open'] [task 'selfcalling.ProxyOpenManyData2'] task started\n",
      "INFO:ewokscore.events.global_state:[job 'd27cebcd-0d97-4e4d-bfdf-3e095dfc100e'] [workflow 'self_calling_1'] [node 'node_open'] [task 'selfcalling.ProxyOpenManyData2'] task finished\n",
      "INFO:ewokscore.events.global_state:[job 'd27cebcd-0d97-4e4d-bfdf-3e095dfc100e'] [workflow 'self_calling_1'] [node 'node_integrate'] [task 'ewoksxrpd.tasks.integrate.Integrate1D'] task started\n",
      "INFO:ewokscore.events.global_state:[job 'd27cebcd-0d97-4e4d-bfdf-3e095dfc100e'] [workflow 'self_calling_1'] [node 'node_save'] [task 'ewoksxrpd.tasks.ascii.SaveAsciiPattern1D'] task started\n",
      "INFO:ewokscore.events.global_state:[job 'd27cebcd-0d97-4e4d-bfdf-3e095dfc100e'] [workflow 'self_calling_1'] [node 'node_save'] [task 'ewoksxrpd.tasks.ascii.SaveAsciiPattern1D'] task finished\n",
      "INFO:ewokscore.events.global_state:[job 'd27cebcd-0d97-4e4d-bfdf-3e095dfc100e'] [workflow 'self_calling_1'] [node 'node_integrate'] [task 'ewoksxrpd.tasks.integrate.Integrate1D'] task finished\n",
      "INFO:ewokscore.events.global_state:[job 'd27cebcd-0d97-4e4d-bfdf-3e095dfc100e'] [workflow 'self_calling_1'] [node 'node_print'] [task 'selfcalling.ProxyPrint2'] task started\n",
      "INFO:ewokscore.events.global_state:[job 'd27cebcd-0d97-4e4d-bfdf-3e095dfc100e'] [workflow 'self_calling_1'] [node 'node_print'] [task 'selfcalling.ProxyPrint2'] task finished\n"
     ]
    },
    {
     "name": "stdout",
     "output_type": "stream",
     "text": [
      "(2048, 2048)\n",
      "(2048, 2048)\n",
      "{'dist': 0.1945710487399116, 'poni1': 0.09140108239941036, 'poni2': 0.0831203924302883, 'rot1': 0.06326716380102028, 'rot2': -0.054738929703024644, 'rot3': -8.967452065677822e-10}\n",
      "12.4\n",
      "RayonixSx165\n"
     ]
    },
    {
     "name": "stderr",
     "output_type": "stream",
     "text": [
      "INFO:ewokscore.events.global_state:[job 'd27cebcd-0d97-4e4d-bfdf-3e095dfc100e'] [workflow 'self_calling_1'] [node 'node_integrate'] [task 'ewoksxrpd.tasks.integrate.Integrate1D'] task finished\n",
      "INFO:ewokscore.events.global_state:[job 'd27cebcd-0d97-4e4d-bfdf-3e095dfc100e'] [workflow 'self_calling_1'] [node 'node_open'] [task 'selfcalling.ProxyOpenManyData2'] task started\n",
      "INFO:ewokscore.events.global_state:[job 'd27cebcd-0d97-4e4d-bfdf-3e095dfc100e'] [workflow 'self_calling_1'] [node 'node_open'] [task 'selfcalling.ProxyOpenManyData2'] task finished\n",
      "INFO:ewokscore.events.global_state:[job 'd27cebcd-0d97-4e4d-bfdf-3e095dfc100e'] [workflow 'self_calling_1'] [node 'node_save'] [task 'ewoksxrpd.tasks.ascii.SaveAsciiPattern1D'] task started\n",
      "INFO:ewokscore.events.global_state:[job 'd27cebcd-0d97-4e4d-bfdf-3e095dfc100e'] [workflow 'self_calling_1'] [node 'node_save'] [task 'ewoksxrpd.tasks.ascii.SaveAsciiPattern1D'] task finished\n",
      "INFO:ewokscore.events.global_state:[job 'd27cebcd-0d97-4e4d-bfdf-3e095dfc100e'] [workflow 'self_calling_1'] [node 'node_integrate'] [task 'ewoksxrpd.tasks.integrate.Integrate1D'] task started\n",
      "INFO:ewokscore.events.global_state:[job 'd27cebcd-0d97-4e4d-bfdf-3e095dfc100e'] [workflow 'self_calling_1'] [node 'node_print'] [task 'selfcalling.ProxyPrint2'] task started\n"
     ]
    },
    {
     "name": "stdout",
     "output_type": "stream",
     "text": [
      "(2048, 2048)\n",
      "(2048, 2048)\n",
      "{'dist': 0.1945710487399116, 'poni1': 0.09140108239941036, 'poni2': 0.0831203924302883, 'rot1': 0.06326716380102028, 'rot2': -0.054738929703024644, 'rot3': -8.967452065677822e-10}"
     ]
    },
    {
     "name": "stderr",
     "output_type": "stream",
     "text": [
      "INFO:ewokscore.events.global_state:[job 'd27cebcd-0d97-4e4d-bfdf-3e095dfc100e'] [workflow 'self_calling_1'] [node 'node_save'] [task 'ewoksxrpd.tasks.ascii.SaveAsciiPattern1D'] task started\n"
     ]
    },
    {
     "name": "stdout",
     "output_type": "stream",
     "text": [
      "\n",
      "12.4\n"
     ]
    },
    {
     "name": "stderr",
     "output_type": "stream",
     "text": [
      "INFO:ewokscore.events.global_state:[job 'd27cebcd-0d97-4e4d-bfdf-3e095dfc100e'] [workflow 'self_calling_1'] [node 'node_save'] [task 'ewoksxrpd.tasks.ascii.SaveAsciiPattern1D'] task finished\n"
     ]
    },
    {
     "name": "stdout",
     "output_type": "stream",
     "text": [
      "RayonixSx165\n"
     ]
    },
    {
     "name": "stderr",
     "output_type": "stream",
     "text": [
      "INFO:ewokscore.events.global_state:[job 'd27cebcd-0d97-4e4d-bfdf-3e095dfc100e'] [workflow 'self_calling_1'] [node 'node_print'] [task 'selfcalling.ProxyPrint2'] task finished\n",
      "INFO:ewokscore.events.global_state:[job 'd27cebcd-0d97-4e4d-bfdf-3e095dfc100e'] [workflow 'self_calling_1'] [node 'node_open'] [task 'selfcalling.ProxyOpenManyData2'] task started\n",
      "INFO:ewokscore.events.global_state:[job 'd27cebcd-0d97-4e4d-bfdf-3e095dfc100e'] [workflow 'self_calling_1'] [node 'node_open'] [task 'selfcalling.ProxyOpenManyData2'] task finished\n",
      "INFO:ewokscore.events.global_state:[job 'd27cebcd-0d97-4e4d-bfdf-3e095dfc100e'] [workflow 'self_calling_1'] [node 'node_integrate'] [task 'ewoksxrpd.tasks.integrate.Integrate1D'] task started\n",
      "INFO:ewokscore.events.global_state:[job 'd27cebcd-0d97-4e4d-bfdf-3e095dfc100e'] [workflow 'self_calling_1'] [node 'node_open'] [task 'selfcalling.ProxyOpenManyData2'] task started\n",
      "INFO:ewokscore.events.global_state:[job 'd27cebcd-0d97-4e4d-bfdf-3e095dfc100e'] [workflow 'self_calling_1'] [node 'node_print'] [task 'selfcalling.ProxyPrint2'] task started\n"
     ]
    },
    {
     "name": "stdout",
     "output_type": "stream",
     "text": [
      "(2048, 2048)\n",
      "(2048, 2048)\n",
      "{'dist': 0.1945710487399116, 'poni1': 0.09140108239941036, 'poni2': 0.0831203924302883, 'rot1': 0.06326716380102028, 'rot2': -0.054738929703024644, 'rot3': -8.967452065677822e-10}\n",
      "12.4\n",
      "RayonixSx165\n"
     ]
    },
    {
     "name": "stderr",
     "output_type": "stream",
     "text": [
      "INFO:ewokscore.events.global_state:[job 'd27cebcd-0d97-4e4d-bfdf-3e095dfc100e'] [workflow 'self_calling_1'] [node 'node_print'] [task 'selfcalling.ProxyPrint2'] task finished\n",
      "INFO:ewokscore.events.global_state:[job 'd27cebcd-0d97-4e4d-bfdf-3e095dfc100e'] [workflow 'self_calling_1'] [node 'node_open'] [task 'selfcalling.ProxyOpenManyData2'] task finished\n",
      "INFO:ewokscore.events.global_state:[job 'd27cebcd-0d97-4e4d-bfdf-3e095dfc100e'] [workflow 'self_calling_1'] [node 'node_integrate'] [task 'ewoksxrpd.tasks.integrate.Integrate1D'] task started\n",
      "INFO:ewokscore.events.global_state:[job 'd27cebcd-0d97-4e4d-bfdf-3e095dfc100e'] [workflow 'self_calling_1'] [node 'node_print'] [task 'selfcalling.ProxyPrint2'] task started\n"
     ]
    },
    {
     "name": "stdout",
     "output_type": "stream",
     "text": [
      "\n",
      "(2048, 2048)\n",
      "(2048, 2048){'dist': 0.1945710487399116, 'poni1': 0.09140108239941036, 'poni2': 0.0831203924302883, 'rot1': 0.06326716380102028, 'rot2': -0.054738929703024644, 'rot3': -8.967452065677822e-10}\n",
      "12.4\n",
      "RayonixSx165\n"
     ]
    },
    {
     "name": "stderr",
     "output_type": "stream",
     "text": [
      "INFO:ewokscore.events.global_state:[job 'd27cebcd-0d97-4e4d-bfdf-3e095dfc100e'] [workflow 'self_calling_1'] [node 'node_print'] [task 'selfcalling.ProxyPrint2'] task finished\n",
      "INFO:ewokscore.events.global_state:[job 'd27cebcd-0d97-4e4d-bfdf-3e095dfc100e'] [workflow 'self_calling_1'] [node 'node_open'] [task 'selfcalling.ProxyOpenManyData2'] task started\n",
      "INFO:ewokscore.events.global_state:[job 'd27cebcd-0d97-4e4d-bfdf-3e095dfc100e'] [workflow 'self_calling_1'] [node 'node_integrate'] [task 'ewoksxrpd.tasks.integrate.Integrate1D'] task finished\n",
      "INFO:ewokscore.events.global_state:[job 'd27cebcd-0d97-4e4d-bfdf-3e095dfc100e'] [workflow 'self_calling_1'] [node 'node_open'] [task 'selfcalling.ProxyOpenManyData2'] task finished\n",
      "INFO:ewokscore.events.global_state:[job 'd27cebcd-0d97-4e4d-bfdf-3e095dfc100e'] [workflow 'self_calling_1'] [node 'node_integrate'] [task 'ewoksxrpd.tasks.integrate.Integrate1D'] task finished\n",
      "INFO:ewokscore.events.global_state:[job 'd27cebcd-0d97-4e4d-bfdf-3e095dfc100e'] [workflow 'self_calling_1'] [node 'node_integrate'] [task 'ewoksxrpd.tasks.integrate.Integrate1D'] task started\n",
      "INFO:ewokscore.events.global_state:[job 'd27cebcd-0d97-4e4d-bfdf-3e095dfc100e'] [workflow 'self_calling_1'] [node 'node_print'] [task 'selfcalling.ProxyPrint2'] task started\n",
      "INFO:ewokscore.events.global_state:[job 'd27cebcd-0d97-4e4d-bfdf-3e095dfc100e'] [workflow 'self_calling_1'] [node 'node_save'] [task 'ewoksxrpd.tasks.ascii.SaveAsciiPattern1D'] task finished\n"
     ]
    },
    {
     "name": "stdout",
     "output_type": "stream",
     "text": [
      "(2048, 2048)\n",
      "(2048, 2048)"
     ]
    },
    {
     "name": "stderr",
     "output_type": "stream",
     "text": [
      "INFO:ewokscore.events.global_state:[job 'd27cebcd-0d97-4e4d-bfdf-3e095dfc100e'] [workflow 'self_calling_1'] [node 'node_save'] [task 'ewoksxrpd.tasks.ascii.SaveAsciiPattern1D'] task started\n"
     ]
    },
    {
     "name": "stdout",
     "output_type": "stream",
     "text": [
      "\n",
      "{'dist': 0.1945710487399116, 'poni1': 0.09140108239941036, 'poni2': 0.0831203924302883, 'rot1': 0.06326716380102028, 'rot2': -0.054738929703024644, 'rot3': -8.967452065677822e-10}\n",
      "12.4\n",
      "RayonixSx165\n"
     ]
    },
    {
     "name": "stderr",
     "output_type": "stream",
     "text": [
      "INFO:ewokscore.events.global_state:[job 'd27cebcd-0d97-4e4d-bfdf-3e095dfc100e'] [workflow 'self_calling_1'] [node 'node_print'] [task 'selfcalling.ProxyPrint2'] task finished\n",
      "INFO:ewokscore.events.global_state:[job 'd27cebcd-0d97-4e4d-bfdf-3e095dfc100e'] [workflow 'self_calling_1'] [node 'node_save'] [task 'ewoksxrpd.tasks.ascii.SaveAsciiPattern1D'] task started\n",
      "INFO:ewokscore.events.global_state:[job 'd27cebcd-0d97-4e4d-bfdf-3e095dfc100e'] [workflow 'self_calling_1'] [node 'node_save'] [task 'ewoksxrpd.tasks.ascii.SaveAsciiPattern1D'] task finished\n",
      "INFO:ewokscore.events.global_state:[job 'd27cebcd-0d97-4e4d-bfdf-3e095dfc100e'] [workflow 'self_calling_1'] [node 'node_open'] [task 'selfcalling.ProxyOpenManyData2'] task started\n",
      "INFO:ewokscore.events.global_state:[job 'd27cebcd-0d97-4e4d-bfdf-3e095dfc100e'] [workflow 'self_calling_1'] [node 'node_integrate'] [task 'ewoksxrpd.tasks.integrate.Integrate1D'] task finished\n",
      "INFO:ewokscore.events.global_state:[job 'd27cebcd-0d97-4e4d-bfdf-3e095dfc100e'] [workflow 'self_calling_1'] [node 'node_open'] [task 'selfcalling.ProxyOpenManyData2'] task finished\n",
      "INFO:ewokscore.events.global_state:[job 'd27cebcd-0d97-4e4d-bfdf-3e095dfc100e'] [workflow 'self_calling_1'] [node 'node_integrate'] [task 'ewoksxrpd.tasks.integrate.Integrate1D'] task started\n",
      "INFO:ewokscore.events.global_state:[job 'd27cebcd-0d97-4e4d-bfdf-3e095dfc100e'] [workflow 'self_calling_1'] [node 'node_integrate'] [task 'ewoksxrpd.tasks.integrate.Integrate1D'] task finished\n",
      "INFO:ewokscore.events.global_state:[job 'd27cebcd-0d97-4e4d-bfdf-3e095dfc100e'] [workflow 'self_calling_1'] [node 'node_print'] [task 'selfcalling.ProxyPrint2'] task started\n"
     ]
    },
    {
     "name": "stdout",
     "output_type": "stream",
     "text": [
      "(2048, 2048)\n",
      "(2048, 2048)\n",
      "{'dist': 0.1945710487399116, 'poni1': 0.09140108239941036, 'poni2': 0.0831203924302883, 'rot1': 0.06326716380102028, 'rot2': -0.054738929703024644, 'rot3': -8.967452065677822e-10}\n"
     ]
    },
    {
     "name": "stderr",
     "output_type": "stream",
     "text": [
      "INFO:ewokscore.events.global_state:[job 'd27cebcd-0d97-4e4d-bfdf-3e095dfc100e'] [workflow 'self_calling_1'] [node 'node_integrate'] [task 'ewoksxrpd.tasks.integrate.Integrate1D'] task finished\n"
     ]
    },
    {
     "name": "stdout",
     "output_type": "stream",
     "text": [
      "12.4"
     ]
    },
    {
     "name": "stderr",
     "output_type": "stream",
     "text": [
      "INFO:ewokscore.events.global_state:[job 'd27cebcd-0d97-4e4d-bfdf-3e095dfc100e'] [workflow 'self_calling_1'] [node 'node_save'] [task 'ewoksxrpd.tasks.ascii.SaveAsciiPattern1D'] task started\n",
      "INFO:ewokscore.events.global_state:[job 'd27cebcd-0d97-4e4d-bfdf-3e095dfc100e'] [workflow 'self_calling_1'] [node 'node_save'] [task 'ewoksxrpd.tasks.ascii.SaveAsciiPattern1D'] task started\n"
     ]
    },
    {
     "name": "stdout",
     "output_type": "stream",
     "text": [
      "\n"
     ]
    },
    {
     "name": "stderr",
     "output_type": "stream",
     "text": [
      "INFO:ewokscore.events.global_state:[job 'd27cebcd-0d97-4e4d-bfdf-3e095dfc100e'] [workflow 'self_calling_1'] [node 'node_save'] [task 'ewoksxrpd.tasks.ascii.SaveAsciiPattern1D'] task finished\n"
     ]
    },
    {
     "name": "stdout",
     "output_type": "stream",
     "text": [
      "RayonixSx165"
     ]
    },
    {
     "name": "stderr",
     "output_type": "stream",
     "text": [
      "INFO:ewokscore.events.global_state:[job 'd27cebcd-0d97-4e4d-bfdf-3e095dfc100e'] [workflow 'self_calling_1'] [node 'node_integrate'] [task 'ewoksxrpd.tasks.integrate.Integrate1D'] task started\n",
      "INFO:ewokscore.events.global_state:[job 'd27cebcd-0d97-4e4d-bfdf-3e095dfc100e'] [workflow 'self_calling_1'] [node 'node_save'] [task 'ewoksxrpd.tasks.ascii.SaveAsciiPattern1D'] task finished\n"
     ]
    },
    {
     "name": "stdout",
     "output_type": "stream",
     "text": [
      "\n"
     ]
    },
    {
     "name": "stderr",
     "output_type": "stream",
     "text": [
      "INFO:ewokscore.events.global_state:[job 'd27cebcd-0d97-4e4d-bfdf-3e095dfc100e'] [workflow 'self_calling_1'] [node 'node_print'] [task 'selfcalling.ProxyPrint2'] task finished\n",
      "INFO:ewokscore.events.global_state:[job 'd27cebcd-0d97-4e4d-bfdf-3e095dfc100e'] [workflow 'self_calling_1'] [node 'node_open'] [task 'selfcalling.ProxyOpenManyData2'] task started\n",
      "INFO:ewokscore.events.global_state:[job 'd27cebcd-0d97-4e4d-bfdf-3e095dfc100e'] [workflow 'self_calling_1'] [node 'node_open'] [task 'selfcalling.ProxyOpenManyData2'] task finished\n",
      "INFO:ewokscore.events.global_state:[job 'd27cebcd-0d97-4e4d-bfdf-3e095dfc100e'] [workflow 'self_calling_1'] [node 'node_save'] [task 'ewoksxrpd.tasks.ascii.SaveAsciiPattern1D'] task started\n",
      "INFO:ewokscore.events.global_state:[job 'd27cebcd-0d97-4e4d-bfdf-3e095dfc100e'] [workflow 'self_calling_1'] [node 'node_save'] [task 'ewoksxrpd.tasks.ascii.SaveAsciiPattern1D'] task finished\n",
      "INFO:ewokscore.events.global_state:[job 'd27cebcd-0d97-4e4d-bfdf-3e095dfc100e'] [workflow 'self_calling_1'] [node 'node_print'] [task 'selfcalling.ProxyPrint2'] task started\n"
     ]
    },
    {
     "name": "stdout",
     "output_type": "stream",
     "text": [
      "12.4(2048, 2048)\n",
      "(2048, 2048)\n",
      "{'dist': 0.1945710487399116, 'poni1': 0.09140108239941036, 'poni2': 0.0831203924302883, 'rot1': 0.06326716380102028, 'rot2': -0.054738929703024644, 'rot3': -8.967452065677822e-10}\n",
      "\n"
     ]
    },
    {
     "name": "stderr",
     "output_type": "stream",
     "text": [
      "INFO:ewokscore.events.global_state:[job 'd27cebcd-0d97-4e4d-bfdf-3e095dfc100e'] [workflow 'self_calling_1'] [node 'node_open'] [task 'selfcalling.ProxyOpenManyData2'] task started\n"
     ]
    },
    {
     "name": "stdout",
     "output_type": "stream",
     "text": [
      "RayonixSx165\n"
     ]
    },
    {
     "name": "stderr",
     "output_type": "stream",
     "text": [
      "INFO:ewokscore.events.global_state:[job 'd27cebcd-0d97-4e4d-bfdf-3e095dfc100e'] [workflow 'self_calling_1'] [node 'node_open'] [task 'selfcalling.ProxyOpenManyData2'] task finished\n",
      "INFO:ewokscore.events.global_state:[job 'd27cebcd-0d97-4e4d-bfdf-3e095dfc100e'] [workflow 'self_calling_1'] [node 'node_print'] [task 'selfcalling.ProxyPrint2'] task finished\n",
      "INFO:ewokscore.events.global_state:[job 'd27cebcd-0d97-4e4d-bfdf-3e095dfc100e'] [workflow 'self_calling_1'] [node 'node_integrate'] [task 'ewoksxrpd.tasks.integrate.Integrate1D'] task finished\n",
      "INFO:ewokscore.events.global_state:[job 'd27cebcd-0d97-4e4d-bfdf-3e095dfc100e'] [workflow 'self_calling_1'] [node 'node_integrate'] [task 'ewoksxrpd.tasks.integrate.Integrate1D'] task started\n",
      "INFO:ewokscore.events.global_state:[job 'd27cebcd-0d97-4e4d-bfdf-3e095dfc100e'] [workflow 'self_calling_1'] [node 'node_integrate'] [task 'ewoksxrpd.tasks.integrate.Integrate1D'] task finished\n",
      "INFO:ewokscore.events.global_state:[job 'd27cebcd-0d97-4e4d-bfdf-3e095dfc100e'] [workflow 'self_calling_1'] [node 'node_print'] [task 'selfcalling.ProxyPrint2'] task started\n"
     ]
    },
    {
     "name": "stdout",
     "output_type": "stream",
     "text": [
      "(2048, 2048)\n",
      "(2048, 2048)\n",
      "{'dist': 0.1945710487399116, 'poni1': 0.09140108239941036, 'poni2': 0.0831203924302883, 'rot1': 0.06326716380102028, 'rot2': -0.054738929703024644, 'rot3': -8.967452065677822e-10}\n",
      "12.4\n",
      "RayonixSx165\n"
     ]
    },
    {
     "name": "stderr",
     "output_type": "stream",
     "text": [
      "INFO:ewokscore.events.global_state:[job 'd27cebcd-0d97-4e4d-bfdf-3e095dfc100e'] [workflow 'self_calling_1'] [node 'node_print'] [task 'selfcalling.ProxyPrint2'] task finished\n",
      "INFO:ewokscore.events.global_state:[job 'd27cebcd-0d97-4e4d-bfdf-3e095dfc100e'] [workflow 'self_calling_1'] [node 'node_save'] [task 'ewoksxrpd.tasks.ascii.SaveAsciiPattern1D'] task started\n",
      "INFO:ewokscore.events.global_state:[job 'd27cebcd-0d97-4e4d-bfdf-3e095dfc100e'] [workflow 'self_calling_1'] [node 'node_save'] [task 'ewoksxrpd.tasks.ascii.SaveAsciiPattern1D'] task finished\n",
      "INFO:ewokscore.events.global_state:[job 'd27cebcd-0d97-4e4d-bfdf-3e095dfc100e'] [workflow 'self_calling_1'] [node 'node_integrate'] [task 'ewoksxrpd.tasks.integrate.Integrate1D'] task finished\n",
      "INFO:ewokscore.events.global_state:[job 'd27cebcd-0d97-4e4d-bfdf-3e095dfc100e'] [workflow 'self_calling_1'] [node 'node_open'] [task 'selfcalling.ProxyOpenManyData2'] task started\n",
      "INFO:ewokscore.events.global_state:[job 'd27cebcd-0d97-4e4d-bfdf-3e095dfc100e'] [workflow 'self_calling_1'] [node 'node_open'] [task 'selfcalling.ProxyOpenManyData2'] task finished\n",
      "INFO:ewokscore.events.global_state:[job 'd27cebcd-0d97-4e4d-bfdf-3e095dfc100e'] [workflow 'self_calling_1'] [node 'node_save'] [task 'ewoksxrpd.tasks.ascii.SaveAsciiPattern1D'] task started\n",
      "INFO:ewokscore.events.global_state:[job 'd27cebcd-0d97-4e4d-bfdf-3e095dfc100e'] [workflow 'self_calling_1'] [node 'node_integrate'] [task 'ewoksxrpd.tasks.integrate.Integrate1D'] task started\n",
      "INFO:ewokscore.events.global_state:[job 'd27cebcd-0d97-4e4d-bfdf-3e095dfc100e'] [workflow 'self_calling_1'] [node 'node_save'] [task 'ewoksxrpd.tasks.ascii.SaveAsciiPattern1D'] task finished\n",
      "INFO:ewokscore.events.global_state:[job 'd27cebcd-0d97-4e4d-bfdf-3e095dfc100e'] [workflow 'self_calling_1'] [node 'node_integrate'] [task 'ewoksxrpd.tasks.integrate.Integrate1D'] task finished\n",
      "INFO:ewokscore.events.global_state:[job 'd27cebcd-0d97-4e4d-bfdf-3e095dfc100e'] [workflow 'self_calling_1'] [node 'node_save'] [task 'ewoksxrpd.tasks.ascii.SaveAsciiPattern1D'] task started\n",
      "INFO:ewokscore.events.global_state:[job 'd27cebcd-0d97-4e4d-bfdf-3e095dfc100e'] [workflow 'self_calling_1'] [node 'node_save'] [task 'ewoksxrpd.tasks.ascii.SaveAsciiPattern1D'] task finished\n",
      "INFO:ewokscore.events.global_state:[job 'd27cebcd-0d97-4e4d-bfdf-3e095dfc100e'] [workflow 'self_calling_1'] [node 'node_print'] [task 'selfcalling.ProxyPrint2'] task started\n"
     ]
    },
    {
     "name": "stdout",
     "output_type": "stream",
     "text": [
      "(2048, 2048)\n",
      "(2048, 2048)\n",
      "{'dist': 0.1945710487399116, 'poni1': 0.09140108239941036, 'poni2': 0.0831203924302883, 'rot1': 0.06326716380102028, 'rot2': -0.054738929703024644, 'rot3': -8.967452065677822e-10}\n",
      "12.4\n",
      "RayonixSx165\n"
     ]
    },
    {
     "name": "stderr",
     "output_type": "stream",
     "text": [
      "INFO:ewokscore.events.global_state:[job 'd27cebcd-0d97-4e4d-bfdf-3e095dfc100e'] [workflow 'self_calling_1'] [node 'node_print'] [task 'selfcalling.ProxyPrint2'] task finished\n",
      "INFO:ewokscore.events.global_state:[job 'd27cebcd-0d97-4e4d-bfdf-3e095dfc100e'] [workflow 'self_calling_1'] [node 'node_save'] [task 'ewoksxrpd.tasks.ascii.SaveAsciiPattern1D'] task started\n",
      "INFO:ewokscore.events.global_state:[job 'd27cebcd-0d97-4e4d-bfdf-3e095dfc100e'] [workflow 'self_calling_1'] [node 'node_save'] [task 'ewoksxrpd.tasks.ascii.SaveAsciiPattern1D'] task finished\n",
      "INFO:ewokscore.events.global_state:[job 'd27cebcd-0d97-4e4d-bfdf-3e095dfc100e'] [workflow 'self_calling_1'] [node 'node_open'] [task 'selfcalling.ProxyOpenManyData2'] task started\n",
      "INFO:ewokscore.events.global_state:[job 'd27cebcd-0d97-4e4d-bfdf-3e095dfc100e'] [workflow 'self_calling_1'] [node 'node_open'] [task 'selfcalling.ProxyOpenManyData2'] task finished\n",
      "INFO:ewokscore.events.global_state:[job 'd27cebcd-0d97-4e4d-bfdf-3e095dfc100e'] [workflow 'self_calling_1'] [node 'node_integrate'] [task 'ewoksxrpd.tasks.integrate.Integrate1D'] task started\n",
      "INFO:ewokscore.events.global_state:[job 'd27cebcd-0d97-4e4d-bfdf-3e095dfc100e'] [workflow 'self_calling_1'] [node 'node_integrate'] [task 'ewoksxrpd.tasks.integrate.Integrate1D'] task finished\n",
      "INFO:ewokscore.events.global_state:[job 'd27cebcd-0d97-4e4d-bfdf-3e095dfc100e'] [workflow 'self_calling_1'] [node 'node_print'] [task 'selfcalling.ProxyPrint2'] task started\n"
     ]
    },
    {
     "name": "stdout",
     "output_type": "stream",
     "text": [
      "(2048, 2048){'dist': 0.1945710487399116, 'poni1': 0.09140108239941036, 'poni2': 0.0831203924302883, 'rot1': 0.06326716380102028, 'rot2': -0.054738929703024644, 'rot3': -8.967452065677822e-10}\n",
      "(2048, 2048)\n",
      "\n",
      "12.4\n",
      "RayonixSx165\n"
     ]
    },
    {
     "name": "stderr",
     "output_type": "stream",
     "text": [
      "INFO:ewokscore.events.global_state:[job 'd27cebcd-0d97-4e4d-bfdf-3e095dfc100e'] [workflow 'self_calling_1'] [node 'node_print'] [task 'selfcalling.ProxyPrint2'] task finished\n",
      "INFO:ewokscore.events.global_state:[job 'd27cebcd-0d97-4e4d-bfdf-3e095dfc100e'] [workflow 'self_calling_1'] [node 'node_open'] [task 'selfcalling.ProxyOpenManyData2'] task started\n",
      "INFO:ewokscore.events.global_state:[job 'd27cebcd-0d97-4e4d-bfdf-3e095dfc100e'] [workflow 'self_calling_1'] [node 'node_integrate'] [task 'ewoksxrpd.tasks.integrate.Integrate1D'] task finished\n",
      "INFO:ewokscore.events.global_state:[job 'd27cebcd-0d97-4e4d-bfdf-3e095dfc100e'] [workflow 'self_calling_1'] [node 'node_open'] [task 'selfcalling.ProxyOpenManyData2'] task finished\n",
      "INFO:ewokscore.events.global_state:[job 'd27cebcd-0d97-4e4d-bfdf-3e095dfc100e'] [workflow 'self_calling_1'] [node 'node_save'] [task 'ewoksxrpd.tasks.ascii.SaveAsciiPattern1D'] task started\n",
      "INFO:ewokscore.events.global_state:[job 'd27cebcd-0d97-4e4d-bfdf-3e095dfc100e'] [workflow 'self_calling_1'] [node 'node_integrate'] [task 'ewoksxrpd.tasks.integrate.Integrate1D'] task started\n",
      "INFO:ewokscore.events.global_state:[job 'd27cebcd-0d97-4e4d-bfdf-3e095dfc100e'] [workflow 'self_calling_1'] [node 'node_save'] [task 'ewoksxrpd.tasks.ascii.SaveAsciiPattern1D'] task finished\n",
      "INFO:ewokscore.events.global_state:[job 'd27cebcd-0d97-4e4d-bfdf-3e095dfc100e'] [workflow 'self_calling_1'] [node 'node_print'] [task 'selfcalling.ProxyPrint2'] task started\n",
      "INFO:ewokscore.events.global_state:[job 'd27cebcd-0d97-4e4d-bfdf-3e095dfc100e'] [workflow 'self_calling_1'] [node 'node_save'] [task 'ewoksxrpd.tasks.ascii.SaveAsciiPattern1D'] task started\n"
     ]
    },
    {
     "name": "stdout",
     "output_type": "stream",
     "text": [
      "(2048, 2048)\n"
     ]
    },
    {
     "name": "stderr",
     "output_type": "stream",
     "text": [
      "INFO:ewokscore.events.global_state:[job 'd27cebcd-0d97-4e4d-bfdf-3e095dfc100e'] [workflow 'self_calling_1'] [node 'node_save'] [task 'ewoksxrpd.tasks.ascii.SaveAsciiPattern1D'] task finished\n"
     ]
    },
    {
     "name": "stdout",
     "output_type": "stream",
     "text": [
      "(2048, 2048)\n",
      "{'dist': 0.1945710487399116, 'poni1': 0.09140108239941036, 'poni2': 0.0831203924302883, 'rot1': 0.06326716380102028, 'rot2': -0.054738929703024644, 'rot3': -8.967452065677822e-10}\n",
      "12.4\n",
      "RayonixSx165"
     ]
    },
    {
     "name": "stderr",
     "output_type": "stream",
     "text": [
      "INFO:ewokscore.events.global_state:[job 'd27cebcd-0d97-4e4d-bfdf-3e095dfc100e'] [workflow 'self_calling_1'] [node 'node_open'] [task 'selfcalling.ProxyOpenManyData2'] task started\n"
     ]
    },
    {
     "name": "stdout",
     "output_type": "stream",
     "text": [
      "\n"
     ]
    },
    {
     "name": "stderr",
     "output_type": "stream",
     "text": [
      "INFO:ewokscore.events.global_state:[job 'd27cebcd-0d97-4e4d-bfdf-3e095dfc100e'] [workflow 'self_calling_1'] [node 'node_print'] [task 'selfcalling.ProxyPrint2'] task finished\n",
      "INFO:ewokscore.events.global_state:[job 'd27cebcd-0d97-4e4d-bfdf-3e095dfc100e'] [workflow 'self_calling_1'] [node 'node_open'] [task 'selfcalling.ProxyOpenManyData2'] task finished\n"
     ]
    }
   ],
   "source": [
    "self_calling_2()"
   ]
  },
  {
   "cell_type": "code",
   "execution_count": null,
   "metadata": {},
   "outputs": [],
   "source": []
  }
 ],
 "metadata": {
  "kernelspec": {
   "display_name": "py312",
   "language": "python",
   "name": "python3"
  },
  "language_info": {
   "codemirror_mode": {
    "name": "ipython",
    "version": 3
   },
   "file_extension": ".py",
   "mimetype": "text/x-python",
   "name": "python",
   "nbconvert_exporter": "python",
   "pygments_lexer": "ipython3",
   "version": "3.12.0"
  }
 },
 "nbformat": 4,
 "nbformat_minor": 2
}
