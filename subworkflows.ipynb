{
 "cells": [
  {
   "cell_type": "code",
   "execution_count": 6,
   "metadata": {},
   "outputs": [],
   "source": [
    "from ewoks import execute_graph\n",
    "import time\n",
    "import os"
   ]
  },
  {
   "cell_type": "code",
   "execution_count": 7,
   "metadata": {},
   "outputs": [
    {
     "name": "stderr",
     "output_type": "stream",
     "text": [
      "INFO:ewokscore.events.global_state:[job '40f43dfc-04db-49a6-a092-959a4775d30d'] job started\n",
      "INFO:ewokscore.events.global_state:[job '40f43dfc-04db-49a6-a092-959a4775d30d'] [workflow 'graph_json_ppf'] workflow started\n",
      "INFO:ewokscore.events.global_state:[job '40f43dfc-04db-49a6-a092-959a4775d30d'] [workflow 'graph_json_ppf'] [node 'node_json'] [task 'subworkflows.ExecuteJsonPPF'] task started\n",
      "INFO:ewokscore.events.global_state:[job '50c6c484-4cf8-4b2e-b438-4359e9a37d5d'] job started\n",
      "INFO:ewokscore.events.global_state:[job '50c6c484-4cf8-4b2e-b438-4359e9a37d5d'] [workflow 'graph_subworkflow'] workflow started\n",
      "INFO:ewokscore.events.global_state:[job '50c6c484-4cf8-4b2e-b438-4359e9a37d5d'] [workflow 'graph_subworkflow'] [node 'node_proxy'] [task 'subworkflows.ProxyIntegration'] task started\n",
      "INFO:ewokscore.events.global_state:[job '50c6c484-4cf8-4b2e-b438-4359e9a37d5d'] [workflow 'graph_subworkflow'] [node 'node_proxy'] [task 'subworkflows.ProxyIntegration'] task finished\n",
      "INFO:ewokscore.events.global_state:[job '50c6c484-4cf8-4b2e-b438-4359e9a37d5d'] [workflow 'graph_subworkflow'] [node 'node_config'] [task 'ewoksxrpd.tasks.pyfaiconfig.PyFaiConfig'] task started\n",
      "INFO:ewokscore.events.global_state:[job '50c6c484-4cf8-4b2e-b438-4359e9a37d5d'] [workflow 'graph_subworkflow'] [node 'node_config'] [task 'ewoksxrpd.tasks.pyfaiconfig.PyFaiConfig'] task finished\n",
      "INFO:ewokscore.events.global_state:[job '50c6c484-4cf8-4b2e-b438-4359e9a37d5d'] [workflow 'graph_subworkflow'] [node 'node_integrate'] [task 'ewoksxrpd.tasks.integrate.Integrate1D'] task started\n",
      "INFO:ewokscore.events.global_state:[job '50c6c484-4cf8-4b2e-b438-4359e9a37d5d'] [workflow 'graph_subworkflow'] [node 'node_integrate'] [task 'ewoksxrpd.tasks.integrate.Integrate1D'] task finished\n",
      "INFO:ewokscore.events.global_state:[job '50c6c484-4cf8-4b2e-b438-4359e9a37d5d'] [workflow 'graph_subworkflow'] [node 'node_save'] [task 'ewoksxrpd.tasks.ascii.SaveAsciiPattern1D'] task started\n",
      "INFO:ewokscore.events.global_state:[job '50c6c484-4cf8-4b2e-b438-4359e9a37d5d'] [workflow 'graph_subworkflow'] [node 'node_save'] [task 'ewoksxrpd.tasks.ascii.SaveAsciiPattern1D'] task finished\n",
      "INFO:ewokscore.events.global_state:[job '50c6c484-4cf8-4b2e-b438-4359e9a37d5d'] [workflow 'graph_subworkflow'] workflow finished\n",
      "INFO:ewokscore.events.global_state:[job '50c6c484-4cf8-4b2e-b438-4359e9a37d5d'] job finished\n",
      "INFO:ewokscore.events.global_state:[job '40f43dfc-04db-49a6-a092-959a4775d30d'] [workflow 'graph_json_ppf'] [node 'node_json'] [task 'subworkflows.ExecuteJsonPPF'] task finished\n",
      "INFO:ewokscore.events.global_state:[job '40f43dfc-04db-49a6-a092-959a4775d30d'] [workflow 'graph_json_ppf'] workflow finished\n",
      "INFO:ewokscore.events.global_state:[job '40f43dfc-04db-49a6-a092-959a4775d30d'] job finished\n"
     ]
    },
    {
     "name": "stdout",
     "output_type": "stream",
     "text": [
      "WF: ppf, swf: ppf: 1.05 s\n"
     ]
    }
   ],
   "source": [
    "os.system(\"rm LaB6_1d.dat\")\n",
    "st = time.perf_counter()\n",
    "execute_graph(\n",
    "    graph=\"execute_ppf.json\",\n",
    "    engine=\"ppf\",\n",
    "    inputs=[\n",
    "        {\"name\" : \"json_file\", \"value\" : \"subworkflow.json\", \"id\" : \"node_json\"},\n",
    "        {\"name\" : \"poni_file\", \"value\" : \"lab6.poni\", \"id\" : \"node_json\"},\n",
    "        {\"name\" : \"data_filename\", \"value\" : \"LaB6.edf\", \"id\" : \"node_json\"},\n",
    "    ],\n",
    ")\n",
    "print(f\"WF: ppf, swf: ppf: {time.perf_counter() - st:.2f} s\")"
   ]
  },
  {
   "cell_type": "code",
   "execution_count": 11,
   "metadata": {},
   "outputs": [
    {
     "name": "stderr",
     "output_type": "stream",
     "text": [
      "INFO:ewokscore.events.global_state:[job '25b73062-1f45-4bb3-928b-6af14f8e4a13'] job started\n",
      "INFO:ewokscore.events.global_state:[job '25b73062-1f45-4bb3-928b-6af14f8e4a13'] [workflow 'graph_json_dask'] workflow started\n",
      "INFO:ewokscore.events.global_state:[job '25b73062-1f45-4bb3-928b-6af14f8e4a13'] [workflow 'graph_json_dask'] [node 'node_json'] [task 'subworkflows.ExecuteJsonDask'] task started\n",
      "INFO:ewokscore.events.global_state:[job '425f40d1-0aad-483b-8272-783547541f36'] job started\n",
      "INFO:ewokscore.events.global_state:[job '425f40d1-0aad-483b-8272-783547541f36'] [workflow 'graph_subworkflow'] workflow started\n",
      "INFO:ewokscore.events.global_state:[job '425f40d1-0aad-483b-8272-783547541f36'] [workflow 'graph_subworkflow'] [node 'node_proxy'] [task 'subworkflows.ProxyIntegration'] task started\n",
      "INFO:ewokscore.events.global_state:[job '425f40d1-0aad-483b-8272-783547541f36'] [workflow 'graph_subworkflow'] [node 'node_proxy'] [task 'subworkflows.ProxyIntegration'] task finished\n",
      "INFO:ewokscore.events.global_state:[job '425f40d1-0aad-483b-8272-783547541f36'] [workflow 'graph_subworkflow'] [node 'node_config'] [task 'ewoksxrpd.tasks.pyfaiconfig.PyFaiConfig'] task started\n",
      "INFO:ewokscore.events.global_state:[job '425f40d1-0aad-483b-8272-783547541f36'] [workflow 'graph_subworkflow'] [node 'node_config'] [task 'ewoksxrpd.tasks.pyfaiconfig.PyFaiConfig'] task finished\n",
      "INFO:ewokscore.events.global_state:[job '425f40d1-0aad-483b-8272-783547541f36'] [workflow 'graph_subworkflow'] [node 'node_integrate'] [task 'ewoksxrpd.tasks.integrate.Integrate1D'] task started\n",
      "INFO:ewokscore.events.global_state:[job '425f40d1-0aad-483b-8272-783547541f36'] [workflow 'graph_subworkflow'] [node 'node_integrate'] [task 'ewoksxrpd.tasks.integrate.Integrate1D'] task finished\n",
      "INFO:ewokscore.events.global_state:[job '425f40d1-0aad-483b-8272-783547541f36'] [workflow 'graph_subworkflow'] [node 'node_save'] [task 'ewoksxrpd.tasks.ascii.SaveAsciiPattern1D'] task started\n",
      "INFO:ewokscore.events.global_state:[job '425f40d1-0aad-483b-8272-783547541f36'] [workflow 'graph_subworkflow'] [node 'node_save'] [task 'ewoksxrpd.tasks.ascii.SaveAsciiPattern1D'] task finished\n",
      "INFO:ewokscore.events.global_state:[job '425f40d1-0aad-483b-8272-783547541f36'] [workflow 'graph_subworkflow'] workflow finished\n",
      "INFO:ewokscore.events.global_state:[job '425f40d1-0aad-483b-8272-783547541f36'] job finished\n",
      "INFO:ewokscore.events.global_state:[job '25b73062-1f45-4bb3-928b-6af14f8e4a13'] [workflow 'graph_json_dask'] [node 'node_json'] [task 'subworkflows.ExecuteJsonDask'] task finished\n",
      "INFO:ewokscore.events.global_state:[job '25b73062-1f45-4bb3-928b-6af14f8e4a13'] [workflow 'graph_json_dask'] workflow finished\n",
      "INFO:ewokscore.events.global_state:[job '25b73062-1f45-4bb3-928b-6af14f8e4a13'] job finished\n"
     ]
    },
    {
     "name": "stdout",
     "output_type": "stream",
     "text": [
      "WF: ppf, swf: dask: 0.61 s\n"
     ]
    }
   ],
   "source": [
    "os.system(\"rm LaB6_1d.dat\")\n",
    "st = time.perf_counter()\n",
    "execute_graph(\n",
    "    graph=\"execute_dask.json\",\n",
    "    engine=\"ppf\",\n",
    "    inputs=[\n",
    "        {\"name\" : \"json_file\", \"value\" : \"subworkflow.json\", \"id\" : \"node_json\"},\n",
    "        {\"name\" : \"poni_file\", \"value\" : \"lab6.poni\", \"id\" : \"node_json\"},\n",
    "        {\"name\" : \"data_filename\", \"value\" : \"LaB6.edf\", \"id\" : \"node_json\"},\n",
    "    ],\n",
    ")\n",
    "print(f\"WF: ppf, swf: dask: {time.perf_counter() - st:.2f} s\")\n",
    "# ESTE ES EL INTERESANTE, WORKFLOW GENERAL CORRIENDO EN PARALELO, Y CADA UNO DE LOS SUB EN SERIE (DASK)"
   ]
  },
  {
   "cell_type": "code",
   "execution_count": 9,
   "metadata": {},
   "outputs": [
    {
     "name": "stderr",
     "output_type": "stream",
     "text": [
      "INFO:ewokscore.events.global_state:[job '9839f9b6-fff9-470d-af49-953f02b50b05'] job started\n",
      "INFO:ewokscore.events.global_state:[job '9839f9b6-fff9-470d-af49-953f02b50b05'] [workflow 'graph_json_dask'] workflow started\n",
      "INFO:ewokscore.events.global_state:[job '9839f9b6-fff9-470d-af49-953f02b50b05'] [workflow 'graph_json_dask'] [node 'node_json'] [task 'subworkflows.ExecuteJsonDask'] task started\n",
      "INFO:ewokscore.events.global_state:[job '021d21ef-f552-4e2a-abaa-6fe1ac3f8bdd'] job started\n",
      "INFO:ewokscore.events.global_state:[job '021d21ef-f552-4e2a-abaa-6fe1ac3f8bdd'] [workflow 'graph_subworkflow'] workflow started\n",
      "INFO:ewokscore.events.global_state:[job '021d21ef-f552-4e2a-abaa-6fe1ac3f8bdd'] [workflow 'graph_subworkflow'] [node 'node_proxy'] [task 'subworkflows.ProxyIntegration'] task started\n",
      "INFO:ewokscore.events.global_state:[job '021d21ef-f552-4e2a-abaa-6fe1ac3f8bdd'] [workflow 'graph_subworkflow'] [node 'node_proxy'] [task 'subworkflows.ProxyIntegration'] task finished\n",
      "INFO:ewokscore.events.global_state:[job '021d21ef-f552-4e2a-abaa-6fe1ac3f8bdd'] [workflow 'graph_subworkflow'] [node 'node_config'] [task 'ewoksxrpd.tasks.pyfaiconfig.PyFaiConfig'] task started\n",
      "INFO:ewokscore.events.global_state:[job '021d21ef-f552-4e2a-abaa-6fe1ac3f8bdd'] [workflow 'graph_subworkflow'] [node 'node_config'] [task 'ewoksxrpd.tasks.pyfaiconfig.PyFaiConfig'] task finished\n",
      "INFO:ewokscore.events.global_state:[job '021d21ef-f552-4e2a-abaa-6fe1ac3f8bdd'] [workflow 'graph_subworkflow'] [node 'node_integrate'] [task 'ewoksxrpd.tasks.integrate.Integrate1D'] task started\n",
      "INFO:ewokscore.events.global_state:[job '021d21ef-f552-4e2a-abaa-6fe1ac3f8bdd'] [workflow 'graph_subworkflow'] [node 'node_integrate'] [task 'ewoksxrpd.tasks.integrate.Integrate1D'] task finished\n",
      "INFO:ewokscore.events.global_state:[job '021d21ef-f552-4e2a-abaa-6fe1ac3f8bdd'] [workflow 'graph_subworkflow'] [node 'node_save'] [task 'ewoksxrpd.tasks.ascii.SaveAsciiPattern1D'] task started\n",
      "INFO:ewokscore.events.global_state:[job '021d21ef-f552-4e2a-abaa-6fe1ac3f8bdd'] [workflow 'graph_subworkflow'] [node 'node_save'] [task 'ewoksxrpd.tasks.ascii.SaveAsciiPattern1D'] task finished\n",
      "INFO:ewokscore.events.global_state:[job '021d21ef-f552-4e2a-abaa-6fe1ac3f8bdd'] [workflow 'graph_subworkflow'] workflow finished\n",
      "INFO:ewokscore.events.global_state:[job '021d21ef-f552-4e2a-abaa-6fe1ac3f8bdd'] job finished\n",
      "INFO:ewokscore.events.global_state:[job '9839f9b6-fff9-470d-af49-953f02b50b05'] [workflow 'graph_json_dask'] [node 'node_json'] [task 'subworkflows.ExecuteJsonDask'] task finished\n",
      "INFO:ewokscore.events.global_state:[job '9839f9b6-fff9-470d-af49-953f02b50b05'] [workflow 'graph_json_dask'] workflow finished\n",
      "INFO:ewokscore.events.global_state:[job '9839f9b6-fff9-470d-af49-953f02b50b05'] job finished\n"
     ]
    },
    {
     "name": "stdout",
     "output_type": "stream",
     "text": [
      "WF: dask, swf: dask: 0.53 s\n"
     ]
    }
   ],
   "source": [
    "os.system(\"rm LaB6_1d.dat\")\n",
    "st = time.perf_counter()\n",
    "execute_graph(\n",
    "    graph=\"execute_dask.json\",\n",
    "    engine=\"dask\",\n",
    "    inputs=[\n",
    "        {\"name\" : \"json_file\", \"value\" : \"subworkflow.json\", \"id\" : \"node_json\"},\n",
    "        {\"name\" : \"poni_file\", \"value\" : \"lab6.poni\", \"id\" : \"node_json\"},\n",
    "        {\"name\" : \"data_filename\", \"value\" : \"LaB6.edf\", \"id\" : \"node_json\"},\n",
    "    ],\n",
    ")\n",
    "print(f\"WF: dask, swf: dask: {time.perf_counter() - st:.2f} s\")"
   ]
  },
  {
   "cell_type": "code",
   "execution_count": 10,
   "metadata": {},
   "outputs": [
    {
     "name": "stderr",
     "output_type": "stream",
     "text": [
      "INFO:ewokscore.events.global_state:[job '27355821-1e1b-4cbf-a09e-6bebf00c7e93'] job started\n",
      "INFO:ewokscore.events.global_state:[job '27355821-1e1b-4cbf-a09e-6bebf00c7e93'] [workflow 'graph_json_ppf'] workflow started\n",
      "INFO:ewokscore.events.global_state:[job '27355821-1e1b-4cbf-a09e-6bebf00c7e93'] [workflow 'graph_json_ppf'] [node 'node_json'] [task 'subworkflows.ExecuteJsonPPF'] task started\n",
      "INFO:ewokscore.events.global_state:[job '58737c88-8a3d-49a9-aabe-e4db95ddf2b6'] job started\n",
      "INFO:ewokscore.events.global_state:[job '58737c88-8a3d-49a9-aabe-e4db95ddf2b6'] [workflow 'graph_subworkflow'] workflow started\n",
      "INFO:ewokscore.events.global_state:[job '58737c88-8a3d-49a9-aabe-e4db95ddf2b6'] [workflow 'graph_subworkflow'] [node 'node_proxy'] [task 'subworkflows.ProxyIntegration'] task started\n",
      "INFO:ewokscore.events.global_state:[job '58737c88-8a3d-49a9-aabe-e4db95ddf2b6'] [workflow 'graph_subworkflow'] [node 'node_proxy'] [task 'subworkflows.ProxyIntegration'] task finished\n",
      "INFO:ewokscore.events.global_state:[job '58737c88-8a3d-49a9-aabe-e4db95ddf2b6'] [workflow 'graph_subworkflow'] [node 'node_config'] [task 'ewoksxrpd.tasks.pyfaiconfig.PyFaiConfig'] task started\n",
      "INFO:ewokscore.events.global_state:[job '58737c88-8a3d-49a9-aabe-e4db95ddf2b6'] [workflow 'graph_subworkflow'] [node 'node_config'] [task 'ewoksxrpd.tasks.pyfaiconfig.PyFaiConfig'] task finished\n",
      "INFO:ewokscore.events.global_state:[job '58737c88-8a3d-49a9-aabe-e4db95ddf2b6'] [workflow 'graph_subworkflow'] [node 'node_integrate'] [task 'ewoksxrpd.tasks.integrate.Integrate1D'] task started\n",
      "INFO:ewokscore.events.global_state:[job '58737c88-8a3d-49a9-aabe-e4db95ddf2b6'] [workflow 'graph_subworkflow'] [node 'node_integrate'] [task 'ewoksxrpd.tasks.integrate.Integrate1D'] task finished\n",
      "INFO:ewokscore.events.global_state:[job '58737c88-8a3d-49a9-aabe-e4db95ddf2b6'] [workflow 'graph_subworkflow'] [node 'node_save'] [task 'ewoksxrpd.tasks.ascii.SaveAsciiPattern1D'] task started\n",
      "INFO:ewokscore.events.global_state:[job '58737c88-8a3d-49a9-aabe-e4db95ddf2b6'] [workflow 'graph_subworkflow'] [node 'node_save'] [task 'ewoksxrpd.tasks.ascii.SaveAsciiPattern1D'] task finished\n",
      "INFO:ewokscore.events.global_state:[job '58737c88-8a3d-49a9-aabe-e4db95ddf2b6'] [workflow 'graph_subworkflow'] workflow finished\n",
      "INFO:ewokscore.events.global_state:[job '58737c88-8a3d-49a9-aabe-e4db95ddf2b6'] job finished\n",
      "INFO:ewokscore.events.global_state:[job '27355821-1e1b-4cbf-a09e-6bebf00c7e93'] [workflow 'graph_json_ppf'] [node 'node_json'] [task 'subworkflows.ExecuteJsonPPF'] task finished\n",
      "INFO:ewokscore.events.global_state:[job '27355821-1e1b-4cbf-a09e-6bebf00c7e93'] [workflow 'graph_json_ppf'] workflow finished\n",
      "INFO:ewokscore.events.global_state:[job '27355821-1e1b-4cbf-a09e-6bebf00c7e93'] job finished\n"
     ]
    },
    {
     "name": "stdout",
     "output_type": "stream",
     "text": [
      "WF: dask, swf: ppf: 1.03 s\n"
     ]
    }
   ],
   "source": [
    "os.system(\"rm LaB6_1d.dat\")\n",
    "st = time.perf_counter()\n",
    "execute_graph(\n",
    "    graph=\"execute_ppf.json\",\n",
    "    engine=\"dask\",\n",
    "    inputs=[\n",
    "        {\"name\" : \"json_file\", \"value\" : \"subworkflow.json\", \"id\" : \"node_json\"},\n",
    "        {\"name\" : \"poni_file\", \"value\" : \"lab6.poni\", \"id\" : \"node_json\"},\n",
    "        {\"name\" : \"data_filename\", \"value\" : \"LaB6.edf\", \"id\" : \"node_json\"},\n",
    "    ],\n",
    ")\n",
    "print(f\"WF: dask, swf: ppf: {time.perf_counter() - st:.2f} s\")"
   ]
  },
  {
   "cell_type": "code",
   "execution_count": null,
   "metadata": {},
   "outputs": [],
   "source": []
  },
  {
   "cell_type": "code",
   "execution_count": null,
   "metadata": {},
   "outputs": [],
   "source": []
  },
  {
   "cell_type": "code",
   "execution_count": 12,
   "metadata": {},
   "outputs": [],
   "source": [
    "from pyFAI import load"
   ]
  },
  {
   "cell_type": "code",
   "execution_count": 13,
   "metadata": {},
   "outputs": [],
   "source": [
    "ai = load(\"lab6.poni\")"
   ]
  },
  {
   "cell_type": "code",
   "execution_count": 17,
   "metadata": {},
   "outputs": [
    {
     "data": {
      "text/plain": [
       "<pyFAI.ext.splitBBoxCSR.HistoBBox1d at 0x4412810>"
      ]
     },
     "execution_count": 17,
     "metadata": {},
     "output_type": "execute_result"
    }
   ],
   "source": [
    "ai.setup_sparse_integrator(shape=ai.detector.shape, npt=2000)"
   ]
  },
  {
   "cell_type": "code",
   "execution_count": null,
   "metadata": {},
   "outputs": [],
   "source": []
  },
  {
   "cell_type": "code",
   "execution_count": null,
   "metadata": {},
   "outputs": [],
   "source": []
  },
  {
   "cell_type": "code",
   "execution_count": null,
   "metadata": {},
   "outputs": [],
   "source": []
  },
  {
   "cell_type": "code",
   "execution_count": null,
   "metadata": {},
   "outputs": [],
   "source": []
  },
  {
   "cell_type": "code",
   "execution_count": null,
   "metadata": {},
   "outputs": [],
   "source": []
  }
 ],
 "metadata": {
  "kernelspec": {
   "display_name": "py312",
   "language": "python",
   "name": "python3"
  },
  "language_info": {
   "codemirror_mode": {
    "name": "ipython",
    "version": 3
   },
   "file_extension": ".py",
   "mimetype": "text/x-python",
   "name": "python",
   "nbconvert_exporter": "python",
   "pygments_lexer": "ipython3",
   "version": "3.12.0"
  }
 },
 "nbformat": 4,
 "nbformat_minor": 2
}
