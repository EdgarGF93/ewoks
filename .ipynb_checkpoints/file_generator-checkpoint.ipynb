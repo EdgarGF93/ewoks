{
 "cells": [
  {
   "cell_type": "code",
   "execution_count": 1,
   "id": "a8519b17-f6e9-4e88-a743-fa370b5b0938",
   "metadata": {},
   "outputs": [],
   "source": [
    "import numpy as np\n",
    "import h5py\n",
    "from pyFAI import detector_factory\n",
    "from pyFAI.azimuthalIntegrator import AzimuthalIntegrator\n",
    "from pyFAI.calibrant import get_calibrant\n",
    "from pyFAI.gui import jupyter\n",
    "from pyFAI.io.ponifile import PoniFile\n",
    "import hdf5plugin\n",
    "import time\n",
    "import fabio"
   ]
  },
  {
   "cell_type": "code",
   "execution_count": 2,
   "id": "54aa7420-ceba-4241-8e64-de280d872be2",
   "metadata": {},
   "outputs": [],
   "source": [
    "ai = AzimuthalIntegrator(detector=detector_factory(\"Pilatus1M\"), dist=0.1, poni1=0.05, poni2=0.05, wavelength=1e-10)"
   ]
  },
  {
   "cell_type": "code",
   "execution_count": 4,
   "id": "4bad0953-4be7-4a6b-80b7-988a11300844",
   "metadata": {},
   "outputs": [],
   "source": [
    "ai.save(\"p1m.poni\")"
   ]
  },
  {
   "cell_type": "code",
   "execution_count": 6,
   "id": "f18ed479-e1d3-40a0-be27-8ccb0652c163",
   "metadata": {},
   "outputs": [],
   "source": [
    "cal = get_calibrant(calibrant_name=\"LaB6\")\n",
    "fake_data = cal.fake_calibration_image(ai=ai)\n",
    "fake_data = np.asarray(fake_data, \"float32\")"
   ]
  },
  {
   "cell_type": "code",
   "execution_count": 9,
   "id": "dc8b48db-37ad-45f7-b8bf-dcfaa29dde2c",
   "metadata": {},
   "outputs": [],
   "source": [
    "for ind in range(100):\n",
    "    container = fabio.edfimage.EdfImage(data=fake_data)\n",
    "    container.write(f\"/data/bm28/inhouse/Edgar/data_ewoks/P1M/p1m_{ind:04}.edf\")"
   ]
  },
  {
   "cell_type": "code",
   "execution_count": null,
   "id": "4f48809a-0bbc-4897-bb35-29e910bc3055",
   "metadata": {},
   "outputs": [],
   "source": []
  },
  {
   "cell_type": "code",
   "execution_count": null,
   "id": "5e1defb8-fca7-40cd-a8f2-da114bfdbaa4",
   "metadata": {},
   "outputs": [],
   "source": []
  },
  {
   "cell_type": "code",
   "execution_count": null,
   "id": "d342a24f-c139-4389-9235-dd32fcc985c6",
   "metadata": {},
   "outputs": [],
   "source": []
  },
  {
   "cell_type": "code",
   "execution_count": null,
   "id": "314d78b0-faae-4aa3-a057-904f261ba05a",
   "metadata": {},
   "outputs": [],
   "source": []
  },
  {
   "cell_type": "code",
   "execution_count": null,
   "id": "4a3a6609-3c96-48e7-bb22-a8acbdb475b2",
   "metadata": {},
   "outputs": [],
   "source": []
  },
  {
   "cell_type": "code",
   "execution_count": null,
   "id": "a19b8bb2-8b34-4a49-ad9a-30e5dcbf26e2",
   "metadata": {},
   "outputs": [],
   "source": []
  },
  {
   "cell_type": "code",
   "execution_count": null,
   "id": "78c456d6-24f1-4019-917c-e7f6712da021",
   "metadata": {},
   "outputs": [],
   "source": []
  },
  {
   "cell_type": "code",
   "execution_count": null,
   "id": "7cae1758-d15e-4faa-94bc-f0b25baa9c39",
   "metadata": {},
   "outputs": [],
   "source": []
  },
  {
   "cell_type": "code",
   "execution_count": 1,
   "id": "3d03bc78-fba8-4655-8769-c32ae6cf72d4",
   "metadata": {},
   "outputs": [],
   "source": [
    "import fabio"
   ]
  },
  {
   "cell_type": "code",
   "execution_count": 2,
   "id": "11390389-4651-417b-b882-3161260bb27f",
   "metadata": {},
   "outputs": [],
   "source": [
    "container = fabio.open(\"data/LaB6.edf\")\n",
    "for ind in range(1000):\n",
    "    container.write(f\"edf_data/kk_{ind:04}.edf\")"
   ]
  },
  {
   "cell_type": "code",
   "execution_count": null,
   "id": "bc1c01ec",
   "metadata": {},
   "outputs": [],
   "source": []
  },
  {
   "cell_type": "code",
   "execution_count": 12,
   "id": "a8f74ad5-8ae3-410f-ad16-2c8100170bf5",
   "metadata": {},
   "outputs": [],
   "source": [
    "FILE_10 = \"p1m_dummy_10frames.h5\"\n",
    "FILE_100 = \"p1m_dummy_100frames.h5\"\n",
    "FILE_1000 = \"p1m_dummy_1000frames.h5\""
   ]
  },
  {
   "cell_type": "code",
   "execution_count": 4,
   "id": "b5fc8170-56db-4193-924c-b6d9807c470b",
   "metadata": {},
   "outputs": [
    {
     "name": "stdout",
     "output_type": "stream",
     "text": [
      "CPU times: user 493 ms, sys: 318 ms, total: 810 ms\n",
      "Wall time: 2.56 s\n"
     ]
    }
   ],
   "source": [
    "%%time\n",
    "with h5py.File(FILE_100, \"w\") as f:\n",
    "    entry = f.create_group(\"entry_0000\")\n",
    "    measurement = entry.create_group(\"measurement\")\n",
    "    list_arrays = [fake_data for _ in range(100)]\n",
    "    dataset = np.stack(list_arrays, axis=0)\n",
    "    measurement.create_dataset(name=\"data\", data=dataset, **hdf5plugin.Bitshuffle())"
   ]
  },
  {
   "cell_type": "code",
   "execution_count": 5,
   "id": "d0748e45-6c98-43cb-a3a2-b65d9571ccc7",
   "metadata": {},
   "outputs": [
    {
     "name": "stdout",
     "output_type": "stream",
     "text": [
      "CPU times: user 4.45 s, sys: 2.74 s, total: 7.19 s\n",
      "Wall time: 26.9 s\n"
     ]
    }
   ],
   "source": [
    "%%time\n",
    "with h5py.File(FILE_1000, \"w\") as f:\n",
    "    entry = f.create_group(\"entry_0000\")\n",
    "    measurement = entry.create_group(\"measurement\")\n",
    "    list_arrays = [fake_data for _ in range(1000)]\n",
    "    dataset = np.stack(list_arrays, axis=0)\n",
    "    measurement.create_dataset(name=\"data\", data=dataset, **hdf5plugin.Bitshuffle())"
   ]
  },
  {
   "cell_type": "code",
   "execution_count": 13,
   "id": "13908bd3-85fe-4ad9-ad25-4bfba79e4899",
   "metadata": {},
   "outputs": [
    {
     "name": "stdout",
     "output_type": "stream",
     "text": [
      "CPU times: user 49.1 ms, sys: 37.8 ms, total: 86.8 ms\n",
      "Wall time: 85 ms\n"
     ]
    }
   ],
   "source": [
    "%%time\n",
    "with h5py.File(FILE_10, \"w\") as f:\n",
    "    entry = f.create_group(\"entry_0000\")\n",
    "    measurement = entry.create_group(\"measurement\")\n",
    "    list_arrays = [fake_data for _ in range(10)]\n",
    "    dataset = np.stack(list_arrays, axis=0)\n",
    "    measurement.create_dataset(name=\"data\", data=dataset, **hdf5plugin.Bitshuffle())"
   ]
  },
  {
   "cell_type": "code",
   "execution_count": null,
   "id": "6d5117cc-83df-4436-b371-59eebc1c179e",
   "metadata": {},
   "outputs": [],
   "source": []
  },
  {
   "cell_type": "code",
   "execution_count": null,
   "id": "1ba1b77d-2cf7-4e2b-940a-7475b8d665df",
   "metadata": {},
   "outputs": [],
   "source": []
  },
  {
   "cell_type": "code",
   "execution_count": null,
   "id": "404c0af9-1c11-4568-9235-0efe1f60e5e5",
   "metadata": {},
   "outputs": [],
   "source": []
  },
  {
   "cell_type": "code",
   "execution_count": null,
   "id": "95a2b689-a61e-4f81-b6aa-e5c8223fa868",
   "metadata": {},
   "outputs": [],
   "source": []
  }
 ],
 "metadata": {
  "kernelspec": {
   "display_name": "Python 3 (ipykernel)",
   "language": "python",
   "name": "python3"
  },
  "language_info": {
   "codemirror_mode": {
    "name": "ipython",
    "version": 3
   },
   "file_extension": ".py",
   "mimetype": "text/x-python",
   "name": "python",
   "nbconvert_exporter": "python",
   "pygments_lexer": "ipython3",
   "version": "3.12.0"
  }
 },
 "nbformat": 4,
 "nbformat_minor": 5
}
