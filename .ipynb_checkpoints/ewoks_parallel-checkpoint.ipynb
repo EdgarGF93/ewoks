{
 "cells": [
  {
   "cell_type": "code",
   "execution_count": 24,
   "id": "a8519b17-f6e9-4e88-a743-fa370b5b0938",
   "metadata": {},
   "outputs": [],
   "source": [
    "import numpy as np\n",
    "import h5py\n",
    "from pyFAI import detector_factory\n",
    "from pyFAI.azimuthalIntegrator import AzimuthalIntegrator\n",
    "from pyFAI.calibrant import get_calibrant\n",
    "from pyFAI.gui import jupyter\n",
    "from pyFAI.io.ponifile import PoniFile\n",
    "import hdf5plugin\n",
    "import time"
   ]
  },
  {
   "cell_type": "code",
   "execution_count": 2,
   "id": "b58d2db6-202d-4596-8776-305e52f84267",
   "metadata": {},
   "outputs": [],
   "source": [
    "det = detector_factory(\"Pilatus1M\")\n",
    "cal = get_calibrant(calibrant_name=\"LaB6\")\n",
    "ai = AzimuthalIntegrator(detector=det, wavelength=1e-10, dist=0.1, poni1=0.1, poni2=0.1)\n",
    "fake_data = cal.fake_calibration_image(ai=ai)\n",
    "fake_data = np.asarray(fake_data, \"float32\")"
   ]
  },
  {
   "cell_type": "code",
   "execution_count": 12,
   "id": "a8f74ad5-8ae3-410f-ad16-2c8100170bf5",
   "metadata": {},
   "outputs": [],
   "source": [
    "FILE_10 = \"p1m_dummy_10frames.h5\"\n",
    "FILE_100 = \"p1m_dummy_100frames.h5\"\n",
    "FILE_1000 = \"p1m_dummy_1000frames.h5\""
   ]
  },
  {
   "cell_type": "code",
   "execution_count": 4,
   "id": "b5fc8170-56db-4193-924c-b6d9807c470b",
   "metadata": {},
   "outputs": [
    {
     "name": "stdout",
     "output_type": "stream",
     "text": [
      "CPU times: user 493 ms, sys: 318 ms, total: 810 ms\n",
      "Wall time: 2.56 s\n"
     ]
    }
   ],
   "source": [
    "%%time\n",
    "with h5py.File(FILE_100, \"w\") as f:\n",
    "    entry = f.create_group(\"entry_0000\")\n",
    "    measurement = entry.create_group(\"measurement\")\n",
    "    list_arrays = [fake_data for _ in range(100)]\n",
    "    dataset = np.stack(list_arrays, axis=0)\n",
    "    measurement.create_dataset(name=\"data\", data=dataset, **hdf5plugin.Bitshuffle())"
   ]
  },
  {
   "cell_type": "code",
   "execution_count": 5,
   "id": "d0748e45-6c98-43cb-a3a2-b65d9571ccc7",
   "metadata": {},
   "outputs": [
    {
     "name": "stdout",
     "output_type": "stream",
     "text": [
      "CPU times: user 4.45 s, sys: 2.74 s, total: 7.19 s\n",
      "Wall time: 26.9 s\n"
     ]
    }
   ],
   "source": [
    "%%time\n",
    "with h5py.File(FILE_1000, \"w\") as f:\n",
    "    entry = f.create_group(\"entry_0000\")\n",
    "    measurement = entry.create_group(\"measurement\")\n",
    "    list_arrays = [fake_data for _ in range(1000)]\n",
    "    dataset = np.stack(list_arrays, axis=0)\n",
    "    measurement.create_dataset(name=\"data\", data=dataset, **hdf5plugin.Bitshuffle())"
   ]
  },
  {
   "cell_type": "code",
   "execution_count": 13,
   "id": "13908bd3-85fe-4ad9-ad25-4bfba79e4899",
   "metadata": {},
   "outputs": [
    {
     "name": "stdout",
     "output_type": "stream",
     "text": [
      "CPU times: user 49.1 ms, sys: 37.8 ms, total: 86.8 ms\n",
      "Wall time: 85 ms\n"
     ]
    }
   ],
   "source": [
    "%%time\n",
    "with h5py.File(FILE_10, \"w\") as f:\n",
    "    entry = f.create_group(\"entry_0000\")\n",
    "    measurement = entry.create_group(\"measurement\")\n",
    "    list_arrays = [fake_data for _ in range(10)]\n",
    "    dataset = np.stack(list_arrays, axis=0)\n",
    "    measurement.create_dataset(name=\"data\", data=dataset, **hdf5plugin.Bitshuffle())"
   ]
  },
  {
   "cell_type": "code",
   "execution_count": null,
   "id": "6d5117cc-83df-4436-b371-59eebc1c179e",
   "metadata": {},
   "outputs": [],
   "source": []
  },
  {
   "cell_type": "code",
   "execution_count": null,
   "id": "1ba1b77d-2cf7-4e2b-940a-7475b8d665df",
   "metadata": {},
   "outputs": [],
   "source": []
  },
  {
   "cell_type": "code",
   "execution_count": null,
   "id": "404c0af9-1c11-4568-9235-0efe1f60e5e5",
   "metadata": {},
   "outputs": [],
   "source": []
  },
  {
   "cell_type": "code",
   "execution_count": 14,
   "id": "c0616172-6849-429b-a800-584688caef3f",
   "metadata": {},
   "outputs": [],
   "source": [
    "a = [0,1,2,3,4,5,6,7,8,9]"
   ]
  },
  {
   "cell_type": "code",
   "execution_count": 15,
   "id": "fea76315-9296-4b0f-8450-9f2194b9c342",
   "metadata": {},
   "outputs": [
    {
     "data": {
      "text/plain": [
       "10"
      ]
     },
     "execution_count": 15,
     "metadata": {},
     "output_type": "execute_result"
    }
   ],
   "source": [
    "len(a)"
   ]
  },
  {
   "cell_type": "code",
   "execution_count": 16,
   "id": "cc0c2272-0c45-41c4-8915-e7f83df42b46",
   "metadata": {},
   "outputs": [
    {
     "data": {
      "text/plain": [
       "[0, 1, 2]"
      ]
     },
     "execution_count": 16,
     "metadata": {},
     "output_type": "execute_result"
    }
   ],
   "source": [
    "a[0:3]"
   ]
  },
  {
   "cell_type": "code",
   "execution_count": 17,
   "id": "e9990065-a2e4-40d0-a7bb-49e920f3cfd4",
   "metadata": {},
   "outputs": [],
   "source": [
    "size = 3"
   ]
  },
  {
   "cell_type": "code",
   "execution_count": 20,
   "id": "ff201776-2bc4-49ba-84b9-8fd8c5dc9769",
   "metadata": {},
   "outputs": [
    {
     "name": "stdout",
     "output_type": "stream",
     "text": [
      "[0, 1, 2]\n",
      "[3, 4, 5]\n",
      "[6, 7, 8]\n",
      "[9]\n",
      "[]\n",
      "[]\n",
      "[]\n",
      "[]\n",
      "[]\n",
      "[]\n"
     ]
    }
   ],
   "source": []
  },
  {
   "cell_type": "code",
   "execution_count": null,
   "id": "297923b0-5104-4ac6-9be5-7fd92a37776c",
   "metadata": {},
   "outputs": [],
   "source": []
  },
  {
   "cell_type": "code",
   "execution_count": 22,
   "id": "25e643d3-03ff-4dc6-8de9-5e58ca6e5a18",
   "metadata": {},
   "outputs": [
    {
     "name": "stdout",
     "output_type": "stream",
     "text": [
      "3\n",
      "3\n",
      "3\n",
      "1\n",
      "0\n",
      "0\n",
      "0\n",
      "0\n",
      "0\n",
      "0\n"
     ]
    }
   ],
   "source": [
    "with h5py.File(FILE_10, \"r+\") as f:\n",
    "    full_dataset = f[\"entry_0000\"][\"measurement\"][\"data\"]\n",
    "    for n in range(10):\n",
    "        frame_range = [n * size, (n + 1) * size]\n",
    "        dataset = full_dataset[frame_range[0]:frame_range[1]]\n",
    "        print(len(dataset))\n",
    "        \n",
    "    # list_arrays = [fake_data for _ in range(10)]"
   ]
  },
  {
   "cell_type": "code",
   "execution_count": 23,
   "id": "c997d91f-2178-4395-9ec3-677aeb2d96fb",
   "metadata": {},
   "outputs": [
    {
     "data": {
      "text/plain": [
       "Detector Pilatus 1M\t PixelSize= 1.720e-04, 1.720e-04 m\t BottomRight (3)\n",
       "Wavelength= 1.000000e-10 m\n",
       "SampleDetDist= 1.000000e-01 m\tPONI= 1.000000e-01, 1.000000e-01 m\trot1=0.000000  rot2=0.000000  rot3=0.000000 rad\n",
       "DirectBeamDist= 100.000 mm\tCenter: x=581.395, y=581.395 pix\tTilt= 0.000° tiltPlanRotation= 0.000° 𝛌= 1.000Å"
      ]
     },
     "execution_count": 23,
     "metadata": {},
     "output_type": "execute_result"
    }
   ],
   "source": []
  },
  {
   "cell_type": "code",
   "execution_count": 25,
   "id": "68ec9e62-e57d-4bb6-abec-09877e1462ed",
   "metadata": {},
   "outputs": [],
   "source": [
    "poni = PoniFile(ai)"
   ]
  },
  {
   "cell_type": "code",
   "execution_count": 29,
   "id": "f783f023-05fc-4ea0-ad54-8d2e2ef10511",
   "metadata": {},
   "outputs": [],
   "source": [
    "with open(\"fake_poni.poni\", \"w\") as fp:\n",
    "    poni.write(fp)"
   ]
  },
  {
   "cell_type": "code",
   "execution_count": null,
   "id": "ecaa523f-de67-48bf-86e2-1149770e4946",
   "metadata": {},
   "outputs": [],
   "source": []
  },
  {
   "cell_type": "code",
   "execution_count": null,
   "id": "160ea630-0111-47f9-8392-4dabfc5a7d1c",
   "metadata": {},
   "outputs": [],
   "source": []
  }
 ],
 "metadata": {
  "kernelspec": {
   "display_name": "Python 3 (ipykernel)",
   "language": "python",
   "name": "python3"
  },
  "language_info": {
   "codemirror_mode": {
    "name": "ipython",
    "version": 3
   },
   "file_extension": ".py",
   "mimetype": "text/x-python",
   "name": "python",
   "nbconvert_exporter": "python",
   "pygments_lexer": "ipython3",
   "version": "3.12.0"
  }
 },
 "nbformat": 4,
 "nbformat_minor": 5
}
