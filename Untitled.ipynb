{
 "cells": [
  {
   "cell_type": "code",
   "execution_count": 1,
   "id": "ea8d3b28-a135-40e2-88b0-49048aad428a",
   "metadata": {},
   "outputs": [],
   "source": [
    "from pyFAI import load\n",
    "from pyFAI.worker import Worker\n",
    "import fabio"
   ]
  },
  {
   "cell_type": "code",
   "execution_count": 2,
   "id": "285b1c4c-cdd3-432a-a064-c66d24572f4e",
   "metadata": {},
   "outputs": [],
   "source": [
    "ai = load(\"data/lab6.poni\")"
   ]
  },
  {
   "cell_type": "code",
   "execution_count": 3,
   "id": "0ee07637-f166-493a-9faf-43527ef0ced3",
   "metadata": {},
   "outputs": [],
   "source": [
    "worker = Worker()"
   ]
  },
  {
   "cell_type": "code",
   "execution_count": 4,
   "id": "3444c195-4748-462c-8175-130e4c95b344",
   "metadata": {},
   "outputs": [],
   "source": [
    "worker.set_json_config(\"ewoks_config.json\")"
   ]
  },
  {
   "cell_type": "code",
   "execution_count": 5,
   "id": "78094091-aa18-4fb7-8e3a-2f99c13e6281",
   "metadata": {},
   "outputs": [
    {
     "name": "stdout",
     "output_type": "stream",
     "text": [
      "ctx es None\n",
      "devicetype is all\n",
      "platformid is 0\n",
      "deviceid is 0\n",
      "memory is None\n",
      "<class 'silx.opencl.common.OpenCL'>\n",
      "folaaa\n",
      "[<pyopencl.Platform 'NVIDIA CUDA' at 0x426aaf0>, <pyopencl.Platform 'Portable Computing Language' at 0x7fa37a61c020>]\n",
      "aidos\n",
      "hola\n"
     ]
    },
    {
     "data": {
      "text/plain": [
       "array([[5.00000060e-03, 0.00000000e+00],\n",
       "       [1.50000018e-02, 0.00000000e+00],\n",
       "       [2.50000030e-02, 0.00000000e+00],\n",
       "       ...,\n",
       "       [1.99750024e+01, 1.77061672e+01],\n",
       "       [1.99850024e+01, 1.76209583e+01],\n",
       "       [1.99950024e+01, 1.76105061e+01]])"
      ]
     },
     "execution_count": 5,
     "metadata": {},
     "output_type": "execute_result"
    }
   ],
   "source": [
    "worker.process(data=fabio.open(\"edf_data/kk_0000.edf\").data)"
   ]
  },
  {
   "cell_type": "code",
   "execution_count": null,
   "id": "d8418230-4aed-4028-890d-883cdaaba66b",
   "metadata": {},
   "outputs": [],
   "source": []
  }
 ],
 "metadata": {
  "kernelspec": {
   "display_name": "Python 3 (ipykernel)",
   "language": "python",
   "name": "python3"
  },
  "language_info": {
   "codemirror_mode": {
    "name": "ipython",
    "version": 3
   },
   "file_extension": ".py",
   "mimetype": "text/x-python",
   "name": "python",
   "nbconvert_exporter": "python",
   "pygments_lexer": "ipython3",
   "version": "3.12.0"
  }
 },
 "nbformat": 4,
 "nbformat_minor": 5
}
